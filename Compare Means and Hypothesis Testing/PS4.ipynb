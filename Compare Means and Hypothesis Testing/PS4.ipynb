{
 "cells": [
  {
   "cell_type": "markdown",
   "id": "a862e0eb-eb19-49e9-9c90-feaab78f3885",
   "metadata": {},
   "source": [
    "# Simulations (50pt)"
   ]
  },
  {
   "cell_type": "markdown",
   "id": "b654e931-d252-4e17-91ef-e036c29f7c50",
   "metadata": {},
   "source": [
    "    You will proceed as follows: first, you compute the difference between the average admission chance for students with and without research experience. Thereafter you create two samples of random normal numbers, similar to data above, using the mean and standard deviation over all students (whatever their research experience). Call one of these samples “fake researchers” and the other “fake non-researchers”. What is the difference of means of these two groups? And now you repeat this exercise many-many times and see if you can get as big a difference between the fake researchers and fake non-researchers as there is between real researchers and real non-researchers."
   ]
  },
  {
   "cell_type": "code",
   "execution_count": 1,
   "id": "35ea276b-cd95-4566-9241-3d4f5e9ebcaa",
   "metadata": {},
   "outputs": [],
   "source": [
    "# Import packages\n",
    "import pandas as pd\n",
    "import numpy as np\n",
    "import matplotlib.pyplot as plt\n",
    "import math\n",
    "from scipy.stats import ttest_ind"
   ]
  },
  {
   "cell_type": "markdown",
   "id": "3f217af9-ac8a-4ee2-aed1-a3f26464f281",
   "metadata": {},
   "source": [
    "    1. (2pt) load data college-admissions.csv. You only need variables Research and Chance to Admit. You are welcome to delete all other variables right here. \n",
    "    Perform basic description of data: what is the number of observations? Are there any missings or otherwise invalid entries?"
   ]
  },
  {
   "cell_type": "code",
   "execution_count": 2,
   "id": "93f4263f-45b6-434d-9d75-c26fe5b1c0d5",
   "metadata": {},
   "outputs": [
    {
     "name": "stdout",
     "output_type": "stream",
     "text": [
      "Number of rows: 400\n",
      "Number of columns: 2\n",
      "Number of missings or invalid entries in each column:\n",
      "Research           0\n",
      "Chance of Admit    0\n",
      "dtype: int64\n"
     ]
    },
    {
     "data": {
      "text/html": [
       "<div>\n",
       "<style scoped>\n",
       "    .dataframe tbody tr th:only-of-type {\n",
       "        vertical-align: middle;\n",
       "    }\n",
       "\n",
       "    .dataframe tbody tr th {\n",
       "        vertical-align: top;\n",
       "    }\n",
       "\n",
       "    .dataframe thead th {\n",
       "        text-align: right;\n",
       "    }\n",
       "</style>\n",
       "<table border=\"1\" class=\"dataframe\">\n",
       "  <thead>\n",
       "    <tr style=\"text-align: right;\">\n",
       "      <th></th>\n",
       "      <th>Research</th>\n",
       "      <th>Chance of Admit</th>\n",
       "    </tr>\n",
       "  </thead>\n",
       "  <tbody>\n",
       "    <tr>\n",
       "      <th>0</th>\n",
       "      <td>1</td>\n",
       "      <td>0.92</td>\n",
       "    </tr>\n",
       "    <tr>\n",
       "      <th>1</th>\n",
       "      <td>1</td>\n",
       "      <td>0.76</td>\n",
       "    </tr>\n",
       "    <tr>\n",
       "      <th>2</th>\n",
       "      <td>1</td>\n",
       "      <td>0.72</td>\n",
       "    </tr>\n",
       "    <tr>\n",
       "      <th>3</th>\n",
       "      <td>1</td>\n",
       "      <td>0.80</td>\n",
       "    </tr>\n",
       "    <tr>\n",
       "      <th>4</th>\n",
       "      <td>0</td>\n",
       "      <td>0.65</td>\n",
       "    </tr>\n",
       "  </tbody>\n",
       "</table>\n",
       "</div>"
      ],
      "text/plain": [
       "   Research  Chance of Admit\n",
       "0         1             0.92\n",
       "1         1             0.76\n",
       "2         1             0.72\n",
       "3         1             0.80\n",
       "4         0             0.65"
      ]
     },
     "execution_count": 2,
     "metadata": {},
     "output_type": "execute_result"
    }
   ],
   "source": [
    "# Load the dataset\n",
    "admission_df = pd.read_csv('/home/jovyan/PS/data/college-admissions.csv', sep=',')\n",
    "# Extract the columns that are going to be used in PS\n",
    "admission_df = admission_df[['Research', 'Chance of Admit ']]\n",
    "# Get rid of the space after 'Admit' in the original dataframe for convenience\n",
    "admission_df.rename(columns={'Chance of Admit ': 'Chance of Admit'}, inplace=True)\n",
    "# Print the basic description of data\n",
    "print('Number of rows:', admission_df.shape[0])\n",
    "print('Number of columns:', admission_df.shape[1])\n",
    "print('Number of missings or invalid entries in each column:')\n",
    "print(admission_df.isna().sum())\n",
    "admission_df.head(5)"
   ]
  },
  {
   "cell_type": "markdown",
   "id": "9b3f986f-9122-4723-bcb8-b162db3a820c",
   "metadata": {},
   "source": [
    "    2. (3pt) Describe the admission probability: compute its mean, median, standard deviation, and range. According to these figures, which students are more likely to be admitted–researchers or non-researchers?"
   ]
  },
  {
   "cell_type": "code",
   "execution_count": 3,
   "id": "8fc33fbf-dcce-4e3d-8139-f6c1cac08cff",
   "metadata": {},
   "outputs": [
    {
     "name": "stdout",
     "output_type": "stream",
     "text": [
      "Researcher Admission Summary Stat:\n",
      "Mean of admission probability for researchers: 0.7959817351598172\n",
      "Median of admission probability for researchers: 0.8\n",
      "Standard deviation of admission for researchers: 0.12305111802221343\n",
      "Range of admission probability for researchers: 0.6299999999999999\n",
      "\n",
      "Non-Researcher Admission Summary Stat:\n",
      "Mean of admission probability for non-researchers: 0.6376795580110497\n",
      "Median of admission probability for non-researchers: 0.65\n",
      "Standard deviation of admission for non-researchers: 0.11378404043441828\n",
      "Range of admission probability for non-researchers: 0.55\n"
     ]
    }
   ],
   "source": [
    "# Filter the observations by researcher and non-researcher\n",
    "researcher_admit = admission_df[(admission_df.Research == 1)]\n",
    "researcher_admit = researcher_admit['Chance of Admit']\n",
    "non_researcher_admit = admission_df[(admission_df.Research == 0)]\n",
    "non_researcher_admit = non_researcher_admit['Chance of Admit']\n",
    "# Compute mean, median, standard deviation, range for reseacher admission probability\n",
    "print('Researcher Admission Summary Stat:')\n",
    "print('Mean of admission probability for researchers:', researcher_admit.mean())\n",
    "print('Median of admission probability for researchers:', researcher_admit.median())\n",
    "print('Standard deviation of admission for researchers:', researcher_admit.std())\n",
    "print('Range of admission probability for researchers:', researcher_admit.max() - admission_df['Chance of Admit'].min())\n",
    "# Compute mean, median, standard deviation, range for non-reseacher admission probability\n",
    "print()\n",
    "print('Non-Researcher Admission Summary Stat:')\n",
    "print('Mean of admission probability for non-researchers:', non_researcher_admit.mean())\n",
    "print('Median of admission probability for non-researchers:', non_researcher_admit.median())\n",
    "print('Standard deviation of admission for non-researchers:', non_researcher_admit.std())\n",
    "print('Range of admission probability for non-researchers:', non_researcher_admit.max() - admission_df['Chance of Admit'].min())"
   ]
  },
  {
   "cell_type": "markdown",
   "id": "6c8a930b-862e-4cbf-af78-8299a25aa5bb",
   "metadata": {},
   "source": [
    "From the summary statistics, it appears that researchers are more likely to be admitted because the mean and median probability for researchers are higher than those of non-researchers. The standard diviation and range for both groups are rather similar so does not make too much of an impact. Based on the mean and median, it seems like researchers are more likely to be admitted."
   ]
  },
  {
   "cell_type": "markdown",
   "id": "7f61d3bb-a74c-45af-8e5c-50edc44a0780",
   "metadata": {},
   "source": [
    "    3. (3pt) Below, we are going to do t-test. However, t-test works best if the data is normally distributed. Analyze the shape of the distributions for both researchers and non-researchers on a histogram. Comment its shape. Do you think the chances are normally distributed?"
   ]
  },
  {
   "cell_type": "code",
   "execution_count": 4,
   "id": "b1f48a8b-5833-41ce-991c-b18470957b57",
   "metadata": {},
   "outputs": [
    {
     "data": {
      "image/png": "[encoded data removed]",
      "text/plain": [
       "<Figure size 432x288 with 1 Axes>"
      ]
     },
     "metadata": {
      "needs_background": "light"
     },
     "output_type": "display_data"
    }
   ],
   "source": [
    "# Plot the researcher admission probabilities\n",
    "plt.hist(researcher_admit, edgecolor = 'w')\n",
    "plt.title('Histogram of Researcher Admission Probability')\n",
    "plt.xlabel('Admission Probability')\n",
    "plt.ylabel('Count') \n",
    "plt.show()"
   ]
  },
  {
   "cell_type": "code",
   "execution_count": 5,
   "id": "85bf3553-4d07-45e4-ada8-9a53a17dd3cf",
   "metadata": {},
   "outputs": [
    {
     "data": {
      "image/png": "[encoded data removed]",
      "text/plain": [
       "<Figure size 432x288 with 1 Axes>"
      ]
     },
     "metadata": {
      "needs_background": "light"
     },
     "output_type": "display_data"
    }
   ],
   "source": [
    "# Plot the non-researcher admission probabilities\n",
    "plt.hist(non_researcher_admit, edgecolor = 'w')\n",
    "plt.title('Histogram of Non-Researcher Admission Probability')\n",
    "plt.xlabel('Admission Probability')\n",
    "plt.ylabel('Count') \n",
    "plt.show()"
   ]
  },
  {
   "cell_type": "markdown",
   "id": "6c80d344-44cc-422c-bd47-c5370f8ddbd6",
   "metadata": {},
   "source": [
    "Based on the graphs shown above, the histogram of researcher admission probability does not look normal at all, it is heaviliy left skewed. For the histogram of non-researcher admission probability, it looks significantly more like a normal distribution. However, just based on the graph, it still appears to be a bit left skewed."
   ]
  },
  {
   "cell_type": "markdown",
   "id": "f3c15987-2098-4e8d-b269-84ee10b8334f",
   "metadata": {},
   "source": [
    "    4. (5pt) Compute the mean difference in the admission rate between researchers and non-researchers.\n",
    "    Hint: 0.158"
   ]
  },
  {
   "cell_type": "code",
   "execution_count": 6,
   "id": "25ad75d4-8717-40c4-bb11-2241a584860b",
   "metadata": {},
   "outputs": [
    {
     "name": "stdout",
     "output_type": "stream",
     "text": [
      "The mean difference in the admission rate between reseachers and non-researchers is:\n",
      "0.1583021771487675\n"
     ]
    }
   ],
   "source": [
    "mean_difference = np.mean(researcher_admit) - np.mean(non_researcher_admit)\n",
    "print('The mean difference in the admission rate between reseachers and non-researchers is:')\n",
    "print(mean_difference)"
   ]
  },
  {
   "cell_type": "markdown",
   "id": "2107818e-e7d7-4ab2-95db-ef180eaee5b7",
   "metadata": {},
   "source": [
    "    This was the basic description of the data. Now onward to the comparison. We proceed as follows: imagine that there is no real difference in the admission chances for researchers and non- researchers. We call this null-hypothesis H0. Hence whatever difference we see in the actual data is just random sampling noise. We would like to have a huge number of students’ data to test it, but unfortunately we only have what we have. So we do this instead: we create fake researchers’ admission chances, and fake non-researchers’ admission chances, both drawn from the same normal distribution. There must be as many fake ones as there are real ones in the data. Thereafter we compare the mean chances: how much more likely are the fake researchers to be admitted, compared to the fake non-researchers? We repeat this process many times and at the end we report how often did we find a difference that is similar to what we observe in the real data. If this is a common occurrence, we cannot reject H0."
   ]
  },
  {
   "cell_type": "markdown",
   "id": "f0244469-2d7f-4b29-a815-66b9483800f1",
   "metadata": {},
   "source": [
    "    5. (2pt) Let’s state our H0 again: researchers and non-researchers have similar admission chances (in average). Hence we have to create fake researchers and fake non-researchers using the same distribution. The obvious choice for this is the distribution of all students combined.\n",
    "    Compute the overall mean μ0 and standard deviation σ0 of admission chances across all students in the data.\n",
    "    Hint: standard deviation is 0.143."
   ]
  },
  {
   "cell_type": "markdown",
   "id": "ac283b9d-a7ae-4f0a-aa1f-9a32b52a4695",
   "metadata": {},
   "source": [
    "$H_0$: Researchers and non-researchers have similar admission chances (in average).\n",
    "\n",
    "$H_1$: Researchers and non-researchers does not have similar admission chances (in average)."
   ]
  },
  {
   "cell_type": "code",
   "execution_count": 7,
   "id": "bfc20bc8-648e-4e4b-bc80-39cfcda86226",
   "metadata": {},
   "outputs": [
    {
     "name": "stdout",
     "output_type": "stream",
     "text": [
      "The overal mean μ_0 is: 0.7243499999999996\n",
      "The overall standard deviation σ_0 is: 0.1424309569580995\n"
     ]
    }
   ],
   "source": [
    "# Compute the overall mean and standard deviation\n",
    "admission_mean = np.mean(admission_df['Chance of Admit'])\n",
    "print('The overal mean μ_0 is:', admission_mean)\n",
    "admission_std = np.std(admission_df['Chance of Admit'])\n",
    "print('The overall standard deviation σ_0 is:', admission_std)"
   ]
  },
  {
   "cell_type": "markdown",
   "id": "85ffb597-8310-4b0e-ac75-ac1b4b49f7bd",
   "metadata": {},
   "source": [
    "    6. (5pt) Now create two sets of random normals, “fake researchers” and “fake non researchers”, both with the same mean μ0 and standard deviation σ0 that you just computed above. The number of fake students must be the same as the number of real students for the corresponding group.\n",
    "    What is the difference in the mean admission chances of the fake researchers and fake non- researchers? Compare the result with the real difference you found above.\n",
    "    Hint: say, the average is 0.5 and standard deviation is 0.2. You can create the corresponding normals like:\n",
    "    faker = np.random.normal(0.5, 0.2, size=5) #create5fakeresearchers\n",
    "    faken = np.random.normal(0.5, 0.2, size=6) #create6fakenon-researchers\n",
    "    faker\n",
    "    ## array([0.85772569, 0.58730197, 0.51929949, 0.12730146, 0.44452236])\n",
    "    faken\n",
    "    ## array([0.4290482 , 0.4834517 , 0.37459986, 0.49123637, 0.40455639,\n",
    "    ## 0.23722705])\n",
    "    And you can compute the mean difference like this:\n",
    "    np.mean(faker) - np.mean(faken)\n",
    "    ## 0.10387693178786389\n",
    "    Now compare this number with what you see in data."
   ]
  },
  {
   "cell_type": "code",
   "execution_count": 8,
   "id": "8d073c66-66ad-451c-bea8-d7f2747a7ea2",
   "metadata": {},
   "outputs": [
    {
     "name": "stdout",
     "output_type": "stream",
     "text": [
      "Mean difference between mean admission chances of fake researcher and non-researcher:  -0.03826677556137037\n"
     ]
    }
   ],
   "source": [
    "# Make fake researcher random normals\n",
    "fake_researcher = np.random.normal(admission_mean, scale = admission_std, size = len(researcher_admit))\n",
    "\n",
    "# Make fake non researcher random normals\n",
    "fake_non_researcher = np.random.normal(admission_mean, scale = admission_std, size = len(non_researcher_admit))\n",
    "\n",
    "# Compute the mean difference between mean difference in the mean admission chances of the fake researchers and fake non-researchers\n",
    "print(\"Mean difference between mean admission chances of fake researcher and non-researcher: \", (np.mean(fake_researcher) - np.mean(fake_non_researcher)))"
   ]
  },
  {
   "cell_type": "markdown",
   "id": "b68355be-5157-41d2-afa0-133d2f59a869",
   "metadata": {},
   "source": [
    "From my fake simulations, I get a mean difference that is very close to 0. The real difference is about 0.158 which is more than I have here."
   ]
  },
  {
   "cell_type": "markdown",
   "id": "0a85ec2e-638f-43bd-8a7c-58f375afd379",
   "metadata": {},
   "source": [
    "    7. (3pt) Why do we use the same mean μ0 for both fake researchers and fake non-researchers?"
   ]
  },
  {
   "cell_type": "markdown",
   "id": "0f25cd83-b0c1-4df1-a728-a9189d58f8a5",
   "metadata": {},
   "source": [
    "The null hypothesis $H_0$ states that: \"There is no difference in admission rates between researchers and non-researchers.\" In order to test that hypothesis, we must use the same $μ_0$ for both fake researchers and fake non-researchers."
   ]
  },
  {
   "cell_type": "markdown",
   "id": "ec1fd808-83db-4251-9311-81c1e199446b",
   "metadata": {},
   "source": [
    "    8. (5pt) Now repeat the previous question a large number R(1000 or more) times. Each time store the mean difference between fake researchers and fake non-researchers, so you end up with Rdifferent values for the mean difference."
   ]
  },
  {
   "cell_type": "code",
   "execution_count": 9,
   "id": "29e21711-992a-475a-9d3f-3f6935f280da",
   "metadata": {},
   "outputs": [],
   "source": [
    "# Choose repetitions\n",
    "R = 1000\n",
    "# Repeat the previous question with 1000 times and store the mean difference bewteen fake researchers and non-researchers\n",
    "mean_difference_R = []\n",
    "for n in range(0, R):\n",
    "    fake_researcher_trail = np.random.normal(admission_mean, scale = admission_std, size = len(researcher_admit))\n",
    "    fake_non_esearcher_trail = np.random.normal(admission_mean, scale = admission_std, size = len(non_researcher_admit))\n",
    "    mean_difference_R.append(np.mean(fake_researcher_trail) - np.mean(fake_non_esearcher_trail))"
   ]
  },
  {
   "cell_type": "markdown",
   "id": "8e0cdf93-f031-44bf-9ebe-f020ac1372bc",
   "metadata": {},
   "source": [
    "    9. (5pt) What is the mean of the mean differences? If you did your simulations correctly, it should be close to 0. Explain why do you get this result."
   ]
  },
  {
   "cell_type": "code",
   "execution_count": 10,
   "id": "3604d4da-37bb-4c0d-ab48-6444fd600210",
   "metadata": {},
   "outputs": [
    {
     "name": "stdout",
     "output_type": "stream",
     "text": [
      "Mean of the mean differences: -0.000710066066147221\n"
     ]
    }
   ],
   "source": [
    "# Compute the mean of the mean differences\n",
    "print('Mean of the mean differences:', np.mean(mean_difference_R))"
   ]
  },
  {
   "cell_type": "markdown",
   "id": "5bc352e0-b4cd-4391-bf4f-8b2232266ab5",
   "metadata": {},
   "source": [
    "The result I got was very close to 0. By the central limit theorem, the more samples we have, the closer the mean will be to the expected value, and more normally distributed. Since the null hypothesis states that the difference is 0 (equal chance of admission so 0.5 - 0.5 = 0), the expected value should be close to 0 as well. Thus, it makes sense that with 1000 repetitions, the mean differences would be very close to 0."
   ]
  },
  {
   "cell_type": "markdown",
   "id": "a9de8928-39a9-40e7-9a7a-538463569f76",
   "metadata": {},
   "source": [
    "    10. (4pt) What is the largest mean difference (in absolute value) in your sample?\n",
    "    Hint: np.abs computes absolute value."
   ]
  },
  {
   "cell_type": "code",
   "execution_count": 11,
   "id": "ebdd5773-5295-415d-923e-209cede4817b",
   "metadata": {},
   "outputs": [
    {
     "name": "stdout",
     "output_type": "stream",
     "text": [
      "The largest mean difference is 0.05779173456651254\n"
     ]
    }
   ],
   "source": [
    "# Compute the largest mean difference in my sample\n",
    "print('The largest mean difference is', np.max(np.abs(mean_difference_R)))"
   ]
  },
  {
   "cell_type": "markdown",
   "id": "3edbc32b-1ef3-4470-8db5-5bea22aaa503",
   "metadata": {},
   "source": [
    "    11. (7pt) find 95% confidence interval (CI) of your sample of mean differences based on sample quantiles. Does the difference in actual data, 0.158 in favor of researchers, fall into the CI?\n",
    "    Hint: use np.percentile(2.5) and a similar expression for the 97.5th percentile."
   ]
  },
  {
   "cell_type": "code",
   "execution_count": 12,
   "id": "e62eab31-ed22-4ccf-b87c-09ae2513d512",
   "metadata": {},
   "outputs": [
    {
     "name": "stdout",
     "output_type": "stream",
     "text": [
      "The 95% confidence interval is: ( -0.028513927097509405 , 0.02835681407640858 )\n"
     ]
    }
   ],
   "source": [
    "# Compute the 95% confidence interval of mean differences\n",
    "lower_bound = np.percentile(mean_difference_R, 2.5)\n",
    "upper_bound = np.percentile(mean_difference_R, 97.5)\n",
    "\n",
    "print('The 95% confidence interval is:', '(', lower_bound, ',', upper_bound, ')')"
   ]
  },
  {
   "cell_type": "markdown",
   "id": "310fb748-4130-4987-bba2-87db07e316e1",
   "metadata": {},
   "source": [
    "The difference in actual data, 0.158 does not fall into the confidence interval."
   ]
  },
  {
   "cell_type": "markdown",
   "id": "5facc504-fcf1-4812-ba3a-c55672e2e079",
   "metadata": {},
   "source": [
    "    12. (7pt) Finally, based on the simulations, what is your conclusion: is the observed difference 0.158 just a random fluke, or do students with research experience have better admission chances?"
   ]
  },
  {
   "cell_type": "markdown",
   "id": "639dd696-d86b-47de-b496-33c9ea746feb",
   "metadata": {},
   "source": [
    "Based on the simulations above, the actual value 0.158 did not fall into the confidence interval, we can reject the null hypothesis. We can say that students with research experience have better admission because we know that they do not have equal chances of admission adn we also know researchers have better chance of admission from real data, then we can conclude that students with research experience have better admission chances."
   ]
  },
  {
   "cell_type": "markdown",
   "id": "e40e0208-df20-4c73-ab91-9ce86a6c2222",
   "metadata": {},
   "source": [
    "# Now repeat the above with t-test (40pt)"
   ]
  },
  {
   "cell_type": "markdown",
   "id": "748a31a6-0fd4-428e-921e-d7236a17e409",
   "metadata": {},
   "source": [
    "    Above we spent a lot of effort with sampling, random numbers and such. In practice, it is usually not possible to gather data about millions of students. And even if feasible, it is much easier just to do a t-test. Below we ask you to compute the t-value yourself, do not use any pre-existing functions!"
   ]
  },
  {
   "cell_type": "markdown",
   "id": "24380e6d-c6e6-44f2-8d4c-c41c593653bb",
   "metadata": {},
   "source": [
    "    1. (10pt) Compute standard error SEof the nonresearchers-researchers mean difference. Remember: we are still working in logarithms!\n",
    "    Hint: read OIS 7.3, p 267. You probably have to walk back and read about various other concepts the book is using in 7.3."
   ]
  },
  {
   "cell_type": "code",
   "execution_count": 13,
   "id": "9b7663df-91b1-4911-bd51-f5cd6ee55efb",
   "metadata": {},
   "outputs": [
    {
     "name": "stdout",
     "output_type": "stream",
     "text": [
      "The standard error of the mean difference is: 0.011830386868118969\n"
     ]
    }
   ],
   "source": [
    "# Compute the variance of the researcher and non-researcher admission rate\n",
    "researcher_var = np.var(researcher_admit)\n",
    "non_researcher_var = np.var(non_researcher_admit)\n",
    "# Compute the standard error\n",
    "standard_error = np.sqrt((researcher_var / len(researcher_admit)) + (non_researcher_var / len(non_researcher_admit)))\n",
    "print('The standard error of the mean difference is:', standard_error)"
   ]
  },
  {
   "cell_type": "markdown",
   "id": "603d02dc-af09-4c24-bb72-fd525f919447",
   "metadata": {},
   "source": [
    "    2. (10pt) Compute 95% CI.\n",
    "    Use the 5% two-tail significance level to look up tcrvalues in t-distribution table. OIS has such a table in Appendix C.2, and google image search finds a thousand similar tables.\n",
    "    95% CI is given by μ±tcr·SEwhere μis the mean, SEis its standard error, and tcris the critical value from the table.\n",
    "    Hint 1: what is the degrees of freedom in current case? Consult OIS 7.3.\n",
    "    Hint 2: we need 2-tailed test as nonresearchers can have both better and worse admission chances than researchers.\n",
    "    Hint 3: you can do this in two ways. Compute 95% CI around H0 value (i.e. difference is 0) and check if the actual difference fits in there (this is what we simulated above). Or compute 95% CI around the actual value, and check of H0 value 0 fits in there. DO NOT compute 95% around actual value and then check if the actual value fits in there. It always does!"
   ]
  },
  {
   "cell_type": "code",
   "execution_count": 14,
   "id": "450b3034-1ac3-4a18-bdc9-2aa9ae701a8e",
   "metadata": {},
   "outputs": [
    {
     "name": "stdout",
     "output_type": "stream",
     "text": [
      "The 95% confidence interval is: ( -0.02330586213019437 , 0.02330586213019437 )\n"
     ]
    }
   ],
   "source": [
    "# Find t value\n",
    "# Degrees of freedom is 181 - 1 = 180\n",
    "t_val = 1.97\n",
    "# Compute the 95% confidence interval around H0 value (i.e. difference is 0)\n",
    "t_lower = 0 - t_val * standard_error\n",
    "t_upper = 0 + t_val * standard_error\n",
    "print('The 95% confidence interval is:', '(', t_lower, ',', t_upper, ')')"
   ]
  },
  {
   "cell_type": "markdown",
   "id": "f3f0fde2-1256-47df-bb05-75e4a1f6ee2c",
   "metadata": {},
   "source": [
    "    3. (6pt) What will you conclude based on CI: can you reject H0 that nonresearchers and re- searchers have equal admission chance at 5% level?"
   ]
  },
  {
   "cell_type": "markdown",
   "id": "628fa771-6c7b-4b9c-8ab3-11a8e7a6d1b3",
   "metadata": {},
   "source": [
    "Based on the confidence interval, the actual difference 0.158 does not fall within the confidence interval and thus we can reject the null hypothesis $H_0$ that non researchers and researchers have euqal admission probability at 5% level."
   ]
  },
  {
   "cell_type": "markdown",
   "id": "c980fd04-7e80-401c-a5b5-2354e8e6728e",
   "metadata": {},
   "source": [
    "    4. (8pt) Now perform the opposite operation: compute the t-value. When the you have mean μ and standard error SE, you can compute the t-value by t = μ / SE\n",
    "    Hint: the answer is 13.38."
   ]
  },
  {
   "cell_type": "code",
   "execution_count": 15,
   "id": "d56ef78b-1766-4605-83c1-f72cc0e4fb7a",
   "metadata": {},
   "outputs": [
    {
     "name": "stdout",
     "output_type": "stream",
     "text": [
      "T value is: 13.380980597969026\n"
     ]
    }
   ],
   "source": [
    "# Compute the t-value\n",
    "t = mean_difference / standard_error\n",
    "print('T value is:', t)"
   ]
  },
  {
   "cell_type": "markdown",
   "id": "2b84bfd1-cf25-42cd-9e0b-4bf5fce5ae25",
   "metadata": {},
   "source": [
    "    5. (6pt) What is the likelihood that such a tvalue happens just by random chance? Consult the t-table. \n",
    "    Hint: I have never seen t-tables that contain such large values. But where on the table would you write this value? What can you say about how likely it is to see such a value just by random chance?"
   ]
  },
  {
   "cell_type": "markdown",
   "id": "5cf3f031-bb62-482b-baa2-92987463f7ab",
   "metadata": {},
   "source": [
    "There is no table that has a t value that is about 13.381. However, I would follow the pattern that if this is for the same degree of freedom, the two tail percentage have to be almost 0 in order to get a t value near 13.381, which means that this t value is an unlikely event and happened by random chance."
   ]
  },
  {
   "cell_type": "markdown",
   "id": "69ed0303-4de6-4660-b43d-7539398469e6",
   "metadata": {},
   "source": [
    "# Use canned t-test function (10pt)"
   ]
  },
  {
   "cell_type": "markdown",
   "id": "f12b2c94-7ece-44b9-8bee-65ef6b25f7d6",
   "metadata": {},
   "source": [
    "    Finally, we use a ready-made library: scipy.stats.ttest_ind contains ready-made t-test function."
   ]
  },
  {
   "cell_type": "markdown",
   "id": "b253be9e-9d1a-4bad-ae64-16c2fac78c8a",
   "metadata": {},
   "source": [
    "    1. (5pt) Compute t-value and the probability using ttest_ind.\n",
    "    Note: you have to specify equal_var=False to tell the function that non-researchers and researchers chances may have different variance."
   ]
  },
  {
   "cell_type": "code",
   "execution_count": 16,
   "id": "2beea8b2-f59f-47e4-bedd-d54dbcfbdbfb",
   "metadata": {},
   "outputs": [
    {
     "name": "stdout",
     "output_type": "stream",
     "text": [
      "Test results: \n",
      "Ttest_indResult(statistic=13.347126182410907, pvalue=8.966853051858437e-34)\n"
     ]
    }
   ],
   "source": [
    "# Compute t value and probability using ttest_ind\n",
    "print(\"Test results: \")\n",
    "print(ttest_ind(researcher_admit, non_researcher_admit, equal_var = False))"
   ]
  },
  {
   "cell_type": "markdown",
   "id": "7fd44b4d-6032-4f13-b36a-cfac7f2390d4",
   "metadata": {},
   "source": [
    "    2. (5pt) Finally, state your conclusion: do researchers have better admission chances than non-researchers?\n",
    "    Do all of your three methods: simulations, 95% CI, t-value and python’s t-test agree?\n",
    "    Hint: they should!"
   ]
  },
  {
   "cell_type": "markdown",
   "id": "d49c308d-f5c6-41cc-8d15-f0bfc2524dcb",
   "metadata": {},
   "source": [
    "Conclusion: Researchers have better admission chances than non-researchers.\n",
    "\n",
    "As seen in the conclusions for simulations and 95% CIs, because 0.158 did not fall into the 95% confidence interval, we reject the null hypothesis that researchers and non-researchers have the same admission chance. For the t value, the t value I computed almost matches with the t value python's function computed (This is probably because of the use of np.var and np.sqrt that caused rounding problems). The python's t-test agree with my previous two tests, since the p value is so much smaller than 0.05, we can also reject the null hypothesis. Because we also know that researchers from the real data has better chance of admission, we can conclude that researchers have better admission chances than non-researchers."
   ]
  }
 ],
 "metadata": {
  "kernelspec": {
   "display_name": "Python 3 (ipykernel)",
   "language": "python",
   "name": "python3"
  },
  "language_info": {
   "codemirror_mode": {
    "name": "ipython",
    "version": 3
   },
   "file_extension": ".py",
   "mimetype": "text/x-python",
   "name": "python",
   "nbconvert_exporter": "python",
   "pygments_lexer": "ipython3",
   "version": "3.9.7"
  }
 },
 "nbformat": 4,
 "nbformat_minor": 5
}

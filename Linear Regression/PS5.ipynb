{
 "cells": [
  {
   "cell_type": "markdown",
   "id": "bf680b01-95d1-4b57-8bf8-4166acecedbc",
   "metadata": {},
   "source": [
    "# When will we see BOE? (45pt)"
   ]
  },
  {
   "cell_type": "code",
   "execution_count": 1,
   "id": "3041dda9-8960-4def-9e09-533e29207596",
   "metadata": {},
   "outputs": [],
   "source": [
    "# Import packages\n",
    "import pandas as pd\n",
    "import numpy as np\n",
    "import matplotlib.pyplot as plt\n",
    "import statistics as st\n",
    "import statsmodels.formula.api as smf\n",
    "import seaborn as sns"
   ]
  },
  {
   "cell_type": "markdown",
   "id": "b1c4359e-1a1e-4b25-871b-4eba6d8b2e19",
   "metadata": {},
   "source": [
    "    1. (5pt) Load the data. Only keep the northern hemisphere data. Remove all missing extents–we will only work with extent below.\n",
    "    Note: make sure you understand how missings are coded! There are missings in data."
   ]
  },
  {
   "cell_type": "code",
   "execution_count": 2,
   "id": "241d5fc8-8df8-4e65-8417-3bcf466f1645",
   "metadata": {},
   "outputs": [
    {
     "name": "stdout",
     "output_type": "stream",
     "text": [
      "Number of rows in the dataset: 517\n",
      "Number of columns in the dataset: 7\n"
     ]
    },
    {
     "data": {
      "text/html": [
       "<div>\n",
       "<style scoped>\n",
       "    .dataframe tbody tr th:only-of-type {\n",
       "        vertical-align: middle;\n",
       "    }\n",
       "\n",
       "    .dataframe tbody tr th {\n",
       "        vertical-align: top;\n",
       "    }\n",
       "\n",
       "    .dataframe thead th {\n",
       "        text-align: right;\n",
       "    }\n",
       "</style>\n",
       "<table border=\"1\" class=\"dataframe\">\n",
       "  <thead>\n",
       "    <tr style=\"text-align: right;\">\n",
       "      <th></th>\n",
       "      <th>year</th>\n",
       "      <th>month</th>\n",
       "      <th>data-type</th>\n",
       "      <th>region</th>\n",
       "      <th>extent</th>\n",
       "      <th>area</th>\n",
       "      <th>time</th>\n",
       "    </tr>\n",
       "  </thead>\n",
       "  <tbody>\n",
       "    <tr>\n",
       "      <th>0</th>\n",
       "      <td>1978</td>\n",
       "      <td>11</td>\n",
       "      <td>Goddard</td>\n",
       "      <td>N</td>\n",
       "      <td>11.65</td>\n",
       "      <td>9.04</td>\n",
       "      <td>1978.875000</td>\n",
       "    </tr>\n",
       "    <tr>\n",
       "      <th>2</th>\n",
       "      <td>1978</td>\n",
       "      <td>12</td>\n",
       "      <td>Goddard</td>\n",
       "      <td>N</td>\n",
       "      <td>13.67</td>\n",
       "      <td>10.90</td>\n",
       "      <td>1978.958333</td>\n",
       "    </tr>\n",
       "    <tr>\n",
       "      <th>4</th>\n",
       "      <td>1979</td>\n",
       "      <td>1</td>\n",
       "      <td>Goddard</td>\n",
       "      <td>N</td>\n",
       "      <td>15.41</td>\n",
       "      <td>12.41</td>\n",
       "      <td>1979.041667</td>\n",
       "    </tr>\n",
       "    <tr>\n",
       "      <th>6</th>\n",
       "      <td>1979</td>\n",
       "      <td>2</td>\n",
       "      <td>Goddard</td>\n",
       "      <td>N</td>\n",
       "      <td>16.18</td>\n",
       "      <td>13.18</td>\n",
       "      <td>1979.125000</td>\n",
       "    </tr>\n",
       "    <tr>\n",
       "      <th>8</th>\n",
       "      <td>1979</td>\n",
       "      <td>3</td>\n",
       "      <td>Goddard</td>\n",
       "      <td>N</td>\n",
       "      <td>16.34</td>\n",
       "      <td>13.21</td>\n",
       "      <td>1979.208333</td>\n",
       "    </tr>\n",
       "  </tbody>\n",
       "</table>\n",
       "</div>"
      ],
      "text/plain": [
       "   year  month data-type region  extent   area         time\n",
       "0  1978     11   Goddard      N   11.65   9.04  1978.875000\n",
       "2  1978     12   Goddard      N   13.67  10.90  1978.958333\n",
       "4  1979      1   Goddard      N   15.41  12.41  1979.041667\n",
       "6  1979      2   Goddard      N   16.18  13.18  1979.125000\n",
       "8  1979      3   Goddard      N   16.34  13.21  1979.208333"
      ]
     },
     "execution_count": 2,
     "metadata": {},
     "output_type": "execute_result"
    }
   ],
   "source": [
    "# Load the orginal dataset\n",
    "boe_df = pd.read_csv('/home/jovyan/PS/data/ice-extent.csv', sep='\\t')\n",
    "# Filter out any rows that do not have the northern region\n",
    "north_ice_df = boe_df[boe_df.region == 'N']\n",
    "# Remove missing extents/negative extent\n",
    "north_ice_df = north_ice_df[north_ice_df.extent >= 0]\n",
    "# Report the basic shape\n",
    "print('Number of rows in the dataset:', north_ice_df.shape[0])\n",
    "print('Number of columns in the dataset:', north_ice_df.shape[1])\n",
    "# Display the first five lines\n",
    "north_ice_df.head(5)"
   ]
  },
  {
   "cell_type": "markdown",
   "id": "d3be20fc-fb43-4ac3-911b-9bca19e2b910",
   "metadata": {},
   "source": [
    "    2. (6pt) Make a plot where you show the September, December and March ice extent over years.\n",
    "    Note: you may consider seaborn library in addition to matplotlib if you want ready-made functionality for data plotting. But you can also use plt.plot."
   ]
  },
  {
   "cell_type": "code",
   "execution_count": 3,
   "id": "86c4c89b-bf03-4f5f-b946-996d1bcf1631",
   "metadata": {},
   "outputs": [
    {
     "data": {
      "image/png": "[encoded data removed]",
      "text/plain": [
       "<Figure size 720x360 with 1 Axes>"
      ]
     },
     "metadata": {
      "needs_background": "light"
     },
     "output_type": "display_data"
    }
   ],
   "source": [
    "# Create three different dataframes containing months March, September, and December\n",
    "mar_ice = north_ice_df[north_ice_df.month == 3]\n",
    "sep_ice = north_ice_df[north_ice_df.month == 9]\n",
    "dec_ice = north_ice_df[north_ice_df.month == 12]\n",
    "# Plot the ice extent over years\n",
    "extent_yearly = plt.rcParams[\"figure.figsize\"] = (10, 5)\n",
    "extent_yearly = plt.plot(mar_ice.year, mar_ice.extent, label = 'March Ice Extent')\n",
    "extent_yearly = plt.plot(sep_ice.year, sep_ice.extent, label = 'September Ice Extent')\n",
    "extent_yearly = plt.plot(dec_ice.year, dec_ice.extent, label = 'December Ice Extent')\n",
    "extent_yearly = plt.xlabel('Years')\n",
    "extent_yearly = plt.ylabel('Ice Extent (M km^2)')\n",
    "extent_yearly = plt.title('Ice Extent of March, September, December Over Time')\n",
    "extent_yearly = plt.legend()\n",
    "extent_yearly = plt.show()"
   ]
  },
  {
   "cell_type": "markdown",
   "id": "e754f300-a112-4cc4-b081-1e80b62d3eec",
   "metadata": {},
   "source": [
    "    3. (5pt) Estimate a linear regression model for September data where you describe the sea ice extent as a function of years.\n",
    "    Note: in terms of interpeting the coefficients below, I recommend to use years relative to 2000, i.e. 1999 =−1, 2000 =0, 2001 =1 etc."
   ]
  },
  {
   "cell_type": "code",
   "execution_count": 4,
   "id": "6a5eed87-5768-4f15-a218-aec72a0b3ba6",
   "metadata": {},
   "outputs": [
    {
     "name": "stdout",
     "output_type": "stream",
     "text": [
      "                            OLS Regression Results                            \n",
      "==============================================================================\n",
      "Dep. Variable:                 extent   R-squared:                       0.793\n",
      "Model:                            OLS   Adj. R-squared:                  0.788\n",
      "Method:                 Least Squares   F-statistic:                     157.5\n",
      "Date:                Thu, 17 Mar 2022   Prob (F-statistic):           1.25e-15\n",
      "Time:                        18:52:39   Log-Likelihood:                -32.417\n",
      "No. Observations:                  43   AIC:                             68.83\n",
      "Df Residuals:                      41   BIC:                             72.36\n",
      "Df Model:                           1                                         \n",
      "Covariance Type:            nonrobust                                         \n",
      "=================================================================================\n",
      "                    coef    std err          t      P>|t|      [0.025      0.975]\n",
      "---------------------------------------------------------------------------------\n",
      "Intercept         5.9935      0.080     74.629      0.000       5.831       6.156\n",
      "relative_year    -0.0812      0.006    -12.551      0.000      -0.094      -0.068\n",
      "==============================================================================\n",
      "Omnibus:                        2.573   Durbin-Watson:                   1.727\n",
      "Prob(Omnibus):                  0.276   Jarque-Bera (JB):                1.525\n",
      "Skew:                          -0.324   Prob(JB):                        0.467\n",
      "Kurtosis:                       3.656   Cond. No.                         12.4\n",
      "==============================================================================\n",
      "\n",
      "Notes:\n",
      "[1] Standard Errors assume that the covariance matrix of the errors is correctly specified.\n"
     ]
    }
   ],
   "source": [
    "# Create a copy to avoid warning\n",
    "sep_ice = sep_ice.copy()\n",
    "# Create the years to make them relative to 2000\n",
    "sep_ice['relative_year'] = sep_ice.year - 2000\n",
    "# Estimate a linear regression model for September data\n",
    "regression_sep = smf.ols(\"extent ~ relative_year\", data = sep_ice).fit()\n",
    "print(regression_sep.summary())"
   ]
  },
  {
   "cell_type": "markdown",
   "id": "0e0311da-1111-43fc-b144-f1088c7c023f",
   "metadata": {},
   "source": [
    "    4. (5pt) Interpret the coefficients. What does intercept mean? How big is yearly effect? Is it statistically significant? What about slope? What does it mean?"
   ]
  },
  {
   "cell_type": "markdown",
   "id": "81c19fdb-476a-4315-98a4-27046baccadc",
   "metadata": {},
   "source": [
    "$\\beta_0$ is 5.9935 and $\\beta_1$ is -0.0812. The intercept means that in September of the year 2000, the extent is estimated to be 5.9935 M $km^2$, and the yearly effect (slope) means that as the year increases by one, the extent decreases 0.0812 M $km^2$. Since the p-value for both groups is 0.000, which is smaller than a typical alpha value (i.e., 0.05), this is statistically significant."
   ]
  },
  {
   "cell_type": "markdown",
   "id": "dd055c08-09e2-4217-9174-08e2b29338c3",
   "metadata": {},
   "source": [
    "    5. (2pt) What does the intercept mean if\n",
    "    (a) you use years as is (1999, 2000, 2001, . . . )?\n",
    "    (b) you use years relative to 2000 (-1, 0, 1, . . . )?"
   ]
  },
  {
   "cell_type": "code",
   "execution_count": 5,
   "id": "e16ac42a-83e2-458c-9940-2ab3f93e3594",
   "metadata": {},
   "outputs": [
    {
     "name": "stdout",
     "output_type": "stream",
     "text": [
      "                            OLS Regression Results                            \n",
      "==============================================================================\n",
      "Dep. Variable:                 extent   R-squared:                       0.793\n",
      "Model:                            OLS   Adj. R-squared:                  0.788\n",
      "Method:                 Least Squares   F-statistic:                     157.5\n",
      "Date:                Thu, 17 Mar 2022   Prob (F-statistic):           1.25e-15\n",
      "Time:                        18:52:39   Log-Likelihood:                -32.417\n",
      "No. Observations:                  43   AIC:                             68.83\n",
      "Df Residuals:                      41   BIC:                             72.36\n",
      "Df Model:                           1                                         \n",
      "Covariance Type:            nonrobust                                         \n",
      "==============================================================================\n",
      "                 coef    std err          t      P>|t|      [0.025      0.975]\n",
      "------------------------------------------------------------------------------\n",
      "Intercept    168.4399     12.944     13.013      0.000     142.300     194.580\n",
      "year          -0.0812      0.006    -12.551      0.000      -0.094      -0.068\n",
      "==============================================================================\n",
      "Omnibus:                        2.573   Durbin-Watson:                   1.727\n",
      "Prob(Omnibus):                  0.276   Jarque-Bera (JB):                1.525\n",
      "Skew:                          -0.324   Prob(JB):                        0.467\n",
      "Kurtosis:                       3.656   Cond. No.                     3.22e+05\n",
      "==============================================================================\n",
      "\n",
      "Notes:\n",
      "[1] Standard Errors assume that the covariance matrix of the errors is correctly specified.\n",
      "[2] The condition number is large, 3.22e+05. This might indicate that there are\n",
      "strong multicollinearity or other numerical problems.\n"
     ]
    }
   ],
   "source": [
    "# Estimate a regression model with the regular years\n",
    "regression_year = smf.ols('extent ~ year', data = sep_ice).fit()\n",
    "print(regression_year.summary())"
   ]
  },
  {
   "cell_type": "markdown",
   "id": "076d3304-876d-47b4-afbf-a670b76b4b0d",
   "metadata": {},
   "source": [
    "(a) The intercept for regular years is 168.4399. This means that in September of year 0, the ice extent is 168.4399 M $km^2$. However, this is not practical to interpret because it is impossible to have year 0. Thus, the intercept is not meaningful."
   ]
  },
  {
   "cell_type": "markdown",
   "id": "7a8fc1f8-9442-4d9e-aa5c-14473dee1c4e",
   "metadata": {},
   "source": [
    "(b) The intercept for the years that are relative to 2000 is 5.9935. This means that in September of the year 2000, the ice extent was 5.9935 M $km^2$. Unlike the regular years, this is meaningful because at x=0, which is the year 2000, it exists, and it is practical. Thus, the intercept has a meaning."
   ]
  },
  {
   "cell_type": "markdown",
   "id": "a55306c4-3782-49e7-a9c1-6518a8ef18fd",
   "metadata": {},
   "source": [
    "    6. (6pt) Create a plot (like what you did with Boston housing) where you show the regression line through the September data points.\n",
    "    Comment the plot. Do you see a trend? Do you see any acceleration/deceleration (i.e. the trend is getting faster/slower)?"
   ]
  },
  {
   "cell_type": "code",
   "execution_count": 6,
   "id": "6c35cd90-a781-4867-abd2-e3770746d648",
   "metadata": {},
   "outputs": [
    {
     "data": {
      "image/png": "[encoded data removed]",
      "text/plain": [
       "<Figure size 720x360 with 1 Axes>"
      ]
     },
     "metadata": {
      "needs_background": "light"
     },
     "output_type": "display_data"
    }
   ],
   "source": [
    "# Create a plot that shows regression line through the September data points\n",
    "sep_regression_line = plt.rcParams[\"figure.figsize\"] = (10, 5)\n",
    "sep_regression_line = sns.regplot(x = \"year\", y = \"extent\",\n",
    "                                  scatter_kws = {\"color\":\"blue\", \"alpha\":0.2, \"edgecolor\":\"black\"},\n",
    "                                  line_kws = {\"color\":\"red\"},\n",
    "                                  data = sep_ice)\n",
    "sep_regression_line.set_xlabel(\"Year (Relative to 2000)\")\n",
    "sep_regression_line.set_ylabel(\"Ice Extent\")\n",
    "sep_regression_line.set_title(\"Regression Line Through September Data Points\")\n",
    "plt.show()"
   ]
  },
  {
   "cell_type": "markdown",
   "id": "bea9ffe0-e7ff-425b-86dd-1c568b470af4",
   "metadata": {},
   "source": [
    "Based on the plot, there appears to be a negative relationship between year and ice extent. That means that as the year increases, the ice extent decreases. There are no apparent outliers. I do not see a clear trend that is getting faster/slower."
   ]
  },
  {
   "cell_type": "markdown",
   "id": "cf3429db-d707-415a-8899-b71900a3785b",
   "metadata": {},
   "source": [
    "    7. (8pt) Based on your linear prediction: when will your trend line hit 0 and we will have BOE?\n",
    "    Note: such predictions are highly speculative as we ignore the physical reality of the polar regions.\n",
    "    Note 2: your figure tells when will the trend reach zero. The first BOE will probably happen 10-20 years earlier as the yearly extent jumps up and down around the trend."
   ]
  },
  {
   "cell_type": "markdown",
   "id": "336e78f4-a6d0-4443-bff7-dafe7c2429bc",
   "metadata": {},
   "source": [
    "Based on my linear regression model, I should find when the line hit 0 by using the formula ice extent = 5.9935 - 0.0812 * year. After solving the equation, 0 = 5.9935 - 0.0812 * year, I get a year of 73.8116. Since this is relative to the year 2000, this means that the trend line will hit 0 at the year 2073.8116 (sometime between 2073 and 2074). However, based on the note, it is possible that the BOE will happen sometime between 2053-2063."
   ]
  },
  {
   "cell_type": "markdown",
   "id": "73f6ce2d-2ac9-471f-966a-faa3963a7443",
   "metadata": {},
   "source": [
    "    8. (8pt) Repeat these calculations for March—the month of the yearly maximum. When will the Arctic be completely ice free (if the current trends continue)?"
   ]
  },
  {
   "cell_type": "code",
   "execution_count": 7,
   "id": "c52542df-c780-4ed8-b9c7-9c5dac72ca9a",
   "metadata": {},
   "outputs": [
    {
     "name": "stdout",
     "output_type": "stream",
     "text": [
      "                            OLS Regression Results                            \n",
      "==============================================================================\n",
      "Dep. Variable:                 extent   R-squared:                       0.797\n",
      "Model:                            OLS   Adj. R-squared:                  0.792\n",
      "Method:                 Least Squares   F-statistic:                     160.8\n",
      "Date:                Thu, 17 Mar 2022   Prob (F-statistic):           8.96e-16\n",
      "Time:                        18:52:40   Log-Likelihood:                -1.3365\n",
      "No. Observations:                  43   AIC:                             6.673\n",
      "Df Residuals:                      41   BIC:                             10.20\n",
      "Df Model:                           1                                         \n",
      "Covariance Type:            nonrobust                                         \n",
      "=================================================================================\n",
      "                    coef    std err          t      P>|t|      [0.025      0.975]\n",
      "---------------------------------------------------------------------------------\n",
      "Intercept        15.2570      0.039    391.380      0.000      15.178      15.336\n",
      "relative_year    -0.0398      0.003    -12.679      0.000      -0.046      -0.033\n",
      "==============================================================================\n",
      "Omnibus:                        3.903   Durbin-Watson:                   1.534\n",
      "Prob(Omnibus):                  0.142   Jarque-Bera (JB):                2.534\n",
      "Skew:                          -0.403   Prob(JB):                        0.282\n",
      "Kurtosis:                       2.125   Cond. No.                         12.4\n",
      "==============================================================================\n",
      "\n",
      "Notes:\n",
      "[1] Standard Errors assume that the covariance matrix of the errors is correctly specified.\n"
     ]
    }
   ],
   "source": [
    "# Create a copy to avoid warning\n",
    "mar_ice = mar_ice.copy()\n",
    "# Create the years to make them relative to 2000\n",
    "mar_ice['relative_year'] = mar_ice.year - 2000\n",
    "# Estimate a linear regression model for March data\n",
    "regression_mar = smf.ols(\"extent ~ relative_year\", data = mar_ice).fit()\n",
    "print(regression_mar.summary())"
   ]
  },
  {
   "cell_type": "markdown",
   "id": "474be100-afa4-4d40-9fca-6ec097235d61",
   "metadata": {},
   "source": [
    "Based on my linear regression model, I should find when the line hit 0 by using the formula ice extent = 15.2570 - 0.0398 * year. After solving the equation, 0 = 15.2570 - 0.0398 * year, I get a year of 383.342. Since this is relative to the year 2000, this means that the trend line will hit 0 at year 2383.342 (sometime between 2383 and 2384). However, based on the note, it is possible that the BOE will happen sometime between 2363-2373 if the current trend continues."
   ]
  },
  {
   "cell_type": "markdown",
   "id": "f09f2080-d7fc-4a41-a775-cff9be56bd19",
   "metadata": {},
   "source": [
    "# How Is Basketball Game Score Calculated? (45pt)"
   ]
  },
  {
   "cell_type": "markdown",
   "id": "4a3468ff-5585-404d-9e22-260736070319",
   "metadata": {},
   "source": [
    "    1. (2pt) Load the data (harden-18-19.csv). Do basic sanity checks."
   ]
  },
  {
   "cell_type": "code",
   "execution_count": 8,
   "id": "8253bb0f-23d9-40e0-bc4c-63f71d353d30",
   "metadata": {},
   "outputs": [
    {
     "name": "stdout",
     "output_type": "stream",
     "text": [
      "Number of rows in the dataset: 82\n",
      "Number of columns in the dataset: 30\n"
     ]
    },
    {
     "data": {
      "text/html": [
       "<div>\n",
       "<style scoped>\n",
       "    .dataframe tbody tr th:only-of-type {\n",
       "        vertical-align: middle;\n",
       "    }\n",
       "\n",
       "    .dataframe tbody tr th {\n",
       "        vertical-align: top;\n",
       "    }\n",
       "\n",
       "    .dataframe thead th {\n",
       "        text-align: right;\n",
       "    }\n",
       "</style>\n",
       "<table border=\"1\" class=\"dataframe\">\n",
       "  <thead>\n",
       "    <tr style=\"text-align: right;\">\n",
       "      <th></th>\n",
       "      <th>Rk</th>\n",
       "      <th>G</th>\n",
       "      <th>Date</th>\n",
       "      <th>Age</th>\n",
       "      <th>Tm</th>\n",
       "      <th>Unnamed: 5</th>\n",
       "      <th>Opp</th>\n",
       "      <th>Unnamed: 7</th>\n",
       "      <th>GS</th>\n",
       "      <th>MP</th>\n",
       "      <th>...</th>\n",
       "      <th>DRB</th>\n",
       "      <th>TRB</th>\n",
       "      <th>AST</th>\n",
       "      <th>STL</th>\n",
       "      <th>BLK</th>\n",
       "      <th>TOV</th>\n",
       "      <th>PF</th>\n",
       "      <th>PTS</th>\n",
       "      <th>GmSc</th>\n",
       "      <th>+/-</th>\n",
       "    </tr>\n",
       "  </thead>\n",
       "  <tbody>\n",
       "    <tr>\n",
       "      <th>0</th>\n",
       "      <td>1</td>\n",
       "      <td>1.0</td>\n",
       "      <td>2018-10-17</td>\n",
       "      <td>29-052</td>\n",
       "      <td>HOU</td>\n",
       "      <td>NaN</td>\n",
       "      <td>NOP</td>\n",
       "      <td>L (-19)</td>\n",
       "      <td>1</td>\n",
       "      <td>34:43</td>\n",
       "      <td>...</td>\n",
       "      <td>7</td>\n",
       "      <td>9</td>\n",
       "      <td>10</td>\n",
       "      <td>3</td>\n",
       "      <td>1</td>\n",
       "      <td>4</td>\n",
       "      <td>2</td>\n",
       "      <td>18</td>\n",
       "      <td>18.9</td>\n",
       "      <td>-23</td>\n",
       "    </tr>\n",
       "    <tr>\n",
       "      <th>1</th>\n",
       "      <td>2</td>\n",
       "      <td>2.0</td>\n",
       "      <td>2018-10-20</td>\n",
       "      <td>29-055</td>\n",
       "      <td>HOU</td>\n",
       "      <td>@</td>\n",
       "      <td>LAL</td>\n",
       "      <td>W (+9)</td>\n",
       "      <td>1</td>\n",
       "      <td>37:50</td>\n",
       "      <td>...</td>\n",
       "      <td>6</td>\n",
       "      <td>7</td>\n",
       "      <td>5</td>\n",
       "      <td>2</td>\n",
       "      <td>1</td>\n",
       "      <td>6</td>\n",
       "      <td>2</td>\n",
       "      <td>36</td>\n",
       "      <td>27.0</td>\n",
       "      <td>-3</td>\n",
       "    </tr>\n",
       "    <tr>\n",
       "      <th>2</th>\n",
       "      <td>3</td>\n",
       "      <td>3.0</td>\n",
       "      <td>2018-10-21</td>\n",
       "      <td>29-056</td>\n",
       "      <td>HOU</td>\n",
       "      <td>@</td>\n",
       "      <td>LAC</td>\n",
       "      <td>L (-3)</td>\n",
       "      <td>1</td>\n",
       "      <td>39:45</td>\n",
       "      <td>...</td>\n",
       "      <td>4</td>\n",
       "      <td>4</td>\n",
       "      <td>14</td>\n",
       "      <td>2</td>\n",
       "      <td>0</td>\n",
       "      <td>3</td>\n",
       "      <td>1</td>\n",
       "      <td>31</td>\n",
       "      <td>26.4</td>\n",
       "      <td>+5</td>\n",
       "    </tr>\n",
       "    <tr>\n",
       "      <th>3</th>\n",
       "      <td>4</td>\n",
       "      <td>4.0</td>\n",
       "      <td>2018-10-24</td>\n",
       "      <td>29-059</td>\n",
       "      <td>HOU</td>\n",
       "      <td>NaN</td>\n",
       "      <td>UTA</td>\n",
       "      <td>L (-11)</td>\n",
       "      <td>1</td>\n",
       "      <td>31:38</td>\n",
       "      <td>...</td>\n",
       "      <td>4</td>\n",
       "      <td>5</td>\n",
       "      <td>7</td>\n",
       "      <td>1</td>\n",
       "      <td>0</td>\n",
       "      <td>7</td>\n",
       "      <td>4</td>\n",
       "      <td>29</td>\n",
       "      <td>17.7</td>\n",
       "      <td>-5</td>\n",
       "    </tr>\n",
       "    <tr>\n",
       "      <th>4</th>\n",
       "      <td>5</td>\n",
       "      <td>NaN</td>\n",
       "      <td>2018-10-26</td>\n",
       "      <td>29-061</td>\n",
       "      <td>HOU</td>\n",
       "      <td>NaN</td>\n",
       "      <td>LAC</td>\n",
       "      <td>L (-20)</td>\n",
       "      <td>Inactive</td>\n",
       "      <td>Inactive</td>\n",
       "      <td>...</td>\n",
       "      <td>Inactive</td>\n",
       "      <td>Inactive</td>\n",
       "      <td>Inactive</td>\n",
       "      <td>Inactive</td>\n",
       "      <td>Inactive</td>\n",
       "      <td>Inactive</td>\n",
       "      <td>Inactive</td>\n",
       "      <td>Inactive</td>\n",
       "      <td>Inactive</td>\n",
       "      <td>Inactive</td>\n",
       "    </tr>\n",
       "  </tbody>\n",
       "</table>\n",
       "<p>5 rows × 30 columns</p>\n",
       "</div>"
      ],
      "text/plain": [
       "   Rk    G        Date     Age   Tm Unnamed: 5  Opp Unnamed: 7        GS  \\\n",
       "0   1  1.0  2018-10-17  29-052  HOU        NaN  NOP    L (-19)         1   \n",
       "1   2  2.0  2018-10-20  29-055  HOU          @  LAL     W (+9)         1   \n",
       "2   3  3.0  2018-10-21  29-056  HOU          @  LAC     L (-3)         1   \n",
       "3   4  4.0  2018-10-24  29-059  HOU        NaN  UTA    L (-11)         1   \n",
       "4   5  NaN  2018-10-26  29-061  HOU        NaN  LAC    L (-20)  Inactive   \n",
       "\n",
       "         MP  ...       DRB       TRB       AST       STL       BLK       TOV  \\\n",
       "0     34:43  ...         7         9        10         3         1         4   \n",
       "1     37:50  ...         6         7         5         2         1         6   \n",
       "2     39:45  ...         4         4        14         2         0         3   \n",
       "3     31:38  ...         4         5         7         1         0         7   \n",
       "4  Inactive  ...  Inactive  Inactive  Inactive  Inactive  Inactive  Inactive   \n",
       "\n",
       "         PF       PTS      GmSc       +/-  \n",
       "0         2        18      18.9       -23  \n",
       "1         2        36      27.0        -3  \n",
       "2         1        31      26.4        +5  \n",
       "3         4        29      17.7        -5  \n",
       "4  Inactive  Inactive  Inactive  Inactive  \n",
       "\n",
       "[5 rows x 30 columns]"
      ]
     },
     "execution_count": 8,
     "metadata": {},
     "output_type": "execute_result"
    }
   ],
   "source": [
    "# Load the dataset\n",
    "harden_df = pd.read_csv('/home/jovyan/PS/data/harden-18-19.csv', sep=',')\n",
    "# Sanity check\n",
    "print('Number of rows in the dataset:', harden_df.shape[0])\n",
    "print('Number of columns in the dataset:', harden_df.shape[1])\n",
    "harden_df.head(5)"
   ]
  },
  {
   "cell_type": "markdown",
   "id": "f63ec12b-6c8d-40af-afdc-f38038a12f00",
   "metadata": {},
   "source": [
    "    2. (2pt) How many games did James Harden play in the 2018-2019 season?\n",
    "    Note: the data also includes games where he did not play."
   ]
  },
  {
   "cell_type": "code",
   "execution_count": 9,
   "id": "8b7699b3-54f8-4692-a3ed-edc4335669a2",
   "metadata": {},
   "outputs": [
    {
     "name": "stdout",
     "output_type": "stream",
     "text": [
      "James Harden played 78 games in the 2018-2019 season.\n"
     ]
    }
   ],
   "source": [
    "# Create a dataframe that has only the rows where Harden played games\n",
    "attended_games = harden_df[~harden_df.G.isna()]\n",
    "# Count the number of games Harden played in 2018-2019 season\n",
    "num_games = len(attended_games)\n",
    "print('James Harden played', num_games, 'games in the 2018-2019 season.')"
   ]
  },
  {
   "cell_type": "markdown",
   "id": "d1c6caaf-01d5-48a0-841f-008b3e08c554",
   "metadata": {},
   "source": [
    "    3. (4pt) Clean the data and ensure the relevant variables are of numeric type so we can use those in the regression models. It is your task to find what is wrong with the data in its present form (it is downloaded directly from basketball-reference.com), and fix these issues.\n",
    "    Hint: a good way to transform text to number is pd.to_numeric."
   ]
  },
  {
   "cell_type": "code",
   "execution_count": 10,
   "id": "9aaab2f0-b24a-47fc-a3f4-dd0fb131c22b",
   "metadata": {
    "tags": []
   },
   "outputs": [],
   "source": [
    "# Check the number of NA values in each column\n",
    "df_nulls = attended_games.isna().sum() # Only FT% has one null\n",
    "attended_games = attended_games.copy()\n",
    "# Variables that interested\n",
    "columns = ['FG', 'FGA', '3P', '3PA', 'FT', 'FTA', 'ORB', 'DRB', 'AST', 'STL', 'BLK', 'TOV', 'PF', 'GmSc']\n",
    "# Covert all the columns to numeric type\n",
    "attended_games[columns] = attended_games[columns].apply(pd.to_numeric)"
   ]
  },
  {
   "cell_type": "markdown",
   "id": "cfba969c-31e3-4f6f-867f-8e6f9a99d3ca",
   "metadata": {},
   "source": [
    "    4. (5pt) Analyze the game score GmSc. What is its distribution? Which distribution does the histogram resemble? Range? Mean? Standard deviation?"
   ]
  },
  {
   "cell_type": "code",
   "execution_count": 11,
   "id": "92e5b52a-92b0-4d82-91f1-7d5ccce910af",
   "metadata": {},
   "outputs": [
    {
     "data": {
      "image/png": "[encoded data removed]",
      "text/plain": [
       "<Figure size 720x360 with 1 Axes>"
      ]
     },
     "metadata": {
      "needs_background": "light"
     },
     "output_type": "display_data"
    },
    {
     "name": "stdout",
     "output_type": "stream",
     "text": [
      "Range:  51.0\n",
      "Mean:  26.708974358974366\n",
      "Standard Deviation:  9.989227350031864\n"
     ]
    }
   ],
   "source": [
    "# Create a histogram that shows the distribution of the game score\n",
    "game_score_distribution = plt.rcParams[\"figure.figsize\"] = (10, 5)\n",
    "game_score_distribution = plt.hist(attended_games['GmSc'], edgecolor = 'w', bins = 10)\n",
    "game_score_distribution = plt.title('James Harden Game Score Distribution')\n",
    "game_score_distribution = plt.xlabel('Game Score')\n",
    "game_score_distribution = plt.ylabel('Count') \n",
    "game_score_distribution = plt.show()\n",
    "\n",
    "# Compute the range, mean, and standard deviation\n",
    "print('Range: ', (np.max(attended_games.GmSc) - np.min(attended_games.GmSc)))\n",
    "print(\"Mean: \", np.mean(attended_games.GmSc))\n",
    "print(\"Standard Deviation: \", np.std(attended_games.GmSc))"
   ]
  },
  {
   "cell_type": "markdown",
   "id": "75cd1948-9aef-4bbe-a843-dad53baf5fda",
   "metadata": {},
   "source": [
    "The distribution of the game score appears to be unimodal, and there is no apparent skew in the histogram. The histogram appears to be normal. However, one node is a lot higher than the other nodes, which indicates that James Harden normally has a game score between 20 to 30."
   ]
  },
  {
   "cell_type": "markdown",
   "id": "9ccb5240-ca4f-45e3-aa8a-63fe74625789",
   "metadata": {},
   "source": [
    "    5. (6pt) First, let’s run a simple regression model explaining game score GmSc by field goal attempts FGA: \n",
    "    GmScg =β0 +β1 ·FGAg +εg\n",
    "    where gindexes games. (Call this Model 5).\n",
    "    Display the results and answer the following questions:\n",
    "        (a) What is the interpretation of Intercept (β0)?\n",
    "        (b) What is the interpretation of FGA (β1)? Is it statistically significant?"
   ]
  },
  {
   "cell_type": "code",
   "execution_count": 12,
   "id": "57b3dc58-31ad-4799-a691-f88755d00b8c",
   "metadata": {},
   "outputs": [
    {
     "name": "stdout",
     "output_type": "stream",
     "text": [
      "                            OLS Regression Results                            \n",
      "==============================================================================\n",
      "Dep. Variable:                   GmSc   R-squared:                       0.151\n",
      "Model:                            OLS   Adj. R-squared:                  0.140\n",
      "Method:                 Least Squares   F-statistic:                     13.54\n",
      "Date:                Thu, 17 Mar 2022   Prob (F-statistic):           0.000433\n",
      "Time:                        18:52:41   Log-Likelihood:                -283.80\n",
      "No. Observations:                  78   AIC:                             571.6\n",
      "Df Residuals:                      76   BIC:                             576.3\n",
      "Df Model:                           1                                         \n",
      "Covariance Type:            nonrobust                                         \n",
      "==============================================================================\n",
      "                 coef    std err          t      P>|t|      [0.025      0.975]\n",
      "------------------------------------------------------------------------------\n",
      "Intercept     11.5963      4.240      2.735      0.008       3.152      20.041\n",
      "FGA            0.6175      0.168      3.680      0.000       0.283       0.952\n",
      "==============================================================================\n",
      "Omnibus:                        0.602   Durbin-Watson:                   1.884\n",
      "Prob(Omnibus):                  0.740   Jarque-Bera (JB):                0.739\n",
      "Skew:                          -0.137   Prob(JB):                        0.691\n",
      "Kurtosis:                       2.609   Cond. No.                         102.\n",
      "==============================================================================\n",
      "\n",
      "Notes:\n",
      "[1] Standard Errors assume that the covariance matrix of the errors is correctly specified.\n"
     ]
    }
   ],
   "source": [
    "# Create a simple regression model of the game score by field goal attempts\n",
    "simple_regression = smf.ols(\"GmSc ~ FGA\", data = attended_games).fit()\n",
    "# Print the summary of the model\n",
    "print(simple_regression.summary())"
   ]
  },
  {
   "cell_type": "markdown",
   "id": "09ecdd63-31f9-41ac-b528-dbea74ff74db",
   "metadata": {},
   "source": [
    "(a) The intercept $\\beta_0$ in the model is 11.5963. This means that when there is 0 field goal attempt, there are 11.5963 game scores. This can be meaningful. The only situation when Harden can have an 11.5963 game score while making 0 field goal attempts is when he got fouled and did not make the basket. Although it is a rare situation, it is not impossible. Thus, the intercept does have a meaningful interpretation."
   ]
  },
  {
   "cell_type": "markdown",
   "id": "79043c57-d373-497d-b72f-5f192afe1d07",
   "metadata": {},
   "source": [
    "(b) The slope $\\beta_1$ (FGA) is 0.6175. This means that for every field goal attempt, the game score will increase by 0.6175. The p-value for $\\beta_1$ is 0.000, which is smaller than the typical alpha value (i.e., 0.05), which means that it is statistically significant."
   ]
  },
  {
   "cell_type": "markdown",
   "id": "cbdaa597-75f6-4ba8-bf64-781d45e12998",
   "metadata": {},
   "source": [
    "    6. (12pt) Next, let’s analyse how is game score related to field goals (FG) and field goal attempts (FGA). Estimate the model\n",
    "    GmScg =β0 +β1 ·FGg +β2 ·FGAg +εg.\n",
    "    (Call this Model 6).\n",
    "    If done correctly, you should see results approximately 6.9, 3.4, -0.7.\n",
    "    Answer the following questions:\n",
    "    (a) What is the interpretation of FG? Is it statistically significant? \n",
    "    (b) What is the interpretation of FGA (β2)? Is it statistically significant?\n",
    "    (c) How do you explain the fact that model 5 shows positive and model 6 shows a negative estimate for FGA? There is a very easy an intuitive explanation that everyone will understand. Can you figure out what it is?\n",
    "    (d) What is the R2 of the model? How does it compare to the model 5? What do you conclude from this comparison?"
   ]
  },
  {
   "cell_type": "code",
   "execution_count": 13,
   "id": "7ba9d412-7994-434c-825e-e89945a9c81c",
   "metadata": {},
   "outputs": [
    {
     "name": "stdout",
     "output_type": "stream",
     "text": [
      "                            OLS Regression Results                            \n",
      "==============================================================================\n",
      "Dep. Variable:                   GmSc   R-squared:                       0.573\n",
      "Model:                            OLS   Adj. R-squared:                  0.562\n",
      "Method:                 Least Squares   F-statistic:                     50.42\n",
      "Date:                Thu, 17 Mar 2022   Prob (F-statistic):           1.33e-14\n",
      "Time:                        18:52:41   Log-Likelihood:                -256.97\n",
      "No. Observations:                  78   AIC:                             519.9\n",
      "Df Residuals:                      75   BIC:                             527.0\n",
      "Df Model:                           2                                         \n",
      "Covariance Type:            nonrobust                                         \n",
      "==============================================================================\n",
      "                 coef    std err          t      P>|t|      [0.025      0.975]\n",
      "------------------------------------------------------------------------------\n",
      "Intercept      6.8608      3.075      2.231      0.029       0.735      12.987\n",
      "FG             3.4082      0.396      8.616      0.000       2.620       4.196\n",
      "FGA           -0.6940      0.194     -3.584      0.001      -1.080      -0.308\n",
      "==============================================================================\n",
      "Omnibus:                        2.958   Durbin-Watson:                   1.880\n",
      "Prob(Omnibus):                  0.228   Jarque-Bera (JB):                1.904\n",
      "Skew:                           0.154   Prob(JB):                        0.386\n",
      "Kurtosis:                       2.299   Cond. No.                         113.\n",
      "==============================================================================\n",
      "\n",
      "Notes:\n",
      "[1] Standard Errors assume that the covariance matrix of the errors is correctly specified.\n"
     ]
    }
   ],
   "source": [
    "# Create a game score model with factors FG and FGA\n",
    "GmScg_model = smf.ols(\"GmSc ~ FG + FGA\", data = attended_games).fit()\n",
    "# Print summary result\n",
    "print(GmScg_model.summary())"
   ]
  },
  {
   "cell_type": "markdown",
   "id": "a93f6749-5a9e-464c-9f49-e1847519f641",
   "metadata": {},
   "source": [
    "(a) The FG coefficient is 6.8608. This means that for every field goal made, the game score will increase by 3.4082. The p-value for FG is 0.000, which is smaller than the typical alpha value (i.e., 0.05), which means that it is statistically significant."
   ]
  },
  {
   "cell_type": "markdown",
   "id": "e6a512f9-ed01-41d1-86a8-cd8e1e2f0aa6",
   "metadata": {},
   "source": [
    "(b) The FGA coefficient is -0.6940. This means that for every field goal attempt, the game score will decrease by 0.6940. The p-value for FGA is 0.001, which is smaller than the typical alpha value (i.e., 0.05), which means that it is statistically significant."
   ]
  },
  {
   "cell_type": "markdown",
   "id": "a8ad536b-0e33-48c9-9c2a-40638bd89a68",
   "metadata": {},
   "source": [
    "(c) The reason why model 5 shows positive and model 6 shows a negative estimate for FGA is that there are multiple explanatory variables that will affect the game score. Thus, they will not have as much influence as they would have done when there is only one factor. For example, in this model, we have both FG and FGA, but for model 5, we only have FGA. Thus, the FGA has a smaller effect in model 6 than in model 5. Also,  given the same number of goals, one more attempt will lower the score by 0.7. This means that Harden is attempting more but still getting the same number of goals. Hence we can interpret it as the effect of a missed attempt."
   ]
  },
  {
   "cell_type": "markdown",
   "id": "4d2dccd6-337f-40b2-a261-908d3b57f04e",
   "metadata": {},
   "source": [
    "(d) $R^2$ for model 5 is 0.151 and the $R^2$ for model 6 is 0.573. Compared to model 5, the $R^2$ for model 6 is bigger and thus better. I can conclude that there is a stronger correlation between the multiple explanatory variables and the game score than just FGA and the game score."
   ]
  },
  {
   "cell_type": "markdown",
   "id": "d3188daa-4c54-482e-8c1e-769550f82eed",
   "metadata": {},
   "source": [
    "    7. (9pt) Now include all the independent numerical variables, i.e. FG, FGA, 3P, 3PA, FT, FTA, ORB, DRB, AST, STL, BLK, TOV, PF into the model. Estimate it, and discuss the results.\n",
    "    Answer the following questions:\n",
    "    (a) How do standard errors and t-values look like in this model?\n",
    "    (b) What is R2 of this model? What does it tell you about how game score is calculated?\n",
    "    (c) What do the results tell about turnover (TOV)? Is it good or bad for the team?\n",
    "    Suggestion: check out patsy Q() quoting to include non-valid variable names."
   ]
  },
  {
   "cell_type": "code",
   "execution_count": 14,
   "id": "39ecb943-8908-4a28-869a-70e912bdd68e",
   "metadata": {},
   "outputs": [
    {
     "name": "stdout",
     "output_type": "stream",
     "text": [
      "                            OLS Regression Results                            \n",
      "==============================================================================\n",
      "Dep. Variable:                   GmSc   R-squared:                       1.000\n",
      "Model:                            OLS   Adj. R-squared:                  1.000\n",
      "Method:                 Least Squares   F-statistic:                 6.972e+28\n",
      "Date:                Thu, 17 Mar 2022   Prob (F-statistic):               0.00\n",
      "Time:                        18:52:41   Log-Likelihood:                 2237.8\n",
      "No. Observations:                  78   AIC:                            -4448.\n",
      "Df Residuals:                      64   BIC:                            -4415.\n",
      "Df Model:                          13                                         \n",
      "Covariance Type:            nonrobust                                         \n",
      "==============================================================================\n",
      "                 coef    std err          t      P>|t|      [0.025      0.975]\n",
      "------------------------------------------------------------------------------\n",
      "Intercept  -3.553e-15   6.57e-14     -0.054      0.957   -1.35e-13    1.28e-13\n",
      "FG             2.4000   7.96e-15   3.02e+14      0.000       2.400       2.400\n",
      "FGA           -0.7000    4.6e-15  -1.52e+14      0.000      -0.700      -0.700\n",
      "Q('3P')        1.0000   8.87e-15   1.13e+14      0.000       1.000       1.000\n",
      "Q('3PA')   -6.661e-16   5.99e-15     -0.111      0.912   -1.26e-14    1.13e-14\n",
      "FT             1.4000   1.05e-14   1.34e+14      0.000       1.400       1.400\n",
      "FTA           -0.4000   9.45e-15  -4.23e+13      0.000      -0.400      -0.400\n",
      "ORB            0.7000   1.23e-14   5.71e+13      0.000       0.700       0.700\n",
      "DRB            0.3000   4.59e-15   6.54e+13      0.000       0.300       0.300\n",
      "AST            0.7000   3.42e-15   2.04e+14      0.000       0.700       0.700\n",
      "STL            1.0000   7.81e-15   1.28e+14      0.000       1.000       1.000\n",
      "BLK            0.7000   1.42e-14   4.92e+13      0.000       0.700       0.700\n",
      "TOV           -1.0000   5.79e-15  -1.73e+14      0.000      -1.000      -1.000\n",
      "PF            -0.4000   8.78e-15  -4.56e+13      0.000      -0.400      -0.400\n",
      "==============================================================================\n",
      "Omnibus:                        2.348   Durbin-Watson:                   0.127\n",
      "Prob(Omnibus):                  0.309   Jarque-Bera (JB):                1.590\n",
      "Skew:                          -0.107   Prob(JB):                        0.451\n",
      "Kurtosis:                       2.334   Cond. No.                         228.\n",
      "==============================================================================\n",
      "\n",
      "Notes:\n",
      "[1] Standard Errors assume that the covariance matrix of the errors is correctly specified.\n"
     ]
    }
   ],
   "source": [
    "# Create a copy of the dataset to avoid warning\n",
    "attended_games = attended_games.copy()\n",
    "# Create a model with all the independent numerial variables\n",
    "all_variables_model = smf.ols(\"GmSc ~ FG + FGA + Q('3P') + Q('3PA') + FT + FTA + ORB + DRB + AST + STL + BLK + TOV + PF\", data = attended_games).fit()\n",
    "# Print the summary table\n",
    "print(all_variables_model.summary())"
   ]
  },
  {
   "cell_type": "markdown",
   "id": "dad57820-c953-411d-a979-769d05b5d6f2",
   "metadata": {},
   "source": [
    "(a) The standard errors in this model are all very close to 0. The t values in this model are very big in magnitude (except for intercept and three-point attempts), which can indicate that these values are statistically significantly different from one another."
   ]
  },
  {
   "cell_type": "markdown",
   "id": "85f0582f-4e21-44a6-9b9a-eece396e8a2d",
   "metadata": {},
   "source": [
    "(b) The $R^2$ in this model is 1.000. This means that the data point matches the regression equation made for these variables perfectly. That means that this model would calculate the game scores of the different games in the dataset. It would calculate the game scores of James Harden in the 2018-2019 season accurately."
   ]
  },
  {
   "cell_type": "markdown",
   "id": "6ae30e98-4c5b-45cc-87ae-c8dcef99c2cb",
   "metadata": {},
   "source": [
    "(c) The turnover (TOV)'s coefficient is -1.0000 in this mode. This means that for every turnover, the game score will decrease by 1. This is bad for the team because as the game score is an indication of the player's performance. If the performance of Harden goes down, it is not good for the team since he is part of the team. The team should want every single player's game score to be high."
   ]
  },
  {
   "cell_type": "markdown",
   "id": "364b7a96-0d8f-4a01-a771-8a5ba83e0d98",
   "metadata": {},
   "source": [
    "    8. (5pt) Finally, consult the game score explanation at https://www.nbastuffer.com/analytics101/game-score/. Did you recover the same formula?"
   ]
  },
  {
   "cell_type": "markdown",
   "id": "ae8c705e-2d3d-4256-b129-172969493f07",
   "metadata": {},
   "source": [
    "Although there are some differences in the factors used, the formula is about the same as the one shown on the website. For example, the game score formula has 'points' as one of the factors. Although we don't have 'points' in the formula, but that can be calculated by using (Field Goals Made - Three Points Made) * 2 + Three Points Made * 3 + Free Throws Made * 1. Essentially, we have the same formula as the one presented on https://www.nbastuffer.com/analytics101/game-score/."
   ]
  },
  {
   "cell_type": "markdown",
   "id": "b0c4ab59-b048-4b59-93c9-4df97630c622",
   "metadata": {},
   "source": [
    "# Interpret regression results in the literature (10pt)"
   ]
  },
  {
   "cell_type": "markdown",
   "id": "aab53394-3ed1-4a4f-ab07-e23528cecd86",
   "metadata": {},
   "source": [
    "    1. (3pt) Do those who have a partner have better mental health (as measured by PHQ-9)? Is the effect statistically significant?"
   ]
  },
  {
   "cell_type": "markdown",
   "id": "1b296e75-f48a-40a3-8934-903419cff9a7",
   "metadata": {},
   "source": [
    "The higher the PHQ-9 score, the worse mental health. The coefficient for having a partner is -0.47, and its p-value is 0.150. This means that having a partner improves mental health because it decreases the score. However, since the p-value is 0.150, it means that it is not statistically significant because 0.150 is much higher than the typical accepted alpha values (i.e., 0.05)."
   ]
  },
  {
   "cell_type": "markdown",
   "id": "deed27d3-70c5-4ba1-8c4c-a56c0ad23430",
   "metadata": {},
   "source": [
    "    2. (4pt) What is the effect of COVID exposure? Is it improving or worsening mental health? Is the effect statistically significant?"
   ]
  },
  {
   "cell_type": "markdown",
   "id": "0b72b71c-17c8-4141-b35e-3398c538d719",
   "metadata": {},
   "source": [
    "The coefficient if having a COVID-19 exposure is 0.24. This indicates that having a COVID-19 exposure worsens mental health because it increases the PHQ-9 score. The p-value for having a COVID-19 exposure is 0.129, which is still higher than most accepted alpha values (i.e., 0.05). Thus, it is not statistically significant."
   ]
  },
  {
   "cell_type": "markdown",
   "id": "6991816a-a068-45b7-9df2-1b90689ad6af",
   "metadata": {},
   "source": [
    "    3. (3pt) How is Financial distress related to mental health? Is the effect statistically significant?"
   ]
  },
  {
   "cell_type": "markdown",
   "id": "bdd64cba-5c85-435a-af67-dcb31e5ed33a",
   "metadata": {},
   "source": [
    "The coefficient of financial distress is 2.32, which means that having financial distress worsens mental health because it increases the PHQ-9 score. The p-value of having financial distress is 0.001, which is less than the typical accepted alpha values (i.e., 0.05), which means that the effect is statistically significant."
   ]
  }
 ],
 "metadata": {
  "kernelspec": {
   "display_name": "Python 3 (ipykernel)",
   "language": "python",
   "name": "python3"
  },
  "language_info": {
   "codemirror_mode": {
    "name": "ipython",
    "version": 3
   },
   "file_extension": ".py",
   "mimetype": "text/x-python",
   "name": "python",
   "nbconvert_exporter": "python",
   "pygments_lexer": "ipython3",
   "version": "3.9.7"
  }
 },
 "nbformat": 4,
 "nbformat_minor": 5
}

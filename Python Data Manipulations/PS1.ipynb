{
 "cells": [
  {
   "cell_type": "code",
   "execution_count": 1,
   "id": "494799f4-0752-4cae-95b2-791dfcdf9606",
   "metadata": {},
   "outputs": [
    {
     "data": {
      "text/plain": [
       "'/home/jovyan/PS'"
      ]
     },
     "execution_count": 1,
     "metadata": {},
     "output_type": "execute_result"
    }
   ],
   "source": [
    "# Import packages\n",
    "import pandas as pd\n",
    "import numpy as np\n",
    "import os\n",
    "os.getcwd()"
   ]
  },
  {
   "cell_type": "markdown",
   "id": "1e5c21e5-8eaf-4f78-a312-683eb04bcecf",
   "metadata": {},
   "source": [
    "# Lists (6pt)"
   ]
  },
  {
   "cell_type": "markdown",
   "id": "c24e37d9-f21d-4217-bdde-94df8a765244",
   "metadata": {},
   "source": [
    "    1. (2pt) Create a list ‘movies‘ that contains the names of at least six movies you like"
   ]
  },
  {
   "cell_type": "code",
   "execution_count": 2,
   "id": "37f1c137-ba1a-449e-a4d8-bfcce3169e04",
   "metadata": {},
   "outputs": [],
   "source": [
    "# Make a list of six movie names\n",
    "movies = [\"Lord of the Rings\", \"Hacksaw Ridge\", \"Avengers\", \"Hobbits\", \"King's Speech\", \"Saving Private Ryan\"]"
   ]
  },
  {
   "cell_type": "markdown",
   "id": "70fe2396-a22e-46ed-96a1-b4d1bdfcf972",
   "metadata": {},
   "source": [
    "    2. (2pt) Use slicing, and create a list of three first movies in the list"
   ]
  },
  {
   "cell_type": "code",
   "execution_count": 3,
   "id": "0a58ef05-593f-42bd-a3f6-23709faa8c2b",
   "metadata": {},
   "outputs": [
    {
     "name": "stdout",
     "output_type": "stream",
     "text": [
      "['Lord of the Rings', 'Hacksaw Ridge', 'Avengers']\n"
     ]
    }
   ],
   "source": [
    "# Select indices from the list\n",
    "first_three_movies = movies[0:3]\n",
    "print(first_three_movies)"
   ]
  },
  {
   "cell_type": "markdown",
   "id": "096c2269-fd04-454b-9501-2cd29c6f5e14",
   "metadata": {},
   "source": [
    "    3. (2pt) Use slicing and list concatenation to create a list of the first two and the last two movies"
   ]
  },
  {
   "cell_type": "code",
   "execution_count": 4,
   "id": "c481539e-246d-4251-bbd9-af82a46a9d81",
   "metadata": {},
   "outputs": [
    {
     "name": "stdout",
     "output_type": "stream",
     "text": [
      "['Lord of the Rings', 'Hacksaw Ridge', \"King's Speech\", 'Saving Private Ryan']\n"
     ]
    }
   ],
   "source": [
    "# Use slicing and list concatenation to get a list of first two and last two elements of the movie list\n",
    "first_last_two_movies = movies[:2] + movies[-2:]\n",
    "print(first_last_two_movies)"
   ]
  },
  {
   "cell_type": "markdown",
   "id": "c5d59e22-8835-43b5-ac22-85bf2f8573cd",
   "metadata": {},
   "source": [
    "# Loops (6pt)"
   ]
  },
  {
   "cell_type": "markdown",
   "id": "01258da5-0708-4630-8fe4-21c0ebfca768",
   "metadata": {},
   "source": [
    "    1. (2pt) Create a list ‘numbers‘ that is the numbers 70 through 79 in the following manner: create an empty list and add numbers to it in a loop (do not use list comprehension or ‘list‘ function here!)"
   ]
  },
  {
   "cell_type": "code",
   "execution_count": 5,
   "id": "bf7ed656-735a-44f3-a5d7-78ca15446a89",
   "metadata": {},
   "outputs": [
    {
     "name": "stdout",
     "output_type": "stream",
     "text": [
      "[70, 71, 72, 73, 74, 75, 76, 77, 78, 79]\n"
     ]
    }
   ],
   "source": [
    "# Create an empty list\n",
    "numbers = []\n",
    "# Create for loop than runs from 70 and stops before 80 and put values in the list\n",
    "for i in range(70, 80):\n",
    "        numbers.append(i)\n",
    "print(numbers)"
   ]
  },
  {
   "cell_type": "markdown",
   "id": "070d6962-2ca2-4a4d-b9a7-94a551b262b2",
   "metadata": {},
   "source": [
    "    2. (2pt) Use loop to compute sum of all integers from 1 till 100."
   ]
  },
  {
   "cell_type": "code",
   "execution_count": 6,
   "id": "3c109aa7-e7c5-4dae-9fa8-13b5d63a3258",
   "metadata": {},
   "outputs": [
    {
     "name": "stdout",
     "output_type": "stream",
     "text": [
      "5050\n"
     ]
    }
   ],
   "source": [
    "# Set initial sum to 0\n",
    "sum_int_100 = 0\n",
    "# Create for loop that runs from 1 and stops before 100 and add the values\n",
    "for i in range(1,101):\n",
    "    sum_int_100 += i\n",
    "print(sum_int_100)"
   ]
  },
  {
   "cell_type": "markdown",
   "id": "d7dd39b3-23fa-4296-8219-203368f38de2",
   "metadata": {},
   "source": [
    "    3. (2pt) Assign people to seats. Consider names Adam, Ashin, Inukai, Tanaka, and Ikki; and seats 33, 12, 45, 2 and 17. Print seat assignments by assigning each name to the corresponding seat. You coude should output\n",
    "    Adam: 33\n",
    "    Ashin: 12\n",
    "    ...\n",
    "    Hint: loop over the integer range of the length of names (here 0..4, remember–python indexing is\n",
    "    0-based), and use indexing to access the corresponding name and seat number."
   ]
  },
  {
   "cell_type": "code",
   "execution_count": 7,
   "id": "0d91ddbe-743e-4524-bed9-175496c37667",
   "metadata": {},
   "outputs": [
    {
     "name": "stdout",
     "output_type": "stream",
     "text": [
      "Adam: 33\n",
      "Ashin: 12\n",
      "Inukai: 45\n",
      "Tanaka: 2\n",
      "Ikki: 17\n"
     ]
    }
   ],
   "source": [
    "# Create an empty list\n",
    "seat_assignment = []\n",
    "# Assign names and seat numbers to two lists\n",
    "seats = [33, 12, 45, 2, 17]\n",
    "names = [\"Adam\", \"Ashin\", \"Inukai\", \"Tanaka\", \"Ikki\"]\n",
    "# For loop from 0 and stops before 5 and combine names and seats together\n",
    "for i in range(0, len(names)):\n",
    "    print(names[i] + \": \" + str(seats[i]))"
   ]
  },
  {
   "cell_type": "markdown",
   "id": "22e08efd-6f43-47be-96b8-f1dc8f0db518",
   "metadata": {},
   "source": [
    "# Comprehensions (4pt)"
   ]
  },
  {
   "cell_type": "markdown",
   "id": "a366f6bf-cdc7-46e0-b342-27b53b4e19d6",
   "metadata": {},
   "source": [
    "    1. (2pt) Use list comprehension to create a list of squares of numbers 1..10 (i.e. 1, 4, 9, ..., 100)"
   ]
  },
  {
   "cell_type": "code",
   "execution_count": 8,
   "id": "83c291f9-6de1-4e53-9893-451f729a0bf4",
   "metadata": {},
   "outputs": [
    {
     "name": "stdout",
     "output_type": "stream",
     "text": [
      "[1, 4, 9, 16, 25, 36, 49, 64, 81, 100]\n"
     ]
    }
   ],
   "source": [
    "# Create an empty list\n",
    "square_list = []\n",
    "# Append values into the list by using a loop\n",
    "for i in range(1,11):\n",
    "  square_list.append(i ** 2)\n",
    "print(square_list)"
   ]
  },
  {
   "cell_type": "markdown",
   "id": "ccb60dad-5eb2-4af2-8a66-b4f39172f171",
   "metadata": {},
   "source": [
    "    2. (2pt) Use dict comprehension to create a dict of numbers 1..10 and their squares (i.e. 1:1, 2:4, ..., 10:100)."
   ]
  },
  {
   "cell_type": "code",
   "execution_count": 9,
   "id": "5fdd653e-7809-49a4-a129-3bcacdc9421d",
   "metadata": {},
   "outputs": [
    {
     "name": "stdout",
     "output_type": "stream",
     "text": [
      "{1: 1, 2: 4, 3: 9, 4: 16, 5: 25, 6: 36, 7: 49, 8: 64, 9: 81, 10: 100}\n"
     ]
    }
   ],
   "source": [
    "# Create an empty dictionary\n",
    "square_dict = {}\n",
    "# For loop to calculate and insert values into the dictionary\n",
    "for i in range(1, 11):\n",
    "    square_dict[i] = i ** 2\n",
    "print(square_dict)"
   ]
  },
  {
   "cell_type": "markdown",
   "id": "7a58b529-a34e-4ba8-bd59-0c3881196bcd",
   "metadata": {},
   "source": [
    "# Functions and data transformations (8pt)"
   ]
  },
  {
   "cell_type": "markdown",
   "id": "ec87e6f3-83cc-4757-b40e-89fa52819d04",
   "metadata": {},
   "source": [
    "    1. (8pt) Write a function that takes in time in the numeric form (i.e. not a string) of HHMM (hoursminutes), and returns it in the numeric form of HH.HH (hours + fractions of hours). For instance, 1015 → 10.25 (10 hrs 15 mins → 10.25 hrs). Demonstrate it works using values 1015 and 345. The function should return (not print) the result as a number. Hint: use modulo operator % and integer division operator //. Modulo of 100 gives you minutes and integer division by 100 gives you hours"
   ]
  },
  {
   "cell_type": "code",
   "execution_count": 10,
   "id": "12a374be-29f3-4570-9426-bb1197c7e166",
   "metadata": {},
   "outputs": [
    {
     "name": "stdout",
     "output_type": "stream",
     "text": [
      "3.75\n",
      "10.25\n"
     ]
    }
   ],
   "source": [
    "# Function: time_converter, convert a time in numeric form and returns in the numeric form of HH.HH\n",
    "# Input: initial_time, must be numeric\n",
    "# Output: returns the final converted time \n",
    "def time_converter(initial_time):\n",
    "    minute = initial_time % 100\n",
    "    hour = initial_time // 100\n",
    "    fraction = minute / 60\n",
    "    final_time = hour + fraction\n",
    "    return(final_time)\n",
    "# Test using 345 and 1015\n",
    "test1_345 = time_converter(345)\n",
    "print(test1_345)\n",
    "test2_1015 = time_converter(1015)\n",
    "print(test2_1015)\n"
   ]
  },
  {
   "cell_type": "markdown",
   "id": "d2c8f216-b420-4c49-aca1-858364a3f500",
   "metadata": {},
   "source": [
    "# Load data (8pt)"
   ]
  },
  {
   "cell_type": "markdown",
   "id": "53fdd95e-d9ed-45d2-a35b-d68021fc602c",
   "metadata": {},
   "source": [
    "    1. (2pt) Load the csv data file"
   ]
  },
  {
   "cell_type": "code",
   "execution_count": 11,
   "id": "047c5ade-ee1a-4c1a-a9b3-ab5ef2830943",
   "metadata": {},
   "outputs": [],
   "source": [
    "# Load gapminder data\n",
    "gapminder_data = pd.read_csv('/home/jovyan/PS/data/gapminder.csv.bz2', sep='\\t')"
   ]
  },
  {
   "cell_type": "markdown",
   "id": "7424e97c-8b79-424f-88f7-341717ecc1a9",
   "metadata": {},
   "source": [
    "    2. (6pt) Do basic sanity checks:"
   ]
  },
  {
   "cell_type": "markdown",
   "id": "08f5f50e-5274-4522-ac7c-a3474f206e29",
   "metadata": {},
   "source": [
    "    (a) How many variables (columns) is there in the data? Ensure you know the variables in the\n",
    "    data. Keep the documentation nearby."
   ]
  },
  {
   "cell_type": "code",
   "execution_count": 12,
   "id": "913c5a13-3c5d-4b1d-8fe7-53e3901904f8",
   "metadata": {},
   "outputs": [
    {
     "name": "stdout",
     "output_type": "stream",
     "text": [
      "Number of columns = 25\n"
     ]
    }
   ],
   "source": [
    "# Find columns using shape()\n",
    "num_columns = gapminder_data.shape[1]\n",
    "print('Number of columns =', num_columns)"
   ]
  },
  {
   "cell_type": "markdown",
   "id": "664c5442-9455-418d-966e-711057e08936",
   "metadata": {},
   "source": [
    "    (b) How many rows of data is there?"
   ]
  },
  {
   "cell_type": "code",
   "execution_count": 13,
   "id": "89f8894c-d004-47de-a264-3e9b6e28b78e",
   "metadata": {},
   "outputs": [
    {
     "name": "stdout",
     "output_type": "stream",
     "text": [
      "Number of rows = 13055\n"
     ]
    }
   ],
   "source": [
    "# Find rows using shape()\n",
    "num_rows = gapminder_data.shape[0]\n",
    "print('Number of rows =', num_rows)"
   ]
  },
  {
   "cell_type": "markdown",
   "id": "4e0a3e44-53c0-4555-98c8-075204d558cb",
   "metadata": {},
   "source": [
    "    (c) print the first few lines of data. Does it look reasonable?"
   ]
  },
  {
   "cell_type": "code",
   "execution_count": 14,
   "id": "cded224f-17c9-40f7-ad7e-c88706bdbf50",
   "metadata": {},
   "outputs": [
    {
     "data": {
      "text/html": [
       "<div>\n",
       "<style scoped>\n",
       "    .dataframe tbody tr th:only-of-type {\n",
       "        vertical-align: middle;\n",
       "    }\n",
       "\n",
       "    .dataframe tbody tr th {\n",
       "        vertical-align: top;\n",
       "    }\n",
       "\n",
       "    .dataframe thead th {\n",
       "        text-align: right;\n",
       "    }\n",
       "</style>\n",
       "<table border=\"1\" class=\"dataframe\">\n",
       "  <thead>\n",
       "    <tr style=\"text-align: right;\">\n",
       "      <th></th>\n",
       "      <th>iso3</th>\n",
       "      <th>name</th>\n",
       "      <th>iso2</th>\n",
       "      <th>region</th>\n",
       "      <th>sub-region</th>\n",
       "      <th>intermediate-region</th>\n",
       "      <th>time</th>\n",
       "      <th>totalPopulation</th>\n",
       "      <th>fertilityRate</th>\n",
       "      <th>lifeExpectancy</th>\n",
       "      <th>...</th>\n",
       "      <th>accessElectricity</th>\n",
       "      <th>agriculturalLand</th>\n",
       "      <th>agricultureTractors</th>\n",
       "      <th>cerealProduction</th>\n",
       "      <th>fertilizerHa</th>\n",
       "      <th>co2</th>\n",
       "      <th>greenhouseGases</th>\n",
       "      <th>co2_PC</th>\n",
       "      <th>pm2.5_35</th>\n",
       "      <th>battleDeaths</th>\n",
       "    </tr>\n",
       "  </thead>\n",
       "  <tbody>\n",
       "    <tr>\n",
       "      <th>0</th>\n",
       "      <td>ABW</td>\n",
       "      <td>Aruba</td>\n",
       "      <td>AW</td>\n",
       "      <td>Americas</td>\n",
       "      <td>Latin America and the Caribbean</td>\n",
       "      <td>Caribbean</td>\n",
       "      <td>1960.0</td>\n",
       "      <td>54211.0</td>\n",
       "      <td>4.820</td>\n",
       "      <td>65.662</td>\n",
       "      <td>...</td>\n",
       "      <td>NaN</td>\n",
       "      <td>NaN</td>\n",
       "      <td>NaN</td>\n",
       "      <td>NaN</td>\n",
       "      <td>NaN</td>\n",
       "      <td>11092.675</td>\n",
       "      <td>NaN</td>\n",
       "      <td>204.62037</td>\n",
       "      <td>NaN</td>\n",
       "      <td>NaN</td>\n",
       "    </tr>\n",
       "    <tr>\n",
       "      <th>1</th>\n",
       "      <td>ABW</td>\n",
       "      <td>Aruba</td>\n",
       "      <td>AW</td>\n",
       "      <td>Americas</td>\n",
       "      <td>Latin America and the Caribbean</td>\n",
       "      <td>Caribbean</td>\n",
       "      <td>1961.0</td>\n",
       "      <td>55438.0</td>\n",
       "      <td>4.655</td>\n",
       "      <td>66.074</td>\n",
       "      <td>...</td>\n",
       "      <td>NaN</td>\n",
       "      <td>20.0</td>\n",
       "      <td>NaN</td>\n",
       "      <td>NaN</td>\n",
       "      <td>NaN</td>\n",
       "      <td>11576.719</td>\n",
       "      <td>NaN</td>\n",
       "      <td>208.82281</td>\n",
       "      <td>NaN</td>\n",
       "      <td>NaN</td>\n",
       "    </tr>\n",
       "    <tr>\n",
       "      <th>2</th>\n",
       "      <td>ABW</td>\n",
       "      <td>Aruba</td>\n",
       "      <td>AW</td>\n",
       "      <td>Americas</td>\n",
       "      <td>Latin America and the Caribbean</td>\n",
       "      <td>Caribbean</td>\n",
       "      <td>1962.0</td>\n",
       "      <td>56225.0</td>\n",
       "      <td>4.471</td>\n",
       "      <td>66.444</td>\n",
       "      <td>...</td>\n",
       "      <td>NaN</td>\n",
       "      <td>20.0</td>\n",
       "      <td>NaN</td>\n",
       "      <td>NaN</td>\n",
       "      <td>NaN</td>\n",
       "      <td>12713.489</td>\n",
       "      <td>NaN</td>\n",
       "      <td>226.11808</td>\n",
       "      <td>NaN</td>\n",
       "      <td>NaN</td>\n",
       "    </tr>\n",
       "    <tr>\n",
       "      <th>3</th>\n",
       "      <td>ABW</td>\n",
       "      <td>Aruba</td>\n",
       "      <td>AW</td>\n",
       "      <td>Americas</td>\n",
       "      <td>Latin America and the Caribbean</td>\n",
       "      <td>Caribbean</td>\n",
       "      <td>1963.0</td>\n",
       "      <td>56695.0</td>\n",
       "      <td>4.271</td>\n",
       "      <td>66.787</td>\n",
       "      <td>...</td>\n",
       "      <td>NaN</td>\n",
       "      <td>20.0</td>\n",
       "      <td>NaN</td>\n",
       "      <td>NaN</td>\n",
       "      <td>NaN</td>\n",
       "      <td>12178.107</td>\n",
       "      <td>NaN</td>\n",
       "      <td>214.80037</td>\n",
       "      <td>NaN</td>\n",
       "      <td>NaN</td>\n",
       "    </tr>\n",
       "    <tr>\n",
       "      <th>4</th>\n",
       "      <td>ABW</td>\n",
       "      <td>Aruba</td>\n",
       "      <td>AW</td>\n",
       "      <td>Americas</td>\n",
       "      <td>Latin America and the Caribbean</td>\n",
       "      <td>Caribbean</td>\n",
       "      <td>1964.0</td>\n",
       "      <td>57032.0</td>\n",
       "      <td>4.059</td>\n",
       "      <td>67.113</td>\n",
       "      <td>...</td>\n",
       "      <td>NaN</td>\n",
       "      <td>20.0</td>\n",
       "      <td>NaN</td>\n",
       "      <td>NaN</td>\n",
       "      <td>NaN</td>\n",
       "      <td>11840.743</td>\n",
       "      <td>NaN</td>\n",
       "      <td>207.61578</td>\n",
       "      <td>NaN</td>\n",
       "      <td>NaN</td>\n",
       "    </tr>\n",
       "    <tr>\n",
       "      <th>5</th>\n",
       "      <td>ABW</td>\n",
       "      <td>Aruba</td>\n",
       "      <td>AW</td>\n",
       "      <td>Americas</td>\n",
       "      <td>Latin America and the Caribbean</td>\n",
       "      <td>Caribbean</td>\n",
       "      <td>1965.0</td>\n",
       "      <td>57360.0</td>\n",
       "      <td>3.842</td>\n",
       "      <td>67.435</td>\n",
       "      <td>...</td>\n",
       "      <td>NaN</td>\n",
       "      <td>20.0</td>\n",
       "      <td>NaN</td>\n",
       "      <td>NaN</td>\n",
       "      <td>NaN</td>\n",
       "      <td>10623.299</td>\n",
       "      <td>NaN</td>\n",
       "      <td>185.20396</td>\n",
       "      <td>NaN</td>\n",
       "      <td>NaN</td>\n",
       "    </tr>\n",
       "    <tr>\n",
       "      <th>6</th>\n",
       "      <td>ABW</td>\n",
       "      <td>Aruba</td>\n",
       "      <td>AW</td>\n",
       "      <td>Americas</td>\n",
       "      <td>Latin America and the Caribbean</td>\n",
       "      <td>Caribbean</td>\n",
       "      <td>1966.0</td>\n",
       "      <td>57715.0</td>\n",
       "      <td>3.625</td>\n",
       "      <td>67.762</td>\n",
       "      <td>...</td>\n",
       "      <td>NaN</td>\n",
       "      <td>20.0</td>\n",
       "      <td>NaN</td>\n",
       "      <td>NaN</td>\n",
       "      <td>NaN</td>\n",
       "      <td>9933.903</td>\n",
       "      <td>NaN</td>\n",
       "      <td>172.11995</td>\n",
       "      <td>NaN</td>\n",
       "      <td>NaN</td>\n",
       "    </tr>\n",
       "    <tr>\n",
       "      <th>7</th>\n",
       "      <td>ABW</td>\n",
       "      <td>Aruba</td>\n",
       "      <td>AW</td>\n",
       "      <td>Americas</td>\n",
       "      <td>Latin America and the Caribbean</td>\n",
       "      <td>Caribbean</td>\n",
       "      <td>1967.0</td>\n",
       "      <td>58055.0</td>\n",
       "      <td>3.417</td>\n",
       "      <td>68.095</td>\n",
       "      <td>...</td>\n",
       "      <td>NaN</td>\n",
       "      <td>20.0</td>\n",
       "      <td>NaN</td>\n",
       "      <td>NaN</td>\n",
       "      <td>NaN</td>\n",
       "      <td>12236.779</td>\n",
       "      <td>NaN</td>\n",
       "      <td>210.77907</td>\n",
       "      <td>NaN</td>\n",
       "      <td>NaN</td>\n",
       "    </tr>\n",
       "    <tr>\n",
       "      <th>8</th>\n",
       "      <td>ABW</td>\n",
       "      <td>Aruba</td>\n",
       "      <td>AW</td>\n",
       "      <td>Americas</td>\n",
       "      <td>Latin America and the Caribbean</td>\n",
       "      <td>Caribbean</td>\n",
       "      <td>1968.0</td>\n",
       "      <td>58386.0</td>\n",
       "      <td>3.226</td>\n",
       "      <td>68.436</td>\n",
       "      <td>...</td>\n",
       "      <td>NaN</td>\n",
       "      <td>20.0</td>\n",
       "      <td>NaN</td>\n",
       "      <td>NaN</td>\n",
       "      <td>NaN</td>\n",
       "      <td>11378.701</td>\n",
       "      <td>NaN</td>\n",
       "      <td>194.88749</td>\n",
       "      <td>NaN</td>\n",
       "      <td>NaN</td>\n",
       "    </tr>\n",
       "    <tr>\n",
       "      <th>9</th>\n",
       "      <td>ABW</td>\n",
       "      <td>Aruba</td>\n",
       "      <td>AW</td>\n",
       "      <td>Americas</td>\n",
       "      <td>Latin America and the Caribbean</td>\n",
       "      <td>Caribbean</td>\n",
       "      <td>1969.0</td>\n",
       "      <td>58726.0</td>\n",
       "      <td>3.054</td>\n",
       "      <td>68.784</td>\n",
       "      <td>...</td>\n",
       "      <td>NaN</td>\n",
       "      <td>20.0</td>\n",
       "      <td>NaN</td>\n",
       "      <td>NaN</td>\n",
       "      <td>NaN</td>\n",
       "      <td>14891.687</td>\n",
       "      <td>NaN</td>\n",
       "      <td>253.57911</td>\n",
       "      <td>NaN</td>\n",
       "      <td>NaN</td>\n",
       "    </tr>\n",
       "  </tbody>\n",
       "</table>\n",
       "<p>10 rows × 25 columns</p>\n",
       "</div>"
      ],
      "text/plain": [
       "  iso3   name iso2    region                       sub-region  \\\n",
       "0  ABW  Aruba   AW  Americas  Latin America and the Caribbean   \n",
       "1  ABW  Aruba   AW  Americas  Latin America and the Caribbean   \n",
       "2  ABW  Aruba   AW  Americas  Latin America and the Caribbean   \n",
       "3  ABW  Aruba   AW  Americas  Latin America and the Caribbean   \n",
       "4  ABW  Aruba   AW  Americas  Latin America and the Caribbean   \n",
       "5  ABW  Aruba   AW  Americas  Latin America and the Caribbean   \n",
       "6  ABW  Aruba   AW  Americas  Latin America and the Caribbean   \n",
       "7  ABW  Aruba   AW  Americas  Latin America and the Caribbean   \n",
       "8  ABW  Aruba   AW  Americas  Latin America and the Caribbean   \n",
       "9  ABW  Aruba   AW  Americas  Latin America and the Caribbean   \n",
       "\n",
       "  intermediate-region    time  totalPopulation  fertilityRate  lifeExpectancy  \\\n",
       "0           Caribbean  1960.0          54211.0          4.820          65.662   \n",
       "1           Caribbean  1961.0          55438.0          4.655          66.074   \n",
       "2           Caribbean  1962.0          56225.0          4.471          66.444   \n",
       "3           Caribbean  1963.0          56695.0          4.271          66.787   \n",
       "4           Caribbean  1964.0          57032.0          4.059          67.113   \n",
       "5           Caribbean  1965.0          57360.0          3.842          67.435   \n",
       "6           Caribbean  1966.0          57715.0          3.625          67.762   \n",
       "7           Caribbean  1967.0          58055.0          3.417          68.095   \n",
       "8           Caribbean  1968.0          58386.0          3.226          68.436   \n",
       "9           Caribbean  1969.0          58726.0          3.054          68.784   \n",
       "\n",
       "   ...  accessElectricity  agriculturalLand  agricultureTractors  \\\n",
       "0  ...                NaN               NaN                  NaN   \n",
       "1  ...                NaN              20.0                  NaN   \n",
       "2  ...                NaN              20.0                  NaN   \n",
       "3  ...                NaN              20.0                  NaN   \n",
       "4  ...                NaN              20.0                  NaN   \n",
       "5  ...                NaN              20.0                  NaN   \n",
       "6  ...                NaN              20.0                  NaN   \n",
       "7  ...                NaN              20.0                  NaN   \n",
       "8  ...                NaN              20.0                  NaN   \n",
       "9  ...                NaN              20.0                  NaN   \n",
       "\n",
       "   cerealProduction  fertilizerHa        co2  greenhouseGases     co2_PC  \\\n",
       "0               NaN           NaN  11092.675              NaN  204.62037   \n",
       "1               NaN           NaN  11576.719              NaN  208.82281   \n",
       "2               NaN           NaN  12713.489              NaN  226.11808   \n",
       "3               NaN           NaN  12178.107              NaN  214.80037   \n",
       "4               NaN           NaN  11840.743              NaN  207.61578   \n",
       "5               NaN           NaN  10623.299              NaN  185.20396   \n",
       "6               NaN           NaN   9933.903              NaN  172.11995   \n",
       "7               NaN           NaN  12236.779              NaN  210.77907   \n",
       "8               NaN           NaN  11378.701              NaN  194.88749   \n",
       "9               NaN           NaN  14891.687              NaN  253.57911   \n",
       "\n",
       "   pm2.5_35  battleDeaths  \n",
       "0       NaN           NaN  \n",
       "1       NaN           NaN  \n",
       "2       NaN           NaN  \n",
       "3       NaN           NaN  \n",
       "4       NaN           NaN  \n",
       "5       NaN           NaN  \n",
       "6       NaN           NaN  \n",
       "7       NaN           NaN  \n",
       "8       NaN           NaN  \n",
       "9       NaN           NaN  \n",
       "\n",
       "[10 rows x 25 columns]"
      ]
     },
     "execution_count": 14,
     "metadata": {},
     "output_type": "execute_result"
    }
   ],
   "source": [
    "# Print the first 10 lines of the data\n",
    "gapminder_data.head(10)"
   ]
  },
  {
   "cell_type": "markdown",
   "id": "4b332ef4-c7b2-4426-8e05-22e6fd6bf542",
   "metadata": {},
   "source": [
    "The data looks reasonable to me. Although the first 10 lines of the dataframe has some NA values for the country Aruba, there are values for other countries under the categories such as accessElectricity."
   ]
  },
  {
   "cell_type": "markdown",
   "id": "75c396ac-6cef-46ff-bea4-90e4d8d70962",
   "metadata": {},
   "source": [
    "# Wealth (36pt)"
   ]
  },
  {
   "cell_type": "markdown",
   "id": "602d3bc6-0b1c-4492-9360-e2d9126b0c35",
   "metadata": {},
   "source": [
    "    First, let’s do some data exploration. Answer the following questions: show the code, the computation\n",
    "    results, and comment the results in the accompanying text. Remember: you have to explain your results\n",
    "    as appropriate! Your task is not just to get correct answers but to convince us that you understand what\n",
    "    you are doing."
   ]
  },
  {
   "cell_type": "markdown",
   "id": "25aa9c30-a06d-4726-b373-98c7ec76a8f2",
   "metadata": {},
   "source": [
    "    1. (2pt) How many different countries are there in the data?"
   ]
  },
  {
   "cell_type": "code",
   "execution_count": 15,
   "id": "60ef255d-1fe0-4004-bfda-72275c01b74d",
   "metadata": {},
   "outputs": [
    {
     "name": "stdout",
     "output_type": "stream",
     "text": [
      "There are 249 different countries in the data.\n"
     ]
    }
   ],
   "source": [
    "# Use unique to find the number of different countries in the data\n",
    "num_countries = gapminder_data['name'].nunique()\n",
    "print('There are', num_countries, 'different countries in the data.')"
   ]
  },
  {
   "cell_type": "markdown",
   "id": "8b6d299e-a24a-4213-9c40-fb561dff9b7a",
   "metadata": {},
   "source": [
    "    2. (1pt) What is the earliest and the most recent year in the dataset?"
   ]
  },
  {
   "cell_type": "code",
   "execution_count": 16,
   "id": "5e2ecf45-9b32-4596-8d23-3d281904cf3b",
   "metadata": {
    "tags": []
   },
   "outputs": [
    {
     "name": "stdout",
     "output_type": "stream",
     "text": [
      "1960.0\n",
      "2019.0\n"
     ]
    }
   ],
   "source": [
    "# Use min/max to comput the earliest and the most recent year in the data\n",
    "print(gapminder_data['time'].min())\n",
    "print(gapminder_data['time'].max())"
   ]
  },
  {
   "cell_type": "markdown",
   "id": "5bfeaaed-8f85-4f6f-854a-7986c61216bd",
   "metadata": {},
   "source": [
    "The earlist year in the dataset is 1960. The most recent year in the dataset is 2019."
   ]
  },
  {
   "cell_type": "markdown",
   "id": "2c001e6c-9209-4790-85d2-19cc2a54dea1",
   "metadata": {},
   "source": [
    "    Now let’s define wealth as GDP per capita and let’s explore countries by average wealth."
   ]
  },
  {
   "cell_type": "markdown",
   "id": "ba7c3289-31cb-4c72-a048-3efc5dccaa61",
   "metadata": {},
   "source": [
    "    3. (2pt) For which year do we have the most recent GDP data?\n",
    "    Hint: You can remove all cases where GDP is missing."
   ]
  },
  {
   "cell_type": "code",
   "execution_count": 17,
   "id": "4d303b79-51e6-43ac-85d8-1247b171952d",
   "metadata": {},
   "outputs": [
    {
     "data": {
      "text/plain": [
       "2019.0"
      ]
     },
     "execution_count": 17,
     "metadata": {},
     "output_type": "execute_result"
    }
   ],
   "source": [
    "# Drop the NA values from the GDP_PC column and use max to find the year of the most recent data\n",
    "time_gdp = gapminder_data[[\"GDP_PC\",\"time\"]].dropna()\n",
    "time_gdp.time.max()"
   ]
  },
  {
   "cell_type": "markdown",
   "id": "a053835b-e796-41b8-a3ea-28df80864627",
   "metadata": {},
   "source": [
    "We have the most recent GDP data in 2019. "
   ]
  },
  {
   "cell_type": "markdown",
   "id": "2fb3ca17-f3ab-4a82-a1d4-bee7663b51b3",
   "metadata": {},
   "source": [
    "    4. (3pt) What is the average wealth on this planet as of 2019? Let’s just compute average GDP across\n",
    "    all countries in 2019 and ignore the fact that countries are of different size."
   ]
  },
  {
   "cell_type": "code",
   "execution_count": 18,
   "id": "25caa7e2-6008-4707-a8e5-7f3485e66190",
   "metadata": {},
   "outputs": [
    {
     "name": "stdout",
     "output_type": "stream",
     "text": [
      "The average wealth on this planet as of 2019 is: 15055.352217243239\n"
     ]
    }
   ],
   "source": [
    "# Set condition and calculate GDP mean\n",
    "avg_wealth = time_gdp[time_gdp.time == 2019.0]['GDP_PC'].mean()\n",
    "print('The average wealth on this planet as of 2019 is:', avg_wealth)"
   ]
  },
  {
   "cell_type": "markdown",
   "id": "0f4557ce-953b-4298-be2c-9b631d628151",
   "metadata": {},
   "source": [
    "    5. (6pt) But not all countries may have the same most recent year where GDP data is present. Which 5\n",
    "    countries countries have the largest number of the most recent years missing? (For instance, imagine\n",
    "    there is GDP data for Funan for 2015, 2016, and 2017; but for Khmer Empire only for 2015. Hence\n",
    "    Khmer Empire has two of the most recent years missing.) Till which year do these countries have\n",
    "    data? What do you think, why do these countries have issues with more recent data?\n",
    "    Hint: you may group by country and find max value for the year. In the resulting series, find the\n",
    "    min/max. Check out the nlargest method.\n",
    "    Hint2: two of these countries are Lichtenstein and Faroe Islands."
   ]
  },
  {
   "cell_type": "code",
   "execution_count": 19,
   "id": "f5e914e2-abd5-41d2-8a99-f1433a1d0b0d",
   "metadata": {},
   "outputs": [
    {
     "data": {
      "text/html": [
       "<div>\n",
       "<style scoped>\n",
       "    .dataframe tbody tr th:only-of-type {\n",
       "        vertical-align: middle;\n",
       "    }\n",
       "\n",
       "    .dataframe tbody tr th {\n",
       "        vertical-align: top;\n",
       "    }\n",
       "\n",
       "    .dataframe thead th {\n",
       "        text-align: right;\n",
       "    }\n",
       "</style>\n",
       "<table border=\"1\" class=\"dataframe\">\n",
       "  <thead>\n",
       "    <tr style=\"text-align: right;\">\n",
       "      <th></th>\n",
       "      <th>time</th>\n",
       "      <th>GDP_PC</th>\n",
       "    </tr>\n",
       "    <tr>\n",
       "      <th>name</th>\n",
       "      <th></th>\n",
       "      <th></th>\n",
       "    </tr>\n",
       "  </thead>\n",
       "  <tbody>\n",
       "    <tr>\n",
       "      <th>Djibouti</th>\n",
       "      <td>2010.0</td>\n",
       "      <td>1343.26873</td>\n",
       "    </tr>\n",
       "    <tr>\n",
       "      <th>Faroe Islands</th>\n",
       "      <td>2010.0</td>\n",
       "      <td>48530.23385</td>\n",
       "    </tr>\n",
       "    <tr>\n",
       "      <th>Liechtenstein</th>\n",
       "      <td>2010.0</td>\n",
       "      <td>141200.38001</td>\n",
       "    </tr>\n",
       "    <tr>\n",
       "      <th>Turks and Caicos Islands</th>\n",
       "      <td>2010.0</td>\n",
       "      <td>21028.40784</td>\n",
       "    </tr>\n",
       "    <tr>\n",
       "      <th>Eritrea</th>\n",
       "      <td>2011.0</td>\n",
       "      <td>681.24637</td>\n",
       "    </tr>\n",
       "  </tbody>\n",
       "</table>\n",
       "</div>"
      ],
      "text/plain": [
       "                            time        GDP_PC\n",
       "name                                          \n",
       "Djibouti                  2010.0    1343.26873\n",
       "Faroe Islands             2010.0   48530.23385\n",
       "Liechtenstein             2010.0  141200.38001\n",
       "Turks and Caicos Islands  2010.0   21028.40784\n",
       "Eritrea                   2011.0     681.24637"
      ]
     },
     "execution_count": 19,
     "metadata": {},
     "output_type": "execute_result"
    }
   ],
   "source": [
    "# Create another dataframe \n",
    "gdp_data = gapminder_data[['name', 'time', 'GDP_PC']]\n",
    "# Drop the NA values \n",
    "gdp_data = gdp_data[~gdp_data.GDP_PC.isna()]\n",
    "# Group by country names and find the max value for the year\n",
    "gdp_data = gdp_data.groupby(['name']).max()\n",
    "# Find the 5 smallest time\n",
    "gdp_data.nsmallest(5, 'time')"
   ]
  },
  {
   "cell_type": "markdown",
   "id": "666987e3-f495-42ce-8ab5-db07e0ebfa0f",
   "metadata": {},
   "source": [
    "For the 5 countries that have the largest number of the most recent years missing, Djibouti, Faroe Islands, Liechtenstein, Turks, and Caicos Islands have data untill 2010. Eritrea has data until 2011. These 5 countries have issue with more recent data might be caused by factors such as their locations, size of the country. For islands like Faroe Islands, and Turks and Caico Islands, their locations make the collectors very hard to collect their data. Also, the population there can be very low and thus makes the GDP_PC less important for analysis. For countries like Djibouti, LIechtenstein, and Eritrea, their political system seem to be dictatorship. Most of the time, dictatorship also means that the government system is broken and no one was really collecting the data. These might be some reasons why these countries do not have recent years data."
   ]
  },
  {
   "cell_type": "markdown",
   "id": "7674c4d8-b105-46ad-a6f5-4c4b5245663b",
   "metadata": {},
   "source": [
    "    6. (6pt) Now let’s compare the continents. We’ll make it easy again and just compute the average\n",
    "    wealth (i.e. GDP) for each continent in 2019, and we use region as continent. We disregard the fact\n",
    "    that countries are of different size. Print the continents, and the corresponding GDP in a decreasing\n",
    "    order. Do you think this order is reasonable?\n",
    "    Remember to use only the most recent data!\n",
    "    Hint: check out methods groupby and sort_values.\n",
    "    Hint2: you should see value around 11,800 for Oceania"
   ]
  },
  {
   "cell_type": "code",
   "execution_count": 20,
   "id": "c19a8f45-0c34-48dc-a7d1-7a751adaec45",
   "metadata": {},
   "outputs": [
    {
     "data": {
      "text/html": [
       "<div>\n",
       "<style scoped>\n",
       "    .dataframe tbody tr th:only-of-type {\n",
       "        vertical-align: middle;\n",
       "    }\n",
       "\n",
       "    .dataframe tbody tr th {\n",
       "        vertical-align: top;\n",
       "    }\n",
       "\n",
       "    .dataframe thead th {\n",
       "        text-align: right;\n",
       "    }\n",
       "</style>\n",
       "<table border=\"1\" class=\"dataframe\">\n",
       "  <thead>\n",
       "    <tr style=\"text-align: right;\">\n",
       "      <th></th>\n",
       "      <th>time</th>\n",
       "      <th>GDP_PC</th>\n",
       "      <th>totalPopulation</th>\n",
       "    </tr>\n",
       "    <tr>\n",
       "      <th>region</th>\n",
       "      <th></th>\n",
       "      <th></th>\n",
       "      <th></th>\n",
       "    </tr>\n",
       "  </thead>\n",
       "  <tbody>\n",
       "    <tr>\n",
       "      <th>Europe</th>\n",
       "      <td>2019.0</td>\n",
       "      <td>33227.983767</td>\n",
       "      <td>1.654336e+07</td>\n",
       "    </tr>\n",
       "    <tr>\n",
       "      <th>Americas</th>\n",
       "      <td>2019.0</td>\n",
       "      <td>14516.826303</td>\n",
       "      <td>2.249392e+07</td>\n",
       "    </tr>\n",
       "    <tr>\n",
       "      <th>Asia</th>\n",
       "      <td>2019.0</td>\n",
       "      <td>14116.124163</td>\n",
       "      <td>9.084813e+07</td>\n",
       "    </tr>\n",
       "    <tr>\n",
       "      <th>Oceania</th>\n",
       "      <td>2019.0</td>\n",
       "      <td>11817.735554</td>\n",
       "      <td>2.234829e+06</td>\n",
       "    </tr>\n",
       "    <tr>\n",
       "      <th>Africa</th>\n",
       "      <td>2019.0</td>\n",
       "      <td>2765.708956</td>\n",
       "      <td>2.458150e+07</td>\n",
       "    </tr>\n",
       "  </tbody>\n",
       "</table>\n",
       "</div>"
      ],
      "text/plain": [
       "            time        GDP_PC  totalPopulation\n",
       "region                                         \n",
       "Europe    2019.0  33227.983767     1.654336e+07\n",
       "Americas  2019.0  14516.826303     2.249392e+07\n",
       "Asia      2019.0  14116.124163     9.084813e+07\n",
       "Oceania   2019.0  11817.735554     2.234829e+06\n",
       "Africa    2019.0   2765.708956     2.458150e+07"
      ]
     },
     "execution_count": 20,
     "metadata": {},
     "output_type": "execute_result"
    }
   ],
   "source": [
    "# Filter the year to 2019, group the data by region, calculate the mean,then sort the values in descending value.\n",
    "group_region = gapminder_data[(gapminder_data.time == 2019.0)].groupby(gapminder_data.region).mean().sort_values('GDP_PC', ascending=False)\n",
    "# Show only the region, time, and GDP information.\n",
    "group_region[['time', 'GDP_PC', 'totalPopulation']]"
   ]
  },
  {
   "cell_type": "markdown",
   "id": "4577cb50-bbe2-4149-a03e-8ffa8fdf6be6",
   "metadata": {},
   "source": [
    "I think the order is reasonable. There are many developed countries in Europe which makes them wealthier. The Americas has countries like Canada and the United States which brings up the GDP a lot. However, there are still many developing countries which is the reason why the GDP of Americas is not as wealthy as Europe. For the last three, there are not many developed countries and many countries are still developing which makes sense. Population can also be a factor. The larger a country becomes the more the economically non-contributing population also increases. Smaller countries can control their economy better. Europe has relatively small population compares to other countries besides Oceania. It is interesting to see how Asia has such a massive population but is still able to be in the third place in terms of GDP."
   ]
  },
  {
   "cell_type": "markdown",
   "id": "12beb0bc-75fe-4715-9c7b-c16d8300ed05",
   "metadata": {},
   "source": [
    "    7. (6pt) But this was just about the average numbers. Now for each continent let’s also find the richest\n",
    "    and the poorest country, the corresponding GDP, and population (2019).\n",
    "    Note: While this gives a hint about inequality, we still ignore the intra-county inequality. Quite\n",
    "    likely the rich in the poor countries earn more than the poor in the rich countries. Unfortunately\n",
    "    we cannot tell based on these data.\n",
    "    Hint: if you can find a good solution yourself, go for it! But here is a suggestion how you can do it,\n",
    "    step-by-step.\n",
    "    (a) Check out indexing with .loc and .iloc (McKinney, p 143)\n",
    "    (b) Check out methods .idxmax and .idxmin (McKinney p 158-159)\n",
    "    (c) Find the index of the largest GDP value in data (use .idxmax).\n",
    "    (d) Extract the row of dataframe that corresponds to the index you computed in 7c\n",
    "    (e) Now repeat the two previous steps either with .groupby, or if you cannot figure this out then\n",
    "    with a for-loop over all continents.\n",
    "    Alternatively, you can extract the values using construct like data.gdp == data.gdp.min(). You\n",
    "    can also just loop over continents, and for each continent find the richest and poorest country as of\n",
    "    2019 (check out methods nlargest and nsmallest)."
   ]
  },
  {
   "cell_type": "code",
   "execution_count": 21,
   "id": "20281cfb-d73c-4ae3-a151-fe2114783809",
   "metadata": {},
   "outputs": [
    {
     "data": {
      "text/html": [
       "<div>\n",
       "<style scoped>\n",
       "    .dataframe tbody tr th:only-of-type {\n",
       "        vertical-align: middle;\n",
       "    }\n",
       "\n",
       "    .dataframe tbody tr th {\n",
       "        vertical-align: top;\n",
       "    }\n",
       "\n",
       "    .dataframe thead th {\n",
       "        text-align: right;\n",
       "    }\n",
       "</style>\n",
       "<table border=\"1\" class=\"dataframe\">\n",
       "  <thead>\n",
       "    <tr style=\"text-align: right;\">\n",
       "      <th></th>\n",
       "      <th></th>\n",
       "      <th>name</th>\n",
       "      <th>GDP_PC</th>\n",
       "      <th>totalPopulation</th>\n",
       "    </tr>\n",
       "    <tr>\n",
       "      <th>region</th>\n",
       "      <th></th>\n",
       "      <th></th>\n",
       "      <th></th>\n",
       "      <th></th>\n",
       "    </tr>\n",
       "  </thead>\n",
       "  <tbody>\n",
       "    <tr>\n",
       "      <th>Africa</th>\n",
       "      <th>11249</th>\n",
       "      <td>Seychelles</td>\n",
       "      <td>15048.74693</td>\n",
       "      <td>97625.0</td>\n",
       "    </tr>\n",
       "    <tr>\n",
       "      <th>Americas</th>\n",
       "      <th>1505</th>\n",
       "      <td>Bermuda</td>\n",
       "      <td>94106.36125</td>\n",
       "      <td>64027.0</td>\n",
       "    </tr>\n",
       "    <tr>\n",
       "      <th>Asia</th>\n",
       "      <th>9924</th>\n",
       "      <td>Qatar</td>\n",
       "      <td>63281.67468</td>\n",
       "      <td>2832067.0</td>\n",
       "    </tr>\n",
       "    <tr>\n",
       "      <th>Europe</th>\n",
       "      <th>7039</th>\n",
       "      <td>Luxembourg</td>\n",
       "      <td>111043.53170</td>\n",
       "      <td>620001.0</td>\n",
       "    </tr>\n",
       "    <tr>\n",
       "      <th>Oceania</th>\n",
       "      <th>663</th>\n",
       "      <td>Australia</td>\n",
       "      <td>57183.37935</td>\n",
       "      <td>25365745.0</td>\n",
       "    </tr>\n",
       "  </tbody>\n",
       "</table>\n",
       "</div>"
      ],
      "text/plain": [
       "                      name        GDP_PC  totalPopulation\n",
       "region                                                   \n",
       "Africa   11249  Seychelles   15048.74693          97625.0\n",
       "Americas 1505      Bermuda   94106.36125          64027.0\n",
       "Asia     9924        Qatar   63281.67468        2832067.0\n",
       "Europe   7039   Luxembourg  111043.53170         620001.0\n",
       "Oceania  663     Australia   57183.37935       25365745.0"
      ]
     },
     "execution_count": 21,
     "metadata": {},
     "output_type": "execute_result"
    }
   ],
   "source": [
    "# Set the year to 2019, group by region, find the largest GDP value in each continent group\n",
    "gapminder_data[(gapminder_data.time == 2019.0)].groupby('region').apply(lambda x: x.nlargest(1, 'GDP_PC'))[['name', 'GDP_PC', 'totalPopulation']]"
   ]
  },
  {
   "cell_type": "code",
   "execution_count": 22,
   "id": "d9476c63-7863-467b-9c10-1905e3029e7d",
   "metadata": {},
   "outputs": [
    {
     "data": {
      "text/html": [
       "<div>\n",
       "<style scoped>\n",
       "    .dataframe tbody tr th:only-of-type {\n",
       "        vertical-align: middle;\n",
       "    }\n",
       "\n",
       "    .dataframe tbody tr th {\n",
       "        vertical-align: top;\n",
       "    }\n",
       "\n",
       "    .dataframe thead th {\n",
       "        text-align: right;\n",
       "    }\n",
       "</style>\n",
       "<table border=\"1\" class=\"dataframe\">\n",
       "  <thead>\n",
       "    <tr style=\"text-align: right;\">\n",
       "      <th></th>\n",
       "      <th></th>\n",
       "      <th>name</th>\n",
       "      <th>GDP_PC</th>\n",
       "      <th>totalPopulation</th>\n",
       "    </tr>\n",
       "    <tr>\n",
       "      <th>region</th>\n",
       "      <th></th>\n",
       "      <th></th>\n",
       "      <th></th>\n",
       "      <th></th>\n",
       "    </tr>\n",
       "  </thead>\n",
       "  <tbody>\n",
       "    <tr>\n",
       "      <th>Africa</th>\n",
       "      <th>843</th>\n",
       "      <td>Burundi</td>\n",
       "      <td>208.07473</td>\n",
       "      <td>11530580.0</td>\n",
       "    </tr>\n",
       "    <tr>\n",
       "      <th>Americas</th>\n",
       "      <th>5176</th>\n",
       "      <td>Haiti</td>\n",
       "      <td>1245.01250</td>\n",
       "      <td>11263077.0</td>\n",
       "    </tr>\n",
       "    <tr>\n",
       "      <th>Asia</th>\n",
       "      <th>119</th>\n",
       "      <td>Afghanistan</td>\n",
       "      <td>573.28755</td>\n",
       "      <td>38041754.0</td>\n",
       "    </tr>\n",
       "    <tr>\n",
       "      <th>Europe</th>\n",
       "      <th>12211</th>\n",
       "      <td>Ukraine</td>\n",
       "      <td>3224.93517</td>\n",
       "      <td>44386203.0</td>\n",
       "    </tr>\n",
       "    <tr>\n",
       "      <th>Oceania</th>\n",
       "      <th>10408</th>\n",
       "      <td>Solomon Islands</td>\n",
       "      <td>1749.42726</td>\n",
       "      <td>669823.0</td>\n",
       "    </tr>\n",
       "  </tbody>\n",
       "</table>\n",
       "</div>"
      ],
      "text/plain": [
       "                           name      GDP_PC  totalPopulation\n",
       "region                                                      \n",
       "Africa   843            Burundi   208.07473       11530580.0\n",
       "Americas 5176             Haiti  1245.01250       11263077.0\n",
       "Asia     119        Afghanistan   573.28755       38041754.0\n",
       "Europe   12211          Ukraine  3224.93517       44386203.0\n",
       "Oceania  10408  Solomon Islands  1749.42726         669823.0"
      ]
     },
     "execution_count": 22,
     "metadata": {},
     "output_type": "execute_result"
    }
   ],
   "source": [
    "# Set the year to 2019, group by region, find the smallest GDP value in each continent group\n",
    "gapminder_data[(gapminder_data.time == 2019.0)].groupby('region').apply(lambda x: x.nsmallest(1, 'GDP_PC'))[['name', 'GDP_PC', 'totalPopulation']]"
   ]
  },
  {
   "cell_type": "markdown",
   "id": "783b44b4-846e-418e-98fc-adb0f0cd8906",
   "metadata": {},
   "source": [
    "The richest countries are: Seychelles(Africa), Bermuda(Americas), Qatar(Asia), Luxembourg(Europe), Australia(Oceania).\n",
    "\n",
    "The poorest countries are: Burundi(Africa), Haiti(Americas), Afghanistan(Asia), Ukraine(Europe), Solomon Islands(Oceania)."
   ]
  },
  {
   "cell_type": "markdown",
   "id": "07a0b818-b965-4d25-8a27-7a4cf998c4b1",
   "metadata": {},
   "source": [
    "    8. (6pt) Finally, let’s put all this into a single data frame. The data frame should contain continent\n",
    "    name as index, and for each continent 6 variables: name, GDP and population for the poorest\n",
    "    country, and the same for the richest country. Pick suitable variable names!\n",
    "    The result might look something like:\n",
    "    poorest GDP population richest GDP population\n",
    "    region\n",
    "    Africa Burundi 208.07473 11530580.0 Seychelles 15048.74693 97625.0\n",
    "    ...\n",
    "    Hint: consult Python notes 4.6: Combining data into data frames. You can use .set_index to\n",
    "    convert a variable into index."
   ]
  },
  {
   "cell_type": "code",
   "execution_count": 23,
   "id": "12a032c1-3c87-4437-bb2c-f2b5dcb62ae7",
   "metadata": {},
   "outputs": [
    {
     "data": {
      "text/html": [
       "<div>\n",
       "<style scoped>\n",
       "    .dataframe tbody tr th:only-of-type {\n",
       "        vertical-align: middle;\n",
       "    }\n",
       "\n",
       "    .dataframe tbody tr th {\n",
       "        vertical-align: top;\n",
       "    }\n",
       "\n",
       "    .dataframe thead th {\n",
       "        text-align: right;\n",
       "    }\n",
       "</style>\n",
       "<table border=\"1\" class=\"dataframe\">\n",
       "  <thead>\n",
       "    <tr style=\"text-align: right;\">\n",
       "      <th></th>\n",
       "      <th>Poorest</th>\n",
       "      <th>GDP</th>\n",
       "      <th>Population</th>\n",
       "      <th>Richest</th>\n",
       "      <th>GDP</th>\n",
       "      <th>Population</th>\n",
       "    </tr>\n",
       "    <tr>\n",
       "      <th>region</th>\n",
       "      <th></th>\n",
       "      <th></th>\n",
       "      <th></th>\n",
       "      <th></th>\n",
       "      <th></th>\n",
       "      <th></th>\n",
       "    </tr>\n",
       "  </thead>\n",
       "  <tbody>\n",
       "    <tr>\n",
       "      <th>Africa</th>\n",
       "      <td>Burundi</td>\n",
       "      <td>208.07473</td>\n",
       "      <td>11530580.0</td>\n",
       "      <td>Seychelles</td>\n",
       "      <td>15048.74693</td>\n",
       "      <td>97625.0</td>\n",
       "    </tr>\n",
       "    <tr>\n",
       "      <th>Americas</th>\n",
       "      <td>Haiti</td>\n",
       "      <td>1245.01250</td>\n",
       "      <td>11263077.0</td>\n",
       "      <td>Bermuda</td>\n",
       "      <td>94106.36125</td>\n",
       "      <td>64027.0</td>\n",
       "    </tr>\n",
       "    <tr>\n",
       "      <th>Asia</th>\n",
       "      <td>Afghanistan</td>\n",
       "      <td>573.28755</td>\n",
       "      <td>38041754.0</td>\n",
       "      <td>Qatar</td>\n",
       "      <td>63281.67468</td>\n",
       "      <td>2832067.0</td>\n",
       "    </tr>\n",
       "    <tr>\n",
       "      <th>Europe</th>\n",
       "      <td>Ukraine</td>\n",
       "      <td>3224.93517</td>\n",
       "      <td>44386203.0</td>\n",
       "      <td>Luxembourg</td>\n",
       "      <td>111043.53170</td>\n",
       "      <td>620001.0</td>\n",
       "    </tr>\n",
       "    <tr>\n",
       "      <th>Oceania</th>\n",
       "      <td>Solomon Islands</td>\n",
       "      <td>1749.42726</td>\n",
       "      <td>669823.0</td>\n",
       "      <td>Australia</td>\n",
       "      <td>57183.37935</td>\n",
       "      <td>25365745.0</td>\n",
       "    </tr>\n",
       "  </tbody>\n",
       "</table>\n",
       "</div>"
      ],
      "text/plain": [
       "                  Poorest         GDP  Population     Richest           GDP  \\\n",
       "region                                                                        \n",
       "Africa            Burundi   208.07473  11530580.0  Seychelles   15048.74693   \n",
       "Americas            Haiti  1245.01250  11263077.0     Bermuda   94106.36125   \n",
       "Asia          Afghanistan   573.28755  38041754.0       Qatar   63281.67468   \n",
       "Europe            Ukraine  3224.93517  44386203.0  Luxembourg  111043.53170   \n",
       "Oceania   Solomon Islands  1749.42726    669823.0   Australia   57183.37935   \n",
       "\n",
       "          Population  \n",
       "region                \n",
       "Africa       97625.0  \n",
       "Americas     64027.0  \n",
       "Asia       2832067.0  \n",
       "Europe      620001.0  \n",
       "Oceania   25365745.0  "
      ]
     },
     "execution_count": 23,
     "metadata": {},
     "output_type": "execute_result"
    }
   ],
   "source": [
    "# Create poor and rich variables for easy use in the later data frame\n",
    "poor = gapminder_data[(gapminder_data.time == 2019.0)].groupby('region').apply(lambda x: x.nsmallest(1, 'GDP_PC')).set_index(\"region\")\n",
    "rich = gapminder_data[(gapminder_data.time == 2019.0)].groupby('region').apply(lambda x: x.nlargest(1, 'GDP_PC')).set_index(\"region\")\n",
    "# Create two dataframes, one with the GDP and population of poor countries. One with GDP and population of rich countries.\n",
    "df_poor = pd.DataFrame({'Poorest': poor['name'], 'GDP': poor['GDP_PC'], 'Population': poor['totalPopulation']})\n",
    "df_rich = pd.DataFrame({'Richest': rich['name'], 'GDP': rich['GDP_PC'], 'Population': rich['totalPopulation']})\n",
    "# Combine the two dataframes together\n",
    "pd.concat([df_poor, df_rich], axis = 1)"
   ]
  },
  {
   "cell_type": "markdown",
   "id": "20c8820c-7212-43f5-b99d-d170b5ef942b",
   "metadata": {},
   "source": [
    "    9. (4pt) Comment the list of poorest and richest countries. What do you think about these lists. Did\n",
    "    you know that Bermuda is the richest country in Americas? Do you know why? Why do most of\n",
    "    the rich countries have small population?"
   ]
  },
  {
   "cell_type": "markdown",
   "id": "87afb74b-b4ef-4b5c-9f61-f12f39920504",
   "metadata": {},
   "source": [
    "It is very interesting to these two lists. It is very surprising to see most of these countries becasue I know most of the poor countries but I do not recognize any of the rich countries besides Australia. It seems like most of the poor countries have a massive amount of population while the rich countries have less population. I definitely did not know Bermuda is the richest country in Americas. According to Wikipedia, Bermuda is primarily fueled by offshore financial services for non-resident firms, such as offshore insurance and tourism. It is also likely that the GDP of Bermuda is raised by some of the rich people there. Most people can still live in poverty. Countries with smaller population tends to have higher GDP because they have built up a sel-sufficient economy based on an abundance of special resources. Generally, these countries have small population but makes a lot of money by selling their resources which increase their GDP. Also, the larger a country becomes the more the economically non-contributing population also increases. Smaller countries can control their economy better."
   ]
  },
  {
   "cell_type": "markdown",
   "id": "b5fb8850-b0ae-48c2-a4b8-e238f476c937",
   "metadata": {},
   "source": [
    "# Health (32pt)"
   ]
  },
  {
   "cell_type": "markdown",
   "id": "6ae9d5c7-747d-4750-b9b1-9045805dedce",
   "metadata": {},
   "source": [
    "    This is a more demanding problem. Health is a complex concept, but fortunately we can proxy health\n",
    "    with life expectancy (LE). It is a natural index of health that has been measured rather well for decades,\n",
    "    or even centuries"
   ]
  },
  {
   "cell_type": "markdown",
   "id": "8d6f74aa-1131-476f-b576-96836a1a0be2",
   "metadata": {},
   "source": [
    "    1. (3pt) How many countries do not have LE data for year 1960? How many countries do not have\n",
    "    this information for year 2019?"
   ]
  },
  {
   "cell_type": "code",
   "execution_count": 24,
   "id": "ecc4a2ff-8d21-4143-b49c-f20adf39310b",
   "metadata": {},
   "outputs": [
    {
     "name": "stdout",
     "output_type": "stream",
     "text": [
      "The are 24 countries (including countries that have NA values) that do not have life expectancy data in the year of 1960. The are 17 countries (including countries that have NA values) that do not have life expectancy data in the year of 2019.)\n"
     ]
    }
   ],
   "source": [
    "# Use unique to find the countries that do not have life expectancy data in year 1960 and 2019\n",
    "num_uniq_1960 = gapminder_data[(gapminder_data.time == 1960.0) & (gapminder_data.lifeExpectancy.isna())]['name'].nunique()\n",
    "num_uniq_2019 = gapminder_data[(gapminder_data.time == 2019.0) & (gapminder_data.lifeExpectancy.isna())]['name'].nunique()\n",
    "print('The are', num_uniq_1960, 'countries (including countries that have NA values) that do not have life expectancy data in the year of 1960. The are', num_uniq_2019, 'countries (including countries that have NA values) that do not have life expectancy data in the year of 2019.)')"
   ]
  },
  {
   "cell_type": "markdown",
   "id": "b7e25a6c-63c1-41da-ad5c-a20ea1b1feb1",
   "metadata": {},
   "source": [
    "    2. (4pt) What is the shortest and longest LE in data? Which years/countries does this correspond to?\n",
    "    Hint: you can use methods nlargest to extract dataframe rows, and idxmax to extract index of\n",
    "    row with the maximum value."
   ]
  },
  {
   "cell_type": "code",
   "execution_count": 25,
   "id": "6a5db2cf-c1fe-488b-9ee8-0961a8e97e36",
   "metadata": {},
   "outputs": [
    {
     "data": {
      "text/html": [
       "<div>\n",
       "<style scoped>\n",
       "    .dataframe tbody tr th:only-of-type {\n",
       "        vertical-align: middle;\n",
       "    }\n",
       "\n",
       "    .dataframe tbody tr th {\n",
       "        vertical-align: top;\n",
       "    }\n",
       "\n",
       "    .dataframe thead th {\n",
       "        text-align: right;\n",
       "    }\n",
       "</style>\n",
       "<table border=\"1\" class=\"dataframe\">\n",
       "  <thead>\n",
       "    <tr style=\"text-align: right;\">\n",
       "      <th></th>\n",
       "      <th>name</th>\n",
       "      <th>time</th>\n",
       "      <th>lifeExpectancy</th>\n",
       "    </tr>\n",
       "  </thead>\n",
       "  <tbody>\n",
       "    <tr>\n",
       "      <th>10581</th>\n",
       "      <td>San Marino</td>\n",
       "      <td>2012.0</td>\n",
       "      <td>85.41707</td>\n",
       "    </tr>\n",
       "  </tbody>\n",
       "</table>\n",
       "</div>"
      ],
      "text/plain": [
       "             name    time  lifeExpectancy\n",
       "10581  San Marino  2012.0        85.41707"
      ]
     },
     "execution_count": 25,
     "metadata": {},
     "output_type": "execute_result"
    }
   ],
   "source": [
    "# Find the longest life expectancy and its corresponding country and name\n",
    "gapminder_data.nlargest(1, 'lifeExpectancy')[[\"name\", \"time\", \"lifeExpectancy\"]]"
   ]
  },
  {
   "cell_type": "code",
   "execution_count": 26,
   "id": "d3a2954e-68c4-4018-9ba0-c86b6c8aad2c",
   "metadata": {},
   "outputs": [
    {
     "data": {
      "text/html": [
       "<div>\n",
       "<style scoped>\n",
       "    .dataframe tbody tr th:only-of-type {\n",
       "        vertical-align: middle;\n",
       "    }\n",
       "\n",
       "    .dataframe tbody tr th {\n",
       "        vertical-align: top;\n",
       "    }\n",
       "\n",
       "    .dataframe thead th {\n",
       "        text-align: right;\n",
       "    }\n",
       "</style>\n",
       "<table border=\"1\" class=\"dataframe\">\n",
       "  <thead>\n",
       "    <tr style=\"text-align: right;\">\n",
       "      <th></th>\n",
       "      <th>name</th>\n",
       "      <th>time</th>\n",
       "      <th>lifeExpectancy</th>\n",
       "    </tr>\n",
       "  </thead>\n",
       "  <tbody>\n",
       "    <tr>\n",
       "      <th>6097</th>\n",
       "      <td>Cambodia</td>\n",
       "      <td>1977.0</td>\n",
       "      <td>18.907</td>\n",
       "    </tr>\n",
       "  </tbody>\n",
       "</table>\n",
       "</div>"
      ],
      "text/plain": [
       "          name    time  lifeExpectancy\n",
       "6097  Cambodia  1977.0          18.907"
      ]
     },
     "execution_count": 26,
     "metadata": {},
     "output_type": "execute_result"
    }
   ],
   "source": [
    "# Find the shortest life expectancy and its corresponding country and name\n",
    "gapminder_data.nsmallest(1, 'lifeExpectancy')[[\"name\", \"time\", \"lifeExpectancy\"]]"
   ]
  },
  {
   "cell_type": "markdown",
   "id": "0db15436-7b1b-4f42-ac19-f2e8740f1876",
   "metadata": {},
   "source": [
    "The shortest life expectancy in the data is about 18.907 in Cambodia, 1977. The longest life expectancy in the data is about 85.42 in San Marino, 2012."
   ]
  },
  {
   "cell_type": "markdown",
   "id": "832e9681-5409-45b9-990d-0fe05c1e4c16",
   "metadata": {},
   "source": [
    "    3. (4pt) If you did this correctly, you notice that the shortest LE is less than 20 years. What historical\n",
    "    events does it correspond to? (You may consult Wikipedia)."
   ]
  },
  {
   "cell_type": "markdown",
   "id": "96d670c4-d668-4490-a5b6-0e56ce285a85",
   "metadata": {},
   "source": [
    "In 1977, Cambodia was ruled by the Khmer Rouge and Khmer Rouge carried out the Cambodian genocide from 1975 until 1979. The Cambodian genocide was the systematic persecution and killing of Cambodians by the Khmer Rouge. During that time period, Cambodia lost about a third of its population due to starvation, forced labour, and execution. That is the reason why life expectancy was only 18.9 in 1977."
   ]
  },
  {
   "cell_type": "markdown",
   "id": "ad95ca25-3d24-47ae-9c9a-ebccd1462456",
   "metadata": {},
   "source": [
    "    4. (6pt) Find the country with longest and shortest LE for each continent.\n",
    "    Hint: you can use the same approach as for GDP by continent."
   ]
  },
  {
   "cell_type": "code",
   "execution_count": 27,
   "id": "fe30af89-1ddb-41da-a462-7994e8619c7d",
   "metadata": {},
   "outputs": [
    {
     "data": {
      "text/html": [
       "<div>\n",
       "<style scoped>\n",
       "    .dataframe tbody tr th:only-of-type {\n",
       "        vertical-align: middle;\n",
       "    }\n",
       "\n",
       "    .dataframe tbody tr th {\n",
       "        vertical-align: top;\n",
       "    }\n",
       "\n",
       "    .dataframe thead th {\n",
       "        text-align: right;\n",
       "    }\n",
       "</style>\n",
       "<table border=\"1\" class=\"dataframe\">\n",
       "  <thead>\n",
       "    <tr style=\"text-align: right;\">\n",
       "      <th></th>\n",
       "      <th></th>\n",
       "      <th>name</th>\n",
       "      <th>lifeExpectancy</th>\n",
       "    </tr>\n",
       "    <tr>\n",
       "      <th>region</th>\n",
       "      <th></th>\n",
       "      <th></th>\n",
       "      <th></th>\n",
       "    </tr>\n",
       "  </thead>\n",
       "  <tbody>\n",
       "    <tr>\n",
       "      <th>Africa</th>\n",
       "      <th>3310</th>\n",
       "      <td>Algeria</td>\n",
       "      <td>76.88000</td>\n",
       "    </tr>\n",
       "    <tr>\n",
       "      <th>Americas</th>\n",
       "      <th>1986</th>\n",
       "      <td>Canada</td>\n",
       "      <td>82.04878</td>\n",
       "    </tr>\n",
       "    <tr>\n",
       "      <th>Asia</th>\n",
       "      <th>4995</th>\n",
       "      <td>Hong Kong</td>\n",
       "      <td>85.07805</td>\n",
       "    </tr>\n",
       "    <tr>\n",
       "      <th>Europe</th>\n",
       "      <th>2107</th>\n",
       "      <td>Switzerland</td>\n",
       "      <td>83.70488</td>\n",
       "    </tr>\n",
       "    <tr>\n",
       "      <th>Oceania</th>\n",
       "      <th>663</th>\n",
       "      <td>Australia</td>\n",
       "      <td>82.90000</td>\n",
       "    </tr>\n",
       "  </tbody>\n",
       "</table>\n",
       "</div>"
      ],
      "text/plain": [
       "                      name  lifeExpectancy\n",
       "region                                    \n",
       "Africa   3310      Algeria        76.88000\n",
       "Americas 1986       Canada        82.04878\n",
       "Asia     4995    Hong Kong        85.07805\n",
       "Europe   2107  Switzerland        83.70488\n",
       "Oceania  663     Australia        82.90000"
      ]
     },
     "execution_count": 27,
     "metadata": {},
     "output_type": "execute_result"
    }
   ],
   "source": [
    "# Group by region and find the longest life expectancy in each continent.\n",
    "gapminder_data[(gapminder_data.time == 2019.0)].groupby('region').apply(lambda x: x.nlargest(1, 'lifeExpectancy'))[['name', 'lifeExpectancy']]"
   ]
  },
  {
   "cell_type": "code",
   "execution_count": 28,
   "id": "4635dd56-54dd-44b5-8a1d-d0822bedb97d",
   "metadata": {},
   "outputs": [
    {
     "data": {
      "text/html": [
       "<div>\n",
       "<style scoped>\n",
       "    .dataframe tbody tr th:only-of-type {\n",
       "        vertical-align: middle;\n",
       "    }\n",
       "\n",
       "    .dataframe tbody tr th {\n",
       "        vertical-align: top;\n",
       "    }\n",
       "\n",
       "    .dataframe thead th {\n",
       "        text-align: right;\n",
       "    }\n",
       "</style>\n",
       "<table border=\"1\" class=\"dataframe\">\n",
       "  <thead>\n",
       "    <tr style=\"text-align: right;\">\n",
       "      <th></th>\n",
       "      <th></th>\n",
       "      <th>name</th>\n",
       "      <th>lifeExpectancy</th>\n",
       "    </tr>\n",
       "    <tr>\n",
       "      <th>region</th>\n",
       "      <th></th>\n",
       "      <th></th>\n",
       "      <th></th>\n",
       "    </tr>\n",
       "  </thead>\n",
       "  <tbody>\n",
       "    <tr>\n",
       "      <th>Africa</th>\n",
       "      <th>1926</th>\n",
       "      <td>Central African Republic</td>\n",
       "      <td>53.28300</td>\n",
       "    </tr>\n",
       "    <tr>\n",
       "      <th>Americas</th>\n",
       "      <th>5176</th>\n",
       "      <td>Haiti</td>\n",
       "      <td>64.00100</td>\n",
       "    </tr>\n",
       "    <tr>\n",
       "      <th>Asia</th>\n",
       "      <th>119</th>\n",
       "      <td>Afghanistan</td>\n",
       "      <td>64.83300</td>\n",
       "    </tr>\n",
       "    <tr>\n",
       "      <th>Europe</th>\n",
       "      <th>12211</th>\n",
       "      <td>Ukraine</td>\n",
       "      <td>71.82732</td>\n",
       "    </tr>\n",
       "    <tr>\n",
       "      <th>Oceania</th>\n",
       "      <th>9445</th>\n",
       "      <td>Papua New Guinea</td>\n",
       "      <td>64.50100</td>\n",
       "    </tr>\n",
       "  </tbody>\n",
       "</table>\n",
       "</div>"
      ],
      "text/plain": [
       "                                    name  lifeExpectancy\n",
       "region                                                  \n",
       "Africa   1926   Central African Republic        53.28300\n",
       "Americas 5176                      Haiti        64.00100\n",
       "Asia     119                 Afghanistan        64.83300\n",
       "Europe   12211                   Ukraine        71.82732\n",
       "Oceania  9445           Papua New Guinea        64.50100"
      ]
     },
     "execution_count": 28,
     "metadata": {},
     "output_type": "execute_result"
    }
   ],
   "source": [
    "# Group by region and find the shortest life expectancy in each continent.\n",
    "gapminder_data[(gapminder_data.time == 2019.0)].groupby('region').apply(lambda x: x.nsmallest(1, 'lifeExpectancy'))[['name', 'lifeExpectancy']]"
   ]
  },
  {
   "cell_type": "markdown",
   "id": "b022aafe-5417-4f0e-9641-97b8a696b75e",
   "metadata": {},
   "source": [
    "In Africa, the country with the longest life expectancy is Algeria, the country with the shortest life expectancy is Cnetral African Republic.\n",
    "In Americas, the country with the longest life expectancy is Canada, the country with the shortest life expectancy is Haiti.\n",
    "In Asia, the country with the longest life expectancy is Hong Kong, the country with the shortest life expectancy is Afghanistan.\n",
    "In Europe, the country with the longest life expectancy is Switzerland, the country with the shortest life expectancy is Ukraine.\n",
    "In Oceania, the country with the longest life expectancy is Australia, the country with the shortest life expectancy is Papua New Guinea."
   ]
  },
  {
   "cell_type": "markdown",
   "id": "78d10f99-43d2-4fba-9fd7-77c8ee5862a6",
   "metadata": {},
   "source": [
    "    5. (4pt) Now lets find, for each country, the first valid LE. Find the corresponding year, and LE value.\n",
    "    Hint: you can use the same approach as when finding the largest GDP on each continent: find the\n",
    "    index of minimum year of each country, and then extract the rows based on the index.\n"
   ]
  },
  {
   "cell_type": "code",
   "execution_count": 29,
   "id": "f77f7039-0584-45da-ab21-e3e6459793b1",
   "metadata": {},
   "outputs": [
    {
     "data": {
      "text/html": [
       "<div>\n",
       "<style scoped>\n",
       "    .dataframe tbody tr th:only-of-type {\n",
       "        vertical-align: middle;\n",
       "    }\n",
       "\n",
       "    .dataframe tbody tr th {\n",
       "        vertical-align: top;\n",
       "    }\n",
       "\n",
       "    .dataframe thead th {\n",
       "        text-align: right;\n",
       "    }\n",
       "</style>\n",
       "<table border=\"1\" class=\"dataframe\">\n",
       "  <thead>\n",
       "    <tr style=\"text-align: right;\">\n",
       "      <th></th>\n",
       "      <th>time</th>\n",
       "      <th>lifeExpectancy</th>\n",
       "    </tr>\n",
       "    <tr>\n",
       "      <th>name</th>\n",
       "      <th></th>\n",
       "      <th></th>\n",
       "    </tr>\n",
       "  </thead>\n",
       "  <tbody>\n",
       "    <tr>\n",
       "      <th>Afghanistan</th>\n",
       "      <td>1960.0</td>\n",
       "      <td>32.44600</td>\n",
       "    </tr>\n",
       "    <tr>\n",
       "      <th>Albania</th>\n",
       "      <td>1960.0</td>\n",
       "      <td>62.28300</td>\n",
       "    </tr>\n",
       "    <tr>\n",
       "      <th>Algeria</th>\n",
       "      <td>1960.0</td>\n",
       "      <td>46.14100</td>\n",
       "    </tr>\n",
       "    <tr>\n",
       "      <th>Angola</th>\n",
       "      <td>1960.0</td>\n",
       "      <td>37.52400</td>\n",
       "    </tr>\n",
       "    <tr>\n",
       "      <th>Antigua and Barbuda</th>\n",
       "      <td>1960.0</td>\n",
       "      <td>61.96800</td>\n",
       "    </tr>\n",
       "    <tr>\n",
       "      <th>...</th>\n",
       "      <td>...</td>\n",
       "      <td>...</td>\n",
       "    </tr>\n",
       "    <tr>\n",
       "      <th>Viet Nam</th>\n",
       "      <td>1960.0</td>\n",
       "      <td>59.03900</td>\n",
       "    </tr>\n",
       "    <tr>\n",
       "      <th>Virgin Islands (U.S.)</th>\n",
       "      <td>1960.0</td>\n",
       "      <td>66.22485</td>\n",
       "    </tr>\n",
       "    <tr>\n",
       "      <th>Yemen</th>\n",
       "      <td>1960.0</td>\n",
       "      <td>29.91900</td>\n",
       "    </tr>\n",
       "    <tr>\n",
       "      <th>Zambia</th>\n",
       "      <td>1960.0</td>\n",
       "      <td>46.68700</td>\n",
       "    </tr>\n",
       "    <tr>\n",
       "      <th>Zimbabwe</th>\n",
       "      <td>1960.0</td>\n",
       "      <td>53.01900</td>\n",
       "    </tr>\n",
       "  </tbody>\n",
       "</table>\n",
       "<p>204 rows × 2 columns</p>\n",
       "</div>"
      ],
      "text/plain": [
       "                         time  lifeExpectancy\n",
       "name                                         \n",
       "Afghanistan            1960.0        32.44600\n",
       "Albania                1960.0        62.28300\n",
       "Algeria                1960.0        46.14100\n",
       "Angola                 1960.0        37.52400\n",
       "Antigua and Barbuda    1960.0        61.96800\n",
       "...                       ...             ...\n",
       "Viet Nam               1960.0        59.03900\n",
       "Virgin Islands (U.S.)  1960.0        66.22485\n",
       "Yemen                  1960.0        29.91900\n",
       "Zambia                 1960.0        46.68700\n",
       "Zimbabwe               1960.0        53.01900\n",
       "\n",
       "[204 rows x 2 columns]"
      ]
     },
     "execution_count": 29,
     "metadata": {},
     "output_type": "execute_result"
    }
   ],
   "source": [
    "# Find the indices where lifeExpectncy is first valid for each country\n",
    "idx_min = gapminder_data[gapminder_data.lifeExpectancy.notna()].groupby('name').time.idxmin()\n",
    "# Create a sub data frame where life expectancy data is first available\n",
    "valid_df = gapminder_data.loc[idx_min].set_index(\"name\")\n",
    "# Show the corresponding country, year, and life expectancy\n",
    "valid_df[['time', 'lifeExpectancy']]"
   ]
  },
  {
   "cell_type": "markdown",
   "id": "7e7524a1-8e34-471e-9516-f16cf29ab1dc",
   "metadata": {},
   "source": [
    "    6. Now repeat this with the most recent valid LE."
   ]
  },
  {
   "cell_type": "code",
   "execution_count": 30,
   "id": "f6ec6653-1084-4d67-afe7-35451d2cafda",
   "metadata": {},
   "outputs": [
    {
     "data": {
      "text/html": [
       "<div>\n",
       "<style scoped>\n",
       "    .dataframe tbody tr th:only-of-type {\n",
       "        vertical-align: middle;\n",
       "    }\n",
       "\n",
       "    .dataframe tbody tr th {\n",
       "        vertical-align: top;\n",
       "    }\n",
       "\n",
       "    .dataframe thead th {\n",
       "        text-align: right;\n",
       "    }\n",
       "</style>\n",
       "<table border=\"1\" class=\"dataframe\">\n",
       "  <thead>\n",
       "    <tr style=\"text-align: right;\">\n",
       "      <th></th>\n",
       "      <th>time</th>\n",
       "      <th>lifeExpectancy</th>\n",
       "    </tr>\n",
       "    <tr>\n",
       "      <th>name</th>\n",
       "      <th></th>\n",
       "      <th></th>\n",
       "    </tr>\n",
       "  </thead>\n",
       "  <tbody>\n",
       "    <tr>\n",
       "      <th>Afghanistan</th>\n",
       "      <td>2019.0</td>\n",
       "      <td>64.83300</td>\n",
       "    </tr>\n",
       "    <tr>\n",
       "      <th>Albania</th>\n",
       "      <td>2019.0</td>\n",
       "      <td>78.57300</td>\n",
       "    </tr>\n",
       "    <tr>\n",
       "      <th>Algeria</th>\n",
       "      <td>2019.0</td>\n",
       "      <td>76.88000</td>\n",
       "    </tr>\n",
       "    <tr>\n",
       "      <th>Angola</th>\n",
       "      <td>2019.0</td>\n",
       "      <td>61.14700</td>\n",
       "    </tr>\n",
       "    <tr>\n",
       "      <th>Antigua and Barbuda</th>\n",
       "      <td>2019.0</td>\n",
       "      <td>77.01600</td>\n",
       "    </tr>\n",
       "    <tr>\n",
       "      <th>...</th>\n",
       "      <td>...</td>\n",
       "      <td>...</td>\n",
       "    </tr>\n",
       "    <tr>\n",
       "      <th>Viet Nam</th>\n",
       "      <td>2019.0</td>\n",
       "      <td>75.40000</td>\n",
       "    </tr>\n",
       "    <tr>\n",
       "      <th>Virgin Islands (U.S.)</th>\n",
       "      <td>2019.0</td>\n",
       "      <td>79.66829</td>\n",
       "    </tr>\n",
       "    <tr>\n",
       "      <th>Yemen</th>\n",
       "      <td>2019.0</td>\n",
       "      <td>66.12500</td>\n",
       "    </tr>\n",
       "    <tr>\n",
       "      <th>Zambia</th>\n",
       "      <td>2019.0</td>\n",
       "      <td>63.88600</td>\n",
       "    </tr>\n",
       "    <tr>\n",
       "      <th>Zimbabwe</th>\n",
       "      <td>2019.0</td>\n",
       "      <td>61.49000</td>\n",
       "    </tr>\n",
       "  </tbody>\n",
       "</table>\n",
       "<p>204 rows × 2 columns</p>\n",
       "</div>"
      ],
      "text/plain": [
       "                         time  lifeExpectancy\n",
       "name                                         \n",
       "Afghanistan            2019.0        64.83300\n",
       "Albania                2019.0        78.57300\n",
       "Algeria                2019.0        76.88000\n",
       "Angola                 2019.0        61.14700\n",
       "Antigua and Barbuda    2019.0        77.01600\n",
       "...                       ...             ...\n",
       "Viet Nam               2019.0        75.40000\n",
       "Virgin Islands (U.S.)  2019.0        79.66829\n",
       "Yemen                  2019.0        66.12500\n",
       "Zambia                 2019.0        63.88600\n",
       "Zimbabwe               2019.0        61.49000\n",
       "\n",
       "[204 rows x 2 columns]"
      ]
     },
     "execution_count": 30,
     "metadata": {},
     "output_type": "execute_result"
    }
   ],
   "source": [
    "# Find the indices where lifeExpectncy is most recent valid for each country\n",
    "idx_max = gapminder_data[gapminder_data.lifeExpectancy.notna()].groupby('name').time.idxmax()\n",
    "# Create a sub dataframe that only contains the information where life expectancy is most recent valid\n",
    "recent_df = gapminder_data.loc[idx_max].set_index(\"name\")\n",
    "# Show the corresponding country, year, and life expectancy\n",
    "recent_df[['time', 'lifeExpectancy']]"
   ]
  },
  {
   "cell_type": "markdown",
   "id": "86cf0361-906b-4275-b2de-00818b45b776",
   "metadata": {},
   "source": [
    "    7. (7pt) Finally, let’s compute the growth rate. You can compute the growth rate (pct per year) as... \n",
    "    where LE0 is the life expectancy at the beginning of the period, LE1 is it at the end of the period,\n",
    "    and n is the length of the period in years.\n",
    "    Show the countries, drowth rates, and the corresponding life expectancies for 10 fastest and 10\n",
    "    slowest growers.\n",
    "    Hint: for each country, compute the first valid year of life expectancy, last valid year of life expectancy, and find their life expectancies for the corresponding years. You can do it in a fairly\n",
    "    similar way as in the previous question. Now use this formula for each country. At the end just\n",
    "    order the result."
   ]
  },
  {
   "cell_type": "code",
   "execution_count": 31,
   "id": "7c8eb262-5007-4e65-8010-0a7077b81fca",
   "metadata": {},
   "outputs": [
    {
     "data": {
      "text/html": [
       "<div>\n",
       "<style scoped>\n",
       "    .dataframe tbody tr th:only-of-type {\n",
       "        vertical-align: middle;\n",
       "    }\n",
       "\n",
       "    .dataframe tbody tr th {\n",
       "        vertical-align: top;\n",
       "    }\n",
       "\n",
       "    .dataframe thead th {\n",
       "        text-align: right;\n",
       "    }\n",
       "</style>\n",
       "<table border=\"1\" class=\"dataframe\">\n",
       "  <thead>\n",
       "    <tr style=\"text-align: right;\">\n",
       "      <th></th>\n",
       "      <th>Year</th>\n",
       "      <th>Life_Expectancy</th>\n",
       "      <th>Fertility_Rate</th>\n",
       "      <th>Year</th>\n",
       "      <th>Life_Expectancy</th>\n",
       "      <th>Fertility_Rate</th>\n",
       "      <th>Growth_Rate</th>\n",
       "    </tr>\n",
       "    <tr>\n",
       "      <th>name</th>\n",
       "      <th></th>\n",
       "      <th></th>\n",
       "      <th></th>\n",
       "      <th></th>\n",
       "      <th></th>\n",
       "      <th></th>\n",
       "      <th></th>\n",
       "    </tr>\n",
       "  </thead>\n",
       "  <tbody>\n",
       "    <tr>\n",
       "      <th>Yemen</th>\n",
       "      <td>1960.0</td>\n",
       "      <td>29.919</td>\n",
       "      <td>7.938</td>\n",
       "      <td>2019.0</td>\n",
       "      <td>66.125</td>\n",
       "      <td>3.700</td>\n",
       "      <td>1.353232</td>\n",
       "    </tr>\n",
       "    <tr>\n",
       "      <th>Maldives</th>\n",
       "      <td>1960.0</td>\n",
       "      <td>37.343</td>\n",
       "      <td>7.021</td>\n",
       "      <td>2019.0</td>\n",
       "      <td>78.921</td>\n",
       "      <td>1.840</td>\n",
       "      <td>1.276385</td>\n",
       "    </tr>\n",
       "    <tr>\n",
       "      <th>Mali</th>\n",
       "      <td>1960.0</td>\n",
       "      <td>28.199</td>\n",
       "      <td>6.967</td>\n",
       "      <td>2019.0</td>\n",
       "      <td>59.306</td>\n",
       "      <td>5.785</td>\n",
       "      <td>1.268013</td>\n",
       "    </tr>\n",
       "    <tr>\n",
       "      <th>Bhutan</th>\n",
       "      <td>1960.0</td>\n",
       "      <td>34.526</td>\n",
       "      <td>6.635</td>\n",
       "      <td>2019.0</td>\n",
       "      <td>71.777</td>\n",
       "      <td>1.954</td>\n",
       "      <td>1.248151</td>\n",
       "    </tr>\n",
       "    <tr>\n",
       "      <th>Timor-Leste</th>\n",
       "      <td>1960.0</td>\n",
       "      <td>33.729</td>\n",
       "      <td>6.319</td>\n",
       "      <td>2019.0</td>\n",
       "      <td>69.495</td>\n",
       "      <td>3.943</td>\n",
       "      <td>1.232786</td>\n",
       "    </tr>\n",
       "    <tr>\n",
       "      <th>Afghanistan</th>\n",
       "      <td>1960.0</td>\n",
       "      <td>32.446</td>\n",
       "      <td>7.450</td>\n",
       "      <td>2019.0</td>\n",
       "      <td>64.833</td>\n",
       "      <td>4.321</td>\n",
       "      <td>1.180194</td>\n",
       "    </tr>\n",
       "    <tr>\n",
       "      <th>Nepal</th>\n",
       "      <td>1960.0</td>\n",
       "      <td>35.583</td>\n",
       "      <td>5.959</td>\n",
       "      <td>2019.0</td>\n",
       "      <td>70.778</td>\n",
       "      <td>1.876</td>\n",
       "      <td>1.172379</td>\n",
       "    </tr>\n",
       "    <tr>\n",
       "      <th>Gambia</th>\n",
       "      <td>1960.0</td>\n",
       "      <td>32.054</td>\n",
       "      <td>6.246</td>\n",
       "      <td>2019.0</td>\n",
       "      <td>62.050</td>\n",
       "      <td>5.154</td>\n",
       "      <td>1.125813</td>\n",
       "    </tr>\n",
       "    <tr>\n",
       "      <th>Liberia</th>\n",
       "      <td>1960.0</td>\n",
       "      <td>34.264</td>\n",
       "      <td>6.406</td>\n",
       "      <td>2019.0</td>\n",
       "      <td>64.104</td>\n",
       "      <td>4.247</td>\n",
       "      <td>1.067371</td>\n",
       "    </tr>\n",
       "    <tr>\n",
       "      <th>Tunisia</th>\n",
       "      <td>1960.0</td>\n",
       "      <td>42.021</td>\n",
       "      <td>6.942</td>\n",
       "      <td>2019.0</td>\n",
       "      <td>76.699</td>\n",
       "      <td>2.174</td>\n",
       "      <td>1.025081</td>\n",
       "    </tr>\n",
       "  </tbody>\n",
       "</table>\n",
       "</div>"
      ],
      "text/plain": [
       "               Year  Life_Expectancy  Fertility_Rate    Year  Life_Expectancy  \\\n",
       "name                                                                            \n",
       "Yemen        1960.0           29.919           7.938  2019.0           66.125   \n",
       "Maldives     1960.0           37.343           7.021  2019.0           78.921   \n",
       "Mali         1960.0           28.199           6.967  2019.0           59.306   \n",
       "Bhutan       1960.0           34.526           6.635  2019.0           71.777   \n",
       "Timor-Leste  1960.0           33.729           6.319  2019.0           69.495   \n",
       "Afghanistan  1960.0           32.446           7.450  2019.0           64.833   \n",
       "Nepal        1960.0           35.583           5.959  2019.0           70.778   \n",
       "Gambia       1960.0           32.054           6.246  2019.0           62.050   \n",
       "Liberia      1960.0           34.264           6.406  2019.0           64.104   \n",
       "Tunisia      1960.0           42.021           6.942  2019.0           76.699   \n",
       "\n",
       "             Fertility_Rate  Growth_Rate  \n",
       "name                                      \n",
       "Yemen                 3.700     1.353232  \n",
       "Maldives              1.840     1.276385  \n",
       "Mali                  5.785     1.268013  \n",
       "Bhutan                1.954     1.248151  \n",
       "Timor-Leste           3.943     1.232786  \n",
       "Afghanistan           4.321     1.180194  \n",
       "Nepal                 1.876     1.172379  \n",
       "Gambia                5.154     1.125813  \n",
       "Liberia               4.247     1.067371  \n",
       "Tunisia               2.174     1.025081  "
      ]
     },
     "execution_count": 31,
     "metadata": {},
     "output_type": "execute_result"
    }
   ],
   "source": [
    "# Create two series that contains the life expectancy of the most recent and the first valid\n",
    "recent_le = recent_df.lifeExpectancy\n",
    "valid_le = valid_df.lifeExpectancy\n",
    "# Create two series that contains the year of the most recent LE and the first valid LE\n",
    "recent_year = recent_df.time\n",
    "valid_year = valid_df.time\n",
    "# Calculate the growth rate using the formula\n",
    "growth_rate = 100 * (((recent_le / valid_le) ** (1 / (recent_year - valid_year))) - 1)\n",
    "# Drop the San Marino and Cayman Islands rows from the dataframe\n",
    "growth_rate = growth_rate.drop(index = ['San Marino', 'Cayman Islands'], columns = 'name')\n",
    "# Create two dataframes, one for the first valid year, one for most recent LE year row\n",
    "first_le_df= pd.DataFrame({'Year': valid_year, \n",
    "                          'Life_Expectancy': valid_le, \n",
    "                          'Fertility_Rate': valid_df.fertilityRate})\n",
    "recent_le_df = pd.DataFrame({'Year': recent_year, \n",
    "                          'Life_Expectancy': recent_le, \n",
    "                          'Fertility_Rate': recent_df.fertilityRate, \n",
    "                          'Growth_Rate': growth_rate})\n",
    "# Combine the two dataframs together\n",
    "present_df = pd.concat([first_le_df, recent_le_df], axis = 1)\n",
    "# Show the 10 fastest growing countries\n",
    "present_df.sort_values('Growth_Rate', ascending = False).head(10)"
   ]
  },
  {
   "cell_type": "code",
   "execution_count": 32,
   "id": "e65045aa-0b0e-4eb8-beab-a39d17a3e1d9",
   "metadata": {},
   "outputs": [
    {
     "data": {
      "text/html": [
       "<div>\n",
       "<style scoped>\n",
       "    .dataframe tbody tr th:only-of-type {\n",
       "        vertical-align: middle;\n",
       "    }\n",
       "\n",
       "    .dataframe tbody tr th {\n",
       "        vertical-align: top;\n",
       "    }\n",
       "\n",
       "    .dataframe thead th {\n",
       "        text-align: right;\n",
       "    }\n",
       "</style>\n",
       "<table border=\"1\" class=\"dataframe\">\n",
       "  <thead>\n",
       "    <tr style=\"text-align: right;\">\n",
       "      <th></th>\n",
       "      <th>Year</th>\n",
       "      <th>Life_Expectancy</th>\n",
       "      <th>Fertility_Rate</th>\n",
       "      <th>Year</th>\n",
       "      <th>Life_Expectancy</th>\n",
       "      <th>Fertility_Rate</th>\n",
       "      <th>Growth_Rate</th>\n",
       "    </tr>\n",
       "    <tr>\n",
       "      <th>name</th>\n",
       "      <th></th>\n",
       "      <th></th>\n",
       "      <th></th>\n",
       "      <th></th>\n",
       "      <th></th>\n",
       "      <th></th>\n",
       "      <th></th>\n",
       "    </tr>\n",
       "  </thead>\n",
       "  <tbody>\n",
       "    <tr>\n",
       "      <th>Marshall Islands</th>\n",
       "      <td>1987.0</td>\n",
       "      <td>72.14146</td>\n",
       "      <td>5.90</td>\n",
       "      <td>2000.0</td>\n",
       "      <td>65.23902</td>\n",
       "      <td>NaN</td>\n",
       "      <td>-0.770640</td>\n",
       "    </tr>\n",
       "    <tr>\n",
       "      <th>Palau</th>\n",
       "      <td>1990.0</td>\n",
       "      <td>69.06927</td>\n",
       "      <td>2.84</td>\n",
       "      <td>2005.0</td>\n",
       "      <td>69.12927</td>\n",
       "      <td>2.020</td>\n",
       "      <td>0.005789</td>\n",
       "    </tr>\n",
       "    <tr>\n",
       "      <th>Ukraine</th>\n",
       "      <td>1960.0</td>\n",
       "      <td>68.29954</td>\n",
       "      <td>2.24</td>\n",
       "      <td>2019.0</td>\n",
       "      <td>71.82732</td>\n",
       "      <td>1.228</td>\n",
       "      <td>0.085396</td>\n",
       "    </tr>\n",
       "    <tr>\n",
       "      <th>Latvia</th>\n",
       "      <td>1960.0</td>\n",
       "      <td>69.78683</td>\n",
       "      <td>1.94</td>\n",
       "      <td>2019.0</td>\n",
       "      <td>75.23902</td>\n",
       "      <td>1.610</td>\n",
       "      <td>0.127581</td>\n",
       "    </tr>\n",
       "    <tr>\n",
       "      <th>Bulgaria</th>\n",
       "      <td>1960.0</td>\n",
       "      <td>69.24756</td>\n",
       "      <td>2.31</td>\n",
       "      <td>2019.0</td>\n",
       "      <td>74.91463</td>\n",
       "      <td>1.580</td>\n",
       "      <td>0.133413</td>\n",
       "    </tr>\n",
       "    <tr>\n",
       "      <th>Lithuania</th>\n",
       "      <td>1960.0</td>\n",
       "      <td>69.84732</td>\n",
       "      <td>2.56</td>\n",
       "      <td>2019.0</td>\n",
       "      <td>76.13415</td>\n",
       "      <td>1.610</td>\n",
       "      <td>0.146183</td>\n",
       "    </tr>\n",
       "    <tr>\n",
       "      <th>Seychelles</th>\n",
       "      <td>1980.0</td>\n",
       "      <td>69.59756</td>\n",
       "      <td>NaN</td>\n",
       "      <td>2019.0</td>\n",
       "      <td>73.94390</td>\n",
       "      <td>2.340</td>\n",
       "      <td>0.155447</td>\n",
       "    </tr>\n",
       "    <tr>\n",
       "      <th>Belarus</th>\n",
       "      <td>1960.0</td>\n",
       "      <td>67.70810</td>\n",
       "      <td>2.67</td>\n",
       "      <td>2019.0</td>\n",
       "      <td>74.22683</td>\n",
       "      <td>1.382</td>\n",
       "      <td>0.155918</td>\n",
       "    </tr>\n",
       "    <tr>\n",
       "      <th>Russian Federation</th>\n",
       "      <td>1960.0</td>\n",
       "      <td>66.05529</td>\n",
       "      <td>2.52</td>\n",
       "      <td>2019.0</td>\n",
       "      <td>73.08390</td>\n",
       "      <td>1.504</td>\n",
       "      <td>0.171530</td>\n",
       "    </tr>\n",
       "    <tr>\n",
       "      <th>Slovakia</th>\n",
       "      <td>1960.0</td>\n",
       "      <td>69.92366</td>\n",
       "      <td>3.04</td>\n",
       "      <td>2019.0</td>\n",
       "      <td>77.47073</td>\n",
       "      <td>1.560</td>\n",
       "      <td>0.173873</td>\n",
       "    </tr>\n",
       "  </tbody>\n",
       "</table>\n",
       "</div>"
      ],
      "text/plain": [
       "                      Year  Life_Expectancy  Fertility_Rate    Year  \\\n",
       "name                                                                  \n",
       "Marshall Islands    1987.0         72.14146            5.90  2000.0   \n",
       "Palau               1990.0         69.06927            2.84  2005.0   \n",
       "Ukraine             1960.0         68.29954            2.24  2019.0   \n",
       "Latvia              1960.0         69.78683            1.94  2019.0   \n",
       "Bulgaria            1960.0         69.24756            2.31  2019.0   \n",
       "Lithuania           1960.0         69.84732            2.56  2019.0   \n",
       "Seychelles          1980.0         69.59756             NaN  2019.0   \n",
       "Belarus             1960.0         67.70810            2.67  2019.0   \n",
       "Russian Federation  1960.0         66.05529            2.52  2019.0   \n",
       "Slovakia            1960.0         69.92366            3.04  2019.0   \n",
       "\n",
       "                    Life_Expectancy  Fertility_Rate  Growth_Rate  \n",
       "name                                                              \n",
       "Marshall Islands           65.23902             NaN    -0.770640  \n",
       "Palau                      69.12927           2.020     0.005789  \n",
       "Ukraine                    71.82732           1.228     0.085396  \n",
       "Latvia                     75.23902           1.610     0.127581  \n",
       "Bulgaria                   74.91463           1.580     0.133413  \n",
       "Lithuania                  76.13415           1.610     0.146183  \n",
       "Seychelles                 73.94390           2.340     0.155447  \n",
       "Belarus                    74.22683           1.382     0.155918  \n",
       "Russian Federation         73.08390           1.504     0.171530  \n",
       "Slovakia                   77.47073           1.560     0.173873  "
      ]
     },
     "execution_count": 32,
     "metadata": {},
     "output_type": "execute_result"
    }
   ],
   "source": [
    "# Print the 10 slowest growing countries\n",
    "present_df.sort_values('Growth_Rate').head(10)"
   ]
  },
  {
   "cell_type": "markdown",
   "id": "c0aeda68-8c6d-447d-9666-7fc40cc07c7c",
   "metadata": {},
   "source": [
    "In this case, San Marino and Cayman Islands are manually dropped. This is because San Marino and Cayman Islands only have life expectancy data for one year which means that the most recent year and the first year are the same. Thus, (most recent year - the first valid year) would equal to 0 which should not be included in the smallest growth rate consideration."
   ]
  },
  {
   "cell_type": "markdown",
   "id": "dc0aac80-59db-460b-affe-8e6fe6e6de09",
   "metadata": {},
   "source": [
    "    8. (4pt) Do you see a pattern (or multiple patterns) here? Remember: you are looking at growth of life expectancy over an extended period.\n"
   ]
  },
  {
   "cell_type": "markdown",
   "id": "56922bf2-bbd5-43a9-a13f-88e51ed47186",
   "metadata": {},
   "source": [
    "It seems like all the countries except for Marshall Islands have a positive growth rate. It also seems like a majority of the slow growth countries have suffered certain kind of economic distruptions. I notice that the majority of the fastest growth countries started with a very low life expectancy. This indicates that even though their life expectancy today may not be competable with other countries, they still have higher growth rate because of the low starting life expectancy."
   ]
  },
  {
   "cell_type": "markdown",
   "id": "665692cf-3e12-451e-9635-a9406810433c",
   "metadata": {},
   "source": [
    "# References"
   ]
  },
  {
   "cell_type": "markdown",
   "id": "248b4ee0-aaef-4256-a93c-3d21d4754a52",
   "metadata": {},
   "source": [
    "Lubanovic, B. (2014) Introducing Python: Modern Computing in Simple Packages, O’Reilly Media."
   ]
  }
 ],
 "metadata": {
  "kernelspec": {
   "display_name": "Python 3 (ipykernel)",
   "language": "python",
   "name": "python3"
  },
  "language_info": {
   "codemirror_mode": {
    "name": "ipython",
    "version": 3
   },
   "file_extension": ".py",
   "mimetype": "text/x-python",
   "name": "python",
   "nbconvert_exporter": "python",
   "pygments_lexer": "ipython3",
   "version": "3.9.7"
  }
 },
 "nbformat": 4,
 "nbformat_minor": 5
}

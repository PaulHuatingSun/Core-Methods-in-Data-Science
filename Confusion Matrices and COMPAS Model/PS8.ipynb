{
 "cells": [
  {
   "cell_type": "markdown",
   "id": "0f8152e4-cdd4-41b6-875d-11a866cc7761",
   "metadata": {
    "tags": []
   },
   "source": [
    "\n",
    "\n",
    "# Is COMPAS fair? (48pt)"
   ]
  },
  {
   "cell_type": "code",
   "execution_count": 1,
   "id": "ab1cdff4-8021-42e9-b383-0f0517d0a230",
   "metadata": {},
   "outputs": [],
   "source": [
    "# Import necessary packages\n",
    "import numpy as np\n",
    "import pandas as pd\n",
    "import statsmodels.formula.api as smf\n",
    "import matplotlib.pyplot as plt\n",
    "from sklearn.metrics import confusion_matrix\n",
    "from sklearn.model_selection import cross_val_score\n",
    "from sklearn.linear_model import LogisticRegression"
   ]
  },
  {
   "cell_type": "markdown",
   "id": "0a28c56f-9023-4b70-b5f5-fc5719971784",
   "metadata": {},
   "source": [
    "    The first task is to analyze fairness of the COMPAS algorithm. As the algorithm is proprietary, you cannot use this to make predictions. But you do not need to predict anything anyway–the COMPAS predictions are already done and included as decile_score variable!\n",
    "    Your task are the following:"
   ]
  },
  {
   "cell_type": "markdown",
   "id": "2c80303d-5e7b-416c-8fcf-8df4c6a8b1ec",
   "metadata": {},
   "source": [
    "    1. (1pt) Load the COMPAS data, and perform the basic checks."
   ]
  },
  {
   "cell_type": "code",
   "execution_count": 2,
   "id": "085557f7-e723-4775-a332-d60dd2d68827",
   "metadata": {},
   "outputs": [
    {
     "name": "stdout",
     "output_type": "stream",
     "text": [
      "<class 'pandas.core.frame.DataFrame'>\n",
      "RangeIndex: 6172 entries, 0 to 6171\n",
      "Data columns (total 8 columns):\n",
      " #   Column           Non-Null Count  Dtype \n",
      "---  ------           --------------  ----- \n",
      " 0   age              6172 non-null   int64 \n",
      " 1   c_charge_degree  6172 non-null   object\n",
      " 2   race             6172 non-null   object\n",
      " 3   age_cat          6172 non-null   object\n",
      " 4   sex              6172 non-null   object\n",
      " 5   priors_count     6172 non-null   int64 \n",
      " 6   decile_score     6172 non-null   int64 \n",
      " 7   two_year_recid   6172 non-null   int64 \n",
      "dtypes: int64(4), object(4)\n",
      "memory usage: 385.9+ KB\n"
     ]
    }
   ],
   "source": [
    "# Load raw COMPAS data and perform basic checks\n",
    "raw_df = pd.read_csv('/home/jovyan/PS/data/compas-score-data.csv', sep='\\t')\n",
    "raw_df.info()"
   ]
  },
  {
   "cell_type": "markdown",
   "id": "fd09161b-69d1-4166-9558-942c18c44571",
   "metadata": {},
   "source": [
    "    2. (1pt) Filter the data to keep only Caucasian and African-Americans. There are just too few offenders of other races."
   ]
  },
  {
   "cell_type": "markdown",
   "id": "9c4911a2-e82e-4a68-b6a9-49100f69f0d5",
   "metadata": {},
   "source": [
    "    COMPAS categorizes offenders into 10 different categories, starting from 1 (least likely to recidivate) till 10 (most likely). But for simplicity, we scale this down to two categories (low risk/high risk) only."
   ]
  },
  {
   "cell_type": "code",
   "execution_count": 3,
   "id": "f34f5554-750e-4ff5-abb1-c79e3e4f3311",
   "metadata": {},
   "outputs": [
    {
     "data": {
      "text/html": [
       "<div>\n",
       "<style scoped>\n",
       "    .dataframe tbody tr th:only-of-type {\n",
       "        vertical-align: middle;\n",
       "    }\n",
       "\n",
       "    .dataframe tbody tr th {\n",
       "        vertical-align: top;\n",
       "    }\n",
       "\n",
       "    .dataframe thead th {\n",
       "        text-align: right;\n",
       "    }\n",
       "</style>\n",
       "<table border=\"1\" class=\"dataframe\">\n",
       "  <thead>\n",
       "    <tr style=\"text-align: right;\">\n",
       "      <th></th>\n",
       "      <th>age</th>\n",
       "      <th>c_charge_degree</th>\n",
       "      <th>race</th>\n",
       "      <th>age_cat</th>\n",
       "      <th>sex</th>\n",
       "      <th>priors_count</th>\n",
       "      <th>decile_score</th>\n",
       "      <th>two_year_recid</th>\n",
       "    </tr>\n",
       "  </thead>\n",
       "  <tbody>\n",
       "    <tr>\n",
       "      <th>1</th>\n",
       "      <td>34</td>\n",
       "      <td>F</td>\n",
       "      <td>African-American</td>\n",
       "      <td>25 - 45</td>\n",
       "      <td>Male</td>\n",
       "      <td>0</td>\n",
       "      <td>3</td>\n",
       "      <td>1</td>\n",
       "    </tr>\n",
       "    <tr>\n",
       "      <th>2</th>\n",
       "      <td>24</td>\n",
       "      <td>F</td>\n",
       "      <td>African-American</td>\n",
       "      <td>Less than 25</td>\n",
       "      <td>Male</td>\n",
       "      <td>4</td>\n",
       "      <td>4</td>\n",
       "      <td>1</td>\n",
       "    </tr>\n",
       "    <tr>\n",
       "      <th>4</th>\n",
       "      <td>41</td>\n",
       "      <td>F</td>\n",
       "      <td>Caucasian</td>\n",
       "      <td>25 - 45</td>\n",
       "      <td>Male</td>\n",
       "      <td>14</td>\n",
       "      <td>6</td>\n",
       "      <td>1</td>\n",
       "    </tr>\n",
       "    <tr>\n",
       "      <th>6</th>\n",
       "      <td>39</td>\n",
       "      <td>M</td>\n",
       "      <td>Caucasian</td>\n",
       "      <td>25 - 45</td>\n",
       "      <td>Female</td>\n",
       "      <td>0</td>\n",
       "      <td>1</td>\n",
       "      <td>0</td>\n",
       "    </tr>\n",
       "    <tr>\n",
       "      <th>7</th>\n",
       "      <td>27</td>\n",
       "      <td>F</td>\n",
       "      <td>Caucasian</td>\n",
       "      <td>25 - 45</td>\n",
       "      <td>Male</td>\n",
       "      <td>0</td>\n",
       "      <td>4</td>\n",
       "      <td>0</td>\n",
       "    </tr>\n",
       "  </tbody>\n",
       "</table>\n",
       "</div>"
      ],
      "text/plain": [
       "   age c_charge_degree              race       age_cat     sex  priors_count  \\\n",
       "1   34               F  African-American       25 - 45    Male             0   \n",
       "2   24               F  African-American  Less than 25    Male             4   \n",
       "4   41               F         Caucasian       25 - 45    Male            14   \n",
       "6   39               M         Caucasian       25 - 45  Female             0   \n",
       "7   27               F         Caucasian       25 - 45    Male             0   \n",
       "\n",
       "   decile_score  two_year_recid  \n",
       "1             3               1  \n",
       "2             4               1  \n",
       "4             6               1  \n",
       "6             1               0  \n",
       "7             4               0  "
      ]
     },
     "execution_count": 3,
     "metadata": {},
     "output_type": "execute_result"
    }
   ],
   "source": [
    "# Filter the data to keep only Caucasian and African-American\n",
    "compas_df = raw_df[(raw_df.race == \"African-American\") | (raw_df.race == \"Caucasian\")]\n",
    "compas_df.head(5)"
   ]
  },
  {
   "cell_type": "markdown",
   "id": "37b6f621-3110-4500-8cc2-dd99efe991bb",
   "metadata": {},
   "source": [
    "    3. (2pt) Create a new dummy variable based off of COMPAS risk score (decile_score), which indicates if an individual was classified as low risk (score 1-4) or high risk (score 5-10).\n",
    "    Hint: you can proceed in different ways but for technical reasons related the tasks below, the best way to do it is to create a variable “high score”, that takes values 1 (decile score 5 and above) and 0 (decile score 1-4)."
   ]
  },
  {
   "cell_type": "code",
   "execution_count": 4,
   "id": "aa9b6ade-5287-4059-9e43-1fd5a5b86028",
   "metadata": {},
   "outputs": [],
   "source": [
    "# Create a copy to avoid warning\n",
    "compas_df = compas_df.copy()\n",
    "# Make a new variable with category of risk level with inequalities\n",
    "# Low risk = 1-4 (labeled as 0), high risk = 5-10 (labeled as 1)\n",
    "compas_df[\"risk_category\"] = pd.cut(compas_df.decile_score,\n",
    "                                    bins = [-np.inf, 5, np.inf],\n",
    "                                    labels = [0, 1],\n",
    "                                    right = False)"
   ]
  },
  {
   "cell_type": "markdown",
   "id": "d2414e00-8ed0-4c6b-b2d9-f7511a44a413",
   "metadata": {},
   "source": [
    "    4. (6pt) Now analyze the offenders across this new risk category:\n",
    "    (a) What is the recidivism rate (percentage of offenders who re-commit the crime) for low-risk and high-risk individuals?"
   ]
  },
  {
   "cell_type": "code",
   "execution_count": 5,
   "id": "087fb6cf-d74c-4efd-97c7-c37b7510dfab",
   "metadata": {},
   "outputs": [
    {
     "name": "stdout",
     "output_type": "stream",
     "text": [
      "Revidivism rate for low-risk individuals: 0.3200145296040683\n",
      "Revidivism rate for high-risk individuals: 0.6344554455445545\n"
     ]
    }
   ],
   "source": [
    "# Create a new data frame that only contains observations with recedivism \n",
    "recidivism_df = compas_df[compas_df.two_year_recid == 1]\n",
    "# Calculate the recidivism rate for low risk and high risk individuals\n",
    "recidivism_risk = compas_df.groupby(\"risk_category\")[\"two_year_recid\"].mean()\n",
    "recidivism_low_risk = recidivism_risk[0]\n",
    "recidivism_high_risk = recidivism_risk[1]\n",
    "# Print the result statements\n",
    "print('Revidivism rate for low-risk individuals:', recidivism_low_risk)\n",
    "print('Revidivism rate for high-risk individuals:', recidivism_high_risk)"
   ]
  },
  {
   "cell_type": "markdown",
   "id": "6b982b90-eaec-4404-96db-a050f650fec3",
   "metadata": {},
   "source": [
    "    (b) What are the recidivism rates for African-Americans and Caucasians?"
   ]
  },
  {
   "cell_type": "code",
   "execution_count": 6,
   "id": "204e7303-af01-4c8e-96dc-4e59297081a3",
   "metadata": {},
   "outputs": [
    {
     "name": "stdout",
     "output_type": "stream",
     "text": [
      "Revidivism rate for African-Americans: 0.5231496062992126\n",
      "Revidivism rate for Caucasians: 0.3908701854493581\n"
     ]
    }
   ],
   "source": [
    "# Calculate the recidivism rate for African-American and Caucasians\n",
    "recidivism_risk_race = compas_df.groupby(\"race\")[\"two_year_recid\"].mean()\n",
    "recidivism_african_american = recidivism_risk_race[0]\n",
    "recidivism_caucasian = recidivism_risk_race[1]\n",
    "# Print result statement\n",
    "print('Revidivism rate for African-Americans:', recidivism_african_american)\n",
    "print('Revidivism rate for Caucasians:', recidivism_caucasian)"
   ]
  },
  {
   "cell_type": "markdown",
   "id": "1fbb553a-0daa-4ef8-b3e0-f1d9ec500eb5",
   "metadata": {},
   "source": [
    "    5. (8 pt) Now create a confusion matrix comparing COMPAS predictions for recidivism (low risk/high risk) and the actual two-year recidivism and interpret the results. In order to be on the same page, let’s call recidivists “positives”.\n",
    "    Note: you do not have to predict anything here. COMPAS has made the prediction for you, this is the variable you created in 3 based on decile_score. See the referred articles about the controversy around COMPAS methodology.\n",
    "    Note 2: Do not just output a confusion matrix with accompanying text like “accuracy = x%, precision = y%”. Interpret your results such as “z% of recidivists were falsly classified as low-risk, COMPAS accurately classified k% of individuals, etc.”"
   ]
  },
  {
   "cell_type": "code",
   "execution_count": 7,
   "id": "6ba1af54-ca43-4f5f-aee6-99d7f8799447",
   "metadata": {},
   "outputs": [
    {
     "data": {
      "text/plain": [
       "array([[1872,  923],\n",
       "       [ 881, 1602]])"
      ]
     },
     "execution_count": 7,
     "metadata": {},
     "output_type": "execute_result"
    }
   ],
   "source": [
    "# Create a confusion matrix comparing COMPAS predictions for recidivism  and the actual two-year recidivism.\n",
    "cm = confusion_matrix(compas_df.two_year_recid,compas_df.risk_category)\n",
    "cm"
   ]
  },
  {
   "cell_type": "markdown",
   "id": "ffbd1e42-0505-4572-ac10-c71d7788b788",
   "metadata": {},
   "source": [
    "|        | Confusion Matrix |        |\n",
    "| :----: | :--------: | :--------: |\n",
    "|         | Low-Risk (-) | High-Risk (+) |\n",
    "| non-recidivated (-) |      1872 (TN)    |    923 (FP)   |\n",
    "| recidivated (+) |      881 (FN)    |    1602  (TP)   |\n",
    "\n"
   ]
  },
  {
   "cell_type": "code",
   "execution_count": 8,
   "id": "c92ca62b-435c-4300-9f76-ae4738382f45",
   "metadata": {},
   "outputs": [
    {
     "name": "stdout",
     "output_type": "stream",
     "text": [
      "65.82 % of individuals were accurately classified by COMPAS (accuracy).\n",
      "\n",
      "64.52 % of recidivists were correctly classified as high-risk (recall).\n",
      "\n",
      "63.45 % of high risk individuals were correcly classified as recidivists (precision).\n",
      "\n",
      "35.48 % of recidivists were falsly classified as low-risk. (FNR)\n",
      "\n",
      "32.0 % of low-risk individuals were falsly classified as recidivists.\n",
      "\n",
      "33.02 % of non-recidivists were falsly classified as high-risk. (FPR)\n",
      "\n",
      "36.55 % of high-risk individuals were falsly classified as non-recidivists.\n"
     ]
    }
   ],
   "source": [
    "# Count the total number of cases\n",
    "total_count = cm.sum().sum()\n",
    "# Count the total positive and negative cases\n",
    "non_recid, recid = cm.sum(axis = 1)\n",
    "# Create the true positive, ture negative, false negative, false positive variables\n",
    "tp = cm[1,1]\n",
    "tn = cm[0,0]\n",
    "fn = cm[1,0]\n",
    "fp = cm[0,1]\n",
    "# Print interpretation\n",
    "print(round((tp + tn)/ total_count * 100, 2), \"% of individuals were accurately classified by COMPAS (accuracy).\\n\")\n",
    "print(round((tp / (recid) * 100), 2), \"% of recidivists were correctly classified as high-risk (recall).\\n\")\n",
    "print(round((tp / (tp + fp) * 100), 2), \"% of high risk individuals were correcly classified as recidivists (precision).\\n\")\n",
    "print(round(((fn / recid) * 100), 2), \"% of recidivists were falsly classified as low-risk. (FNR)\\n\")\n",
    "print(round(((fn / (tn + fn)) * 100), 2), \"% of low-risk individuals were falsly classified as recidivists.\\n\")\n",
    "print(round(((fp / non_recid) * 100), 2), \"% of non-recidivists were falsly classified as high-risk. (FPR)\\n\")\n",
    "print(round(((fp / (tp + fp)) * 100), 2), \"% of high-risk individuals were falsly classified as non-recidivists.\")"
   ]
  },
  {
   "cell_type": "markdown",
   "id": "ccf4fb05-4e4a-4c1d-8a02-4627fc83d459",
   "metadata": {},
   "source": [
    "    6. (8pt) Find the accuracy of the COMPAS classification, and also how its errors were distributed. Would you feel comfortable having a judge to use COMPAS to inform sentencing guidelines? At what point would the error/misclassification risk be acceptable for you? What do you think, how well can judges perform the same task without COMPAS’s help? \n",
    "    Remember: human judges are not perfect either!"
   ]
  },
  {
   "cell_type": "code",
   "execution_count": 9,
   "id": "e1e087e3-5d3c-47c1-9e96-4e5523e32e93",
   "metadata": {},
   "outputs": [
    {
     "name": "stdout",
     "output_type": "stream",
     "text": [
      "Accuracy of the COMPAS classification: 0.6582038651004168\n",
      "33.02 % of non-recidivists were falsly classified as high-risk. (FPR)\n",
      "35.48 % of recidivists were falsly classified as low-risk. (FNR)\n"
     ]
    }
   ],
   "source": [
    "# Print the accuracy score of the COMPAS classification\n",
    "print(\"Accuracy of the COMPAS classification:\", (tp + tn)/ total_count)\n",
    "print(round(((fp / non_recid) * 100), 2), \"% of non-recidivists were falsly classified as high-risk. (FPR)\")\n",
    "print(round(((fn / recid) * 100), 2), \"% of recidivists were falsly classified as low-risk. (FNR)\")"
   ]
  },
  {
   "cell_type": "markdown",
   "id": "132e42eb-d8ea-4536-acad-ba2ba3ff51c7",
   "metadata": {},
   "source": [
    "The accuracy of the COMPAS classification is about 0.66, which means that about 66% percent of the individuals were correctly classified by COMPAS classification. \n",
    "\n",
    "Personally, I would not be comfortable having a judge use COMPAS to inform sentencing guidelines as the error in both predicted and actual results are above 0.30 or 30%, as shown above. That means that within the thousands of people who are released from U.S. prison, about 30% of them are inaccurately classified. \n",
    "\n",
    "I would not be comfortable using COMPAS unless the misclassification risk is close to 0%, but it is not realistic. So, if the COMPAS misclassification risk is less than 0.05 or 5%, I would be more comfortable letting judges use COMPAS.\n",
    "\n",
    "I think the judges may have a better chance than the COMPAS classification right now. Although judges are not perfect and can be biased in many cases, I don't think they can do any worse than misclassifying about a third of the prisoners. That being said, if COMPAS can lower its misclassification risk, I would rather use COMPAS as COMPAS is less biased than human judges."
   ]
  },
  {
   "cell_type": "markdown",
   "id": "5914f3e5-1373-470d-a237-c221497d878f",
   "metadata": {},
   "source": [
    "    7. (10pt) Now repeat your confusion matrix calculation and analysis from 5. But this time do it separately for African-Americans and for Caucasians:"
   ]
  },
  {
   "cell_type": "code",
   "execution_count": 10,
   "id": "e3cf7b7e-95ca-4282-b881-54c3f8eab1a4",
   "metadata": {},
   "outputs": [
    {
     "data": {
      "text/plain": [
       "array([[ 873,  641],\n",
       "       [ 473, 1188]])"
      ]
     },
     "execution_count": 10,
     "metadata": {},
     "output_type": "execute_result"
    }
   ],
   "source": [
    "# Filter the race for African American\n",
    "compas_AA = compas_df[compas_df.race == \"African-American\"]\n",
    "# Create a confusion matrix of recidivism and prediction for African American\n",
    "# Recidivism is positive\n",
    "cm_AA = confusion_matrix(compas_AA.two_year_recid, compas_AA.risk_category)\n",
    "# Assign values to TN, TP, FP, FN, and total\n",
    "tn_AA = cm_AA[0, 0]\n",
    "fp_AA = cm_AA[0, 1]\n",
    "fn_AA = cm_AA[1, 0]\n",
    "tp_AA = cm_AA[1, 1]\n",
    "total_AA = compas_AA.shape[0]\n",
    "cm_AA"
   ]
  },
  {
   "cell_type": "markdown",
   "id": "a62444f1-630b-4d76-a1aa-3ee27dd797ed",
   "metadata": {},
   "source": [
    "|        | Confusion Matrix for African American |        |\n",
    "| :----: | :--------: | :--------: |\n",
    "|         | Low-Risk (-) | High-Risk (+) |\n",
    "| non-recidivated (-) |      873 (TN)    |    641 (FP)   |\n",
    "| recidivated (+) |      473 (FN)    |    1188  (TP)   |"
   ]
  },
  {
   "cell_type": "code",
   "execution_count": 11,
   "id": "03caca0e-7d4e-4fca-b79d-fe9ee1c51b8a",
   "metadata": {},
   "outputs": [
    {
     "data": {
      "text/plain": [
       "array([[999, 282],\n",
       "       [408, 414]])"
      ]
     },
     "execution_count": 11,
     "metadata": {},
     "output_type": "execute_result"
    }
   ],
   "source": [
    "# Filter the race for Caucasian\n",
    "compas_Caucasian = compas_df[compas_df.race == \"Caucasian\"]\n",
    "# Create a confusion matrix of recidivism and prediction for Caucasian\n",
    "# Recidivism is positive\n",
    "cm_Caucasian = confusion_matrix(compas_Caucasian.two_year_recid, compas_Caucasian.risk_category)\n",
    "# Assign values to TN, TP, FP, FN, and total\n",
    "tn_Caucasian = cm_Caucasian[0, 0]\n",
    "fp_Caucasian = cm_Caucasian[0, 1]\n",
    "fn_Caucasian = cm_Caucasian[1, 0]\n",
    "tp_Caucasian = cm_Caucasian[1, 1]\n",
    "total_Caucasian = compas_Caucasian.shape[0]\n",
    "cm_Caucasian"
   ]
  },
  {
   "cell_type": "markdown",
   "id": "7962d28d-35e6-4560-a56e-88b51f5601fd",
   "metadata": {},
   "source": [
    "|        | Confusion Matrix for Caucasian |        |\n",
    "| :----: | :--------: | :--------: |\n",
    "|         | Low-Risk (-) | High-Risk (+) |\n",
    "| non-recidivated (-) |      999 (TN)    |    282 (FP)   |\n",
    "| recidivated (+) |      408 (FN)    |    414  (TP)   |"
   ]
  },
  {
   "cell_type": "markdown",
   "id": "81776476-b523-41d6-863d-d29cc9d4bd60",
   "metadata": {},
   "source": [
    "    (a) How accurate is the COMPAS classification for African-American individuals? For Caucasians?"
   ]
  },
  {
   "cell_type": "code",
   "execution_count": 12,
   "id": "a7cdd2e8-3f17-492f-befe-5dcc04ad5e29",
   "metadata": {},
   "outputs": [
    {
     "name": "stdout",
     "output_type": "stream",
     "text": [
      "COMPAS classification accurately classifies 64.91 % of African Americans.\n",
      "COMPAS classification accurately classifies 67.19 % of Caucasians.\n"
     ]
    }
   ],
   "source": [
    "# Find the accuracy of the COMPAS classification for African-American and Caucasians\n",
    "print(\"COMPAS classification accurately classifies\", round((tn_AA + tp_AA) / total_AA * 100, 2), \"% of African Americans.\")\n",
    "print(\"COMPAS classification accurately classifies\", round(((tn_Caucasian + tp_Caucasian) / total_Caucasian) * 100, 2), \"% of Caucasians.\")"
   ]
  },
  {
   "cell_type": "markdown",
   "id": "3ddae1f3-d257-4de6-baa1-f4d7dff34f01",
   "metadata": {},
   "source": [
    "    (b) What are the false positive rates (false recidivism rates) FPR=FP/N=FP/(FP+TN)?"
   ]
  },
  {
   "cell_type": "code",
   "execution_count": 13,
   "id": "0c87cc6e-1670-4dc7-ada6-7d2df7beba8f",
   "metadata": {},
   "outputs": [
    {
     "name": "stdout",
     "output_type": "stream",
     "text": [
      "False Positive Rate (FPR) or False Recidivism Rate 42.34 % of African Americans.\n",
      "False Positive Rate (FPR) or False Recidivism Rate 22.01 % of Caucasians.\n"
     ]
    }
   ],
   "source": [
    "# Calculate the FPR \n",
    "print(\"False Positive Rate (FPR) or False Recidivism Rate\", round(fp_AA / (fp_AA + tn_AA) * 100, 2), \"% of African Americans.\")\n",
    "print(\"False Positive Rate (FPR) or False Recidivism Rate\", round(fp_Caucasian / (fp_Caucasian + tn_Caucasian) * 100, 2), \"% of Caucasians.\")"
   ]
  },
  {
   "cell_type": "markdown",
   "id": "b9685a1b-437d-40f0-a74e-66b91354584a",
   "metadata": {},
   "source": [
    "    (c) The false negative rates (false no-recidivism rates) FNR=FN/P=FN/(FN+TP)?"
   ]
  },
  {
   "cell_type": "markdown",
   "id": "d6d50013-56a5-4d45-a2a5-4a7e9025f761",
   "metadata": {},
   "source": [
    "    We did not talk about FPR and FNR in class, you can consult lecture notes, section 6.1.1."
   ]
  },
  {
   "cell_type": "code",
   "execution_count": 14,
   "id": "c9185c78-f2ff-4c69-94f3-fe73b1c59e06",
   "metadata": {},
   "outputs": [
    {
     "name": "stdout",
     "output_type": "stream",
     "text": [
      "False Negative Rate (FNR) or False No-Recidivism Rate 28.48 % of African Americans.\n",
      "False Negative Rate (FNR) or False No-Recidivism Rate 49.64 % of Caucasians.\n"
     ]
    }
   ],
   "source": [
    "# Calculate the FNR\n",
    "print(\"False Negative Rate (FNR) or False No-Recidivism Rate\", round(fn_AA / (fn_AA + tp_AA) * 100, 2), \"% of African Americans.\")\n",
    "print(\"False Negative Rate (FNR) or False No-Recidivism Rate\", round(fn_Caucasian / (fn_Caucasian + tp_Caucasian) * 100, 2), \"% of Caucasians.\")"
   ]
  },
  {
   "cell_type": "markdown",
   "id": "77242a55-a94d-4aca-8737-81af525ecd65",
   "metadata": {},
   "source": [
    "    8. (12pt) If you have done this correctly, you will find that COMPAS’s percentage of correctly categorized individuals (accuracy) is fairly similar for African-American and Caucasian individuals, but that false positive rates and false negative rates are different. Look again at the overal recidivism rates in the dataset for Black and White individuals. In your opinion, is the COMPAS algorithm fair? Justify your answer.\n",
    "    Hint: This is not a trick question. If you read the first two recommended readings, you will find that people disagree how you define fairness. Your answer will not be graded on which side you take, but on your justification."
   ]
  },
  {
   "cell_type": "markdown",
   "id": "898dbc4d-c995-420a-b210-451d2bbb9349",
   "metadata": {},
   "source": [
    "As mentioned, the COMPAS algorithm is already questionable in terms of accuracy as it has over 30% error. Thus, I believe that the COMPAS algorithm is not fair. Fair is defined as to ensure similar FPR and FNR across different categories in this case. However, it is not fair in different categories. For example, race. As shown above, Caucasians have an FPR of approximately 22%, while African Americans have an FPR of roughly 42%. The difference between the two groups in FPR is about 20%. This means that African Americans are 20% more likely to be falsely predicted to recidivate and thus result in inequality in the sentences and treatments at the count. In terms of FNR, Caucasians have about 50% FNR, and African Americans have about 28%. The difference between the two is about 22% which means that Caucasians are 22% more likely to be predicted as having no recidivism compared to African Americans and lead to less harsh sentences. \n",
    "\n",
    "There is a clear divide in the treatment between the African Americans and Caucasians in the COMPAS algorithm. Although the overall recidivism rates for Caucasians and African Americans are rather similar, with about 13% difference, the difference in FPR and FNR is too large to say that this algorithm is fair."
   ]
  },
  {
   "cell_type": "markdown",
   "id": "da8de51c-0489-4208-9845-504af5196fb9",
   "metadata": {},
   "source": [
    "# Can you beat COMPAS? (40pt)    "
   ]
  },
  {
   "cell_type": "markdown",
   "id": "e605f64d-1460-47e0-86e3-1ad96dd15772",
   "metadata": {},
   "source": [
    "    COMPAS model has created quite a bit controversy. One issue frequently brought up is that it is “closed source”, i.e. its inner workings are not available neither for public nor for the judges who are actually making the decisions. But is it a big problem? Maybe you can devise as good a model as COMPAS to predict recidivism? Maybe you can do even better? Let’s try!\n",
    "    We proceed as follows:\n",
    "    • Note that you should not use variable score_text that originates from COMPAS model. Do you see why?\n",
    "    • First we devise a model that explicitly does not include gender and race. Your task is to use cross-validation to develop the best model you can do based on the available variables.\n",
    "    • Thereafter we add gender and see if gender improves the model performance.\n",
    "    • And finally we also add race and see if race has an additional explanatory effect, i.e. does race help to improve the performance of the model."
   ]
  },
  {
   "cell_type": "markdown",
   "id": "a1e88b3b-ade2-4177-a379-61f53ba1836d",
   "metadata": {},
   "source": [
    "    1. (8pt) Before we start: what do you think, what is an appropriate model performance measure here? A, P, R, For something else? Maybe you want to report multiple measures? Explain!"
   ]
  },
  {
   "cell_type": "markdown",
   "id": "54f15b1e-9112-4bd4-bb01-c4264c5221bc",
   "metadata": {},
   "source": [
    "Although all the performance measures are important, I think the most appropriate model performance measure here should be precision. This is because I want to avoid false positives, which are the people who were predicted to recidivate but actually did not. It is not wanted to put innocent people back in jail again. "
   ]
  },
  {
   "cell_type": "markdown",
   "id": "aed46fce-fb70-4da3-a025-d824fce7c9af",
   "metadata": {},
   "source": [
    "    2. (6pt) Now it is time to do the modeling. Create a logistic regression model that contains all explanatory variables you have in data into the model. (Some of these you have to convert to dummies). Do not include the variables discussed above, do not include race and gender in this model either to avoid explicit gender/racial bias.\n",
    "    Use 10-fold CV to compute its relevant performance measure(s) you discussed above."
   ]
  },
  {
   "cell_type": "code",
   "execution_count": 15,
   "id": "db5005a2-98af-4bdb-b9ae-82e084e2ac98",
   "metadata": {},
   "outputs": [
    {
     "name": "stdout",
     "output_type": "stream",
     "text": [
      "Average Cross-validation results: 0.6798087793453661\n"
     ]
    }
   ],
   "source": [
    "# Create a logistic regression model that contains all explanatory variables\n",
    "X_1 = compas_df[[\"age\", \"c_charge_degree\", \"priors_count\"]]\n",
    "X1 = pd.get_dummies(X_1, columns = [\"c_charge_degree\"], drop_first = True)\n",
    "y = compas_df.two_year_recid\n",
    "m = LogisticRegression(solver = \"lbfgs\")\n",
    "cv = cross_val_score(m, X1, y, scoring = 'precision', cv = 10)\n",
    "print('Average Cross-validation results:', cv.mean())"
   ]
  },
  {
   "cell_type": "markdown",
   "id": "7d8c9650-5d07-45d4-865f-800d49a4c366",
   "metadata": {},
   "source": [
    "    3. (6pt) Experiment with different models to find the best model according to your preformance indicator. (Include/exclude different variables, you may also do feature engineering, e.g. create different age groups, include variables like age2, age2, interaction effects, etc. But do not include race and gender.\n",
    "    Report what did you try (but no need to report the full results of all unsuccessful models you tried), and your best model’s performance. Is it better or worse than for the COMPAS model?\n",
    "    Please do not spend too much on tiny differences, e.g. your accuracy is better by 0.001 and F-score worse by 0.0005. Cross-validation is a random process and these figures jump up and down a bit."
   ]
  },
  {
   "cell_type": "code",
   "execution_count": 16,
   "id": "12dcd95b-a2f7-41db-a406-ebdf3966a8e0",
   "metadata": {},
   "outputs": [
    {
     "name": "stdout",
     "output_type": "stream",
     "text": [
      "Average Cross-validation results: 0.6540072716116024\n"
     ]
    }
   ],
   "source": [
    "# Categorize the priors_count into different categories\n",
    "compas_df[\"prior_category\"] = pd.cut(compas_df.priors_count,\n",
    "                      bins = [-np.inf, 1, 5, np.inf],\n",
    "                      labels = [\"0\", \"1-4\", \"5+\"],\n",
    "                      right = False)\n",
    "# Make X explanatory and y predicting variable\n",
    "# Create another another model that adds the new category\n",
    "X_2 = compas_df[[\"age\", \"c_charge_degree\", \"prior_category\"]]\n",
    "# Create another model\n",
    "X2 = pd.get_dummies(X_2, columns = [\"c_charge_degree\", \"prior_category\"], drop_first = True)\n",
    "y = compas_df.two_year_recid\n",
    "m = LogisticRegression(solver = \"lbfgs\")\n",
    "cv = cross_val_score(m, X2, y, scoring = 'precision', cv = 10)\n",
    "print('Average Cross-validation results:', cv.mean())"
   ]
  },
  {
   "cell_type": "code",
   "execution_count": 17,
   "id": "8f2d5c38-a341-4ed0-a00a-ba4d9e29cd45",
   "metadata": {},
   "outputs": [
    {
     "name": "stdout",
     "output_type": "stream",
     "text": [
      "Average Cross-validation results: 0.6972982679085296\n"
     ]
    }
   ],
   "source": [
    "# Create the variable age squared that sqaure the age variable\n",
    "compas_df[\"age_squared\"] = compas_df[\"age\"]**2\n",
    "# Create another model\n",
    "X_3 = compas_df[[\"age_squared\", \"c_charge_degree\", \"priors_count\"]]\n",
    "X3 = pd.get_dummies(X_3, columns = [\"c_charge_degree\"], drop_first = True).values\n",
    "y = compas_df.two_year_recid\n",
    "m = LogisticRegression(solver = \"lbfgs\")\n",
    "cv = cross_val_score(m, X3, y, scoring = 'precision', cv = 10)\n",
    "print('Average Cross-validation results:', cv.mean())"
   ]
  },
  {
   "cell_type": "markdown",
   "id": "2349fe43-8fbe-4eff-b6e3-0546215185d2",
   "metadata": {},
   "source": [
    "Out of all the experimented models, this model performs the best in terms of precision. This model includes three different variables, age_squared, c_charge_degree, and priors_count. COMPAS had a precision of 0.6345, and mine had a precision significantly higher. Thus, I would say that my model performs better than the COMPAS model."
   ]
  },
  {
   "cell_type": "code",
   "execution_count": 18,
   "id": "6f6285ba-4399-4d75-a259-b0b707be9052",
   "metadata": {},
   "outputs": [
    {
     "name": "stdout",
     "output_type": "stream",
     "text": [
      "Average Cross-validation results: 0.6405401891276197\n"
     ]
    }
   ],
   "source": [
    "# Create another age category variable\n",
    "compas_df[\"age_cat1\"] = pd.cut(compas_df.age,\n",
    "                            bins = [-np.inf, 18, 21, 30, 40, np.inf],\n",
    "                            labels = [\"<=18\", \"19-21\", \"22-30\", \"29-40\", \"41+\"])\n",
    "# Create another variable that is based on priors_count \n",
    "compas_df[\"priorTest\"] = pd.cut(compas_df.priors_count,  # creating dummy variables\n",
    "                            bins = [-np.inf, 0, 5, 9, 11, 20, 30, np.inf],\n",
    "                            labels = [\"0\", \"1-5\",\"6-9\", \"10-11\", \"12-20\", \"21-30\", \"31+\"])\n",
    "# Create another model \n",
    "X_4 = compas_df[[\"age_cat1\", \"c_charge_degree\", \"priorTest\"]]\n",
    "X4 = pd.get_dummies(X_4, columns = [\"age_cat1\", \"c_charge_degree\", \"priorTest\"], drop_first = True).values\n",
    "y = compas_df.two_year_recid\n",
    "m = LogisticRegression(solver = \"lbfgs\")\n",
    "cv = cross_val_score(m, X4, y, scoring = 'precision', cv = 10)\n",
    "print('Average Cross-validation results:', cv.mean())"
   ]
  },
  {
   "cell_type": "markdown",
   "id": "df5c58ec-eb10-4417-b35b-610a019e82e4",
   "metadata": {},
   "source": [
    "For other experiments, I tried making age, priors_count categorical and dividing them into different categories. It seems like the more complicated the model is, the worse it performs."
   ]
  },
  {
   "cell_type": "markdown",
   "id": "3f575b65-730d-474b-be27-cc814e093a39",
   "metadata": {},
   "source": [
    "    4. (4pt) Now add sex to the model. Does it help to improve the performance?    "
   ]
  },
  {
   "cell_type": "code",
   "execution_count": 19,
   "id": "00db10b5-dca4-487b-a8a9-7734c3a8785b",
   "metadata": {},
   "outputs": [
    {
     "name": "stdout",
     "output_type": "stream",
     "text": [
      "Average Cross-validation results: 0.6841012507808305\n"
     ]
    }
   ],
   "source": [
    "# Add sex to the model\n",
    "X_5 = compas_df[[\"age_squared\", \"c_charge_degree\", \"priors_count\", \"sex\"]]\n",
    "X5 = pd.get_dummies(X_5, columns = [\"c_charge_degree\", \"sex\"], drop_first = True).values\n",
    "y = compas_df.two_year_recid\n",
    "m = LogisticRegression(solver = \"lbfgs\")\n",
    "cv = cross_val_score(m, X5, y, scoring = 'precision', cv = 10)\n",
    "print('Average Cross-validation results:', cv.mean())"
   ]
  },
  {
   "cell_type": "markdown",
   "id": "6aea37f1-122a-4f68-a5d1-900c059d816c",
   "metadata": {},
   "source": [
    "After adding sex to the model, it does not help to improve the performance. "
   ]
  },
  {
   "cell_type": "markdown",
   "id": "9f515717-ef7d-4dde-a4f9-e30ccc593378",
   "metadata": {},
   "source": [
    "    5. (4pt) And finally add race. Does the model improve? Again, let’s not talk about tiny differences here."
   ]
  },
  {
   "cell_type": "code",
   "execution_count": 20,
   "id": "dcdd8466-d353-48ba-ae6c-925d56bc0fb1",
   "metadata": {
    "tags": []
   },
   "outputs": [
    {
     "name": "stdout",
     "output_type": "stream",
     "text": [
      "Average Cross-validation results: 0.6813486238036306\n"
     ]
    }
   ],
   "source": [
    "# Add race to the model\n",
    "X_6 = compas_df[[\"age_squared\", \"c_charge_degree\", \"priors_count\", \"race\", \"sex\"]]\n",
    "X6 = pd.get_dummies(X_6, columns = [\"c_charge_degree\", \"race\", \"sex\"], drop_first = True).values\n",
    "y = compas_df.two_year_recid\n",
    "m = LogisticRegression(solver = \"lbfgs\")\n",
    "cv = cross_val_score(m, X6, y, scoring = 'precision', cv = 10)\n",
    "print('Average Cross-validation results:', cv.mean())"
   ]
  },
  {
   "cell_type": "markdown",
   "id": "c6b8e5d3-0af0-46b4-8288-9e7c55f61ec2",
   "metadata": {},
   "source": [
    "After adding both race and sex, the model did not improve."
   ]
  },
  {
   "cell_type": "markdown",
   "id": "353d4a14-a4b6-47be-95bf-44173583197d",
   "metadata": {},
   "source": [
    "    6. (12pt) Discuss the results. Did you manage to be equally good as COMPAS? Did you create a better model? Do gender and race help to improve your predictions? What should judges do when having access to such models? Should they use such models?"
   ]
  },
  {
   "cell_type": "markdown",
   "id": "0a796596-9432-4570-96b6-9c9484fe45fe",
   "metadata": {},
   "source": [
    "I managed to create a better model than COMPAS in its predictive capabilities when looking at precision as a performance measure. Adding both gender and race did not seem to improve the predictions of my best performance model. However, this can also be caused by the randomness of the cross-validation as the difference between the average cross-validation results are not too different between my best performance model and the model with race and sex. Nonetheless, the difference between average cross-validation results is not big. \n",
    "\n",
    "I don't think either my model or COMPAS model are good enough in their predictions to be useful tools for the judges to use to predict recidivism. If they decide to use these models, they should take the results from these models with caution. When the features that went into the model are not public information, it is almost impossible to tell what sort of biases are present in the model. It will be perpetuated if the model is used for substantial decisions like sentence lengths for criminals."
   ]
  },
  {
   "cell_type": "markdown",
   "id": "3bfd5dbf-c482-423e-96e3-b794c427e3a8",
   "metadata": {},
   "source": [
    "# Is your model more fair? (12pt)"
   ]
  },
  {
   "cell_type": "markdown",
   "id": "e9ff2966-375c-429b-8852-af06d7041695",
   "metadata": {},
   "source": [
    "    Finally, is your model any better (or worse) than COMAPS in terms of fairness? Let’s use your model to predict recidivism for everyone (i.e. all data, ignore training-testing split), and see if you managed to FPR and FNR for African-Americans and Caucasians are now similar."
   ]
  },
  {
   "cell_type": "markdown",
   "id": "a4e6fc38-13b8-4edb-a73e-b69ba4f5771d",
   "metadata": {},
   "source": [
    "    1. (6pt) Replicate 1.7 using your best model: pick the best model from question 2.3, predict recidivism for everyone in data (ie only African-Americans and Caucasians), and compute FPR and FNR."
   ]
  },
  {
   "cell_type": "code",
   "execution_count": 21,
   "id": "56519420-a444-496e-9f13-532cf2be781a",
   "metadata": {},
   "outputs": [],
   "source": [
    "# Predict the y based on the best performance model\n",
    "m_logistic = LogisticRegression(penalty = 'none', solver = 'newton-cg').fit(X3, y)\n",
    "compas_df[\"y_predicted\"] = m_logistic.predict(X3)"
   ]
  },
  {
   "cell_type": "code",
   "execution_count": 22,
   "id": "964b6b63-99aa-4150-b344-b3b5e19c27b0",
   "metadata": {},
   "outputs": [
    {
     "data": {
      "text/plain": [
       "array([[1080,  434],\n",
       "       [ 613, 1048]])"
      ]
     },
     "execution_count": 22,
     "metadata": {},
     "output_type": "execute_result"
    }
   ],
   "source": [
    "# Filter the race for African American\n",
    "compas_AA = compas_df[compas_df.race == \"African-American\"]\n",
    "# Create a confusion matrix of recidivism and prediction for African American\n",
    "# Recidivism is positive\n",
    "cm_AA = confusion_matrix(compas_AA.two_year_recid, compas_AA.y_predicted)\n",
    "# Assign values to TN, TP, FP, FN, and total\n",
    "tn_AA = cm_AA[0, 0]\n",
    "fp_AA = cm_AA[0, 1]\n",
    "fn_AA = cm_AA[1, 0]\n",
    "tp_AA = cm_AA[1, 1]\n",
    "total_AA = compas_AA.shape[0]\n",
    "cm_AA"
   ]
  },
  {
   "cell_type": "markdown",
   "id": "3dc12668-1ec2-48f1-abdf-f52e0d6a2aa8",
   "metadata": {},
   "source": [
    "|        | Confusion Matrix for African American |        |\n",
    "| :----: | :--------: | :--------: |\n",
    "|         | Low-Risk (-) | High-Risk (+) |\n",
    "| non-recidivated (-) |      1080 (TN)    |    434 (FP)   |\n",
    "| recidivated (+) |      613 (FN)    |    1048  (TP)   |"
   ]
  },
  {
   "cell_type": "code",
   "execution_count": 23,
   "id": "82d706ed-14c7-4495-9767-9998fd7c20ef",
   "metadata": {},
   "outputs": [
    {
     "data": {
      "text/plain": [
       "array([[1099,  182],\n",
       "       [ 498,  324]])"
      ]
     },
     "execution_count": 23,
     "metadata": {},
     "output_type": "execute_result"
    }
   ],
   "source": [
    "# Filter the race for Caucasian\n",
    "compas_Caucasian = compas_df[compas_df.race == \"Caucasian\"]\n",
    "# Create a confusion matrix of recidivism and prediction for Caucasian\n",
    "# Recidivism is positive\n",
    "cm_Caucasian = confusion_matrix(compas_Caucasian.two_year_recid, compas_Caucasian.y_predicted)\n",
    "# Assign values to TN, TP, FP, FN, and total\n",
    "tn_Caucasian = cm_Caucasian[0, 0]\n",
    "fp_Caucasian = cm_Caucasian[0, 1]\n",
    "fn_Caucasian = cm_Caucasian[1, 0]\n",
    "tp_Caucasian = cm_Caucasian[1, 1]\n",
    "total_Caucasian = compas_Caucasian.shape[0]\n",
    "cm_Caucasian"
   ]
  },
  {
   "cell_type": "markdown",
   "id": "fe7af695-ab4d-4387-a91c-9b4c3b734d07",
   "metadata": {},
   "source": [
    "|        | Confusion Matrix for Caucasian |        |\n",
    "| :----: | :--------: | :--------: |\n",
    "|         | Low-Risk (-) | High-Risk (+) |\n",
    "| non-recidivated (-) |      1099 (TN)    |    182 (FP)   |\n",
    "| recidivated (+) |      498 (FN)    |    324  (TP)   |"
   ]
  },
  {
   "cell_type": "code",
   "execution_count": 24,
   "id": "a1bff653-3f3f-4964-8822-588ee8c32b28",
   "metadata": {},
   "outputs": [
    {
     "name": "stdout",
     "output_type": "stream",
     "text": [
      "Created Model accurately classifies 67.02 % of African Americans.\n",
      "Created Model accurately classifies 67.67 % of Caucasians.\n"
     ]
    }
   ],
   "source": [
    "# Find the accuracy of the COMPAS classification for African-American and Caucasians\n",
    "print(\"Created Model accurately classifies\", round((tn_AA + tp_AA) / total_AA * 100, 2), \"% of African Americans.\")\n",
    "print(\"Created Model accurately classifies\", round(((tn_Caucasian + tp_Caucasian) / total_Caucasian) * 100, 2), \"% of Caucasians.\")"
   ]
  },
  {
   "cell_type": "code",
   "execution_count": 25,
   "id": "72a8a6c9-72e2-4303-9b65-4c7726517a97",
   "metadata": {},
   "outputs": [
    {
     "name": "stdout",
     "output_type": "stream",
     "text": [
      "False Positive Rate (FPR) or False Recidivism Rate 28.67 % of African Americans.\n",
      "False Positive Rate (FPR) or False Recidivism Rate 14.21 % of Caucasians.\n"
     ]
    }
   ],
   "source": [
    "# Calculate the FPR \n",
    "print(\"False Positive Rate (FPR) or False Recidivism Rate\", round(fp_AA / (fp_AA + tn_AA) * 100, 2), \"% of African Americans.\")\n",
    "print(\"False Positive Rate (FPR) or False Recidivism Rate\", round(fp_Caucasian / (fp_Caucasian + tn_Caucasian) * 100, 2), \"% of Caucasians.\")"
   ]
  },
  {
   "cell_type": "code",
   "execution_count": 26,
   "id": "e4793014-9899-4c64-b6b9-f7bbe5c17b0c",
   "metadata": {},
   "outputs": [
    {
     "name": "stdout",
     "output_type": "stream",
     "text": [
      "False Negative Rate (FNR) or False No-Recidivism Rate 36.91 % of African Americans.\n",
      "False Negative Rate (FNR) or False No-Recidivism Rate 60.58 % of Caucasians.\n"
     ]
    }
   ],
   "source": [
    "# Calculate the FNR\n",
    "print(\"False Negative Rate (FNR) or False No-Recidivism Rate\", round(fn_AA / (fn_AA + tp_AA) * 100, 2), \"% of African Americans.\")\n",
    "print(\"False Negative Rate (FNR) or False No-Recidivism Rate\", round(fn_Caucasian / (fn_Caucasian + tp_Caucasian) * 100, 2), \"% of Caucasians.\")"
   ]
  },
  {
   "cell_type": "markdown",
   "id": "41b69220-60d7-4247-8a3b-ba687f4cab90",
   "metadata": {},
   "source": [
    "    2. (6pt) Explain what do you get. Are your results different from COMPAS in any significant way?"
   ]
  },
  {
   "cell_type": "markdown",
   "id": "7ce65841-aa2b-434c-91b0-ec42a1538f47",
   "metadata": {},
   "source": [
    "In terms of accuracy, my model does slightly better than the COMPAS model as the accuracy improves by about 3% for African Americans. In terms of the False Positive Rate, my model also performs better as the FPR drops about 14% and 8% for African Americans and Caucasians. In terms of FNR, my model performs worse than COMPAS as the FNR increases by about 8% and 11% for African Americans and Caucasians."
   ]
  }
 ],
 "metadata": {
  "kernelspec": {
   "display_name": "Python 3 (ipykernel)",
   "language": "python",
   "name": "python3"
  },
  "language_info": {
   "codemirror_mode": {
    "name": "ipython",
    "version": 3
   },
   "file_extension": ".py",
   "mimetype": "text/x-python",
   "name": "python",
   "nbconvert_exporter": "python",
   "pygments_lexer": "ipython3",
   "version": "3.9.7"
  }
 },
 "nbformat": 4,
 "nbformat_minor": 5
}
